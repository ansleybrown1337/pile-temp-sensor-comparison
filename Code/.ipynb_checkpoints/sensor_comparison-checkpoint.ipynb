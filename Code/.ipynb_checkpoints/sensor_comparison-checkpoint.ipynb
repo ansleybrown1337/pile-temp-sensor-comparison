{
 "cells": [
  {
   "cell_type": "markdown",
   "id": "97d4f093-1aee-4183-8933-963439234522",
   "metadata": {},
   "source": [
    "# Cercospora Sensor Comparisons - 2022"
   ]
  },
  {
   "cell_type": "markdown",
   "id": "6dbcddbe-26eb-473e-993f-7c1b249a56cb",
   "metadata": {},
   "source": [
    "A.J. Brown  \n",
    "ansley.brown@colostate.edu  \n",
    "CSU Agriculture Water Quality Program  \n",
    "23 September 2022"
   ]
  },
  {
   "cell_type": "code",
   "execution_count": 1,
   "id": "8ce56e9b-ae14-4481-b951-cbaeac2fcb5e",
   "metadata": {},
   "outputs": [],
   "source": [
    "# To convert to html and hide code, run the following console command in the same directory as the ipynb:\n",
    "# jupyter nbconvert YourNotebook.ipynb --no-input --to html\n",
    "# DO NOT use the export in Jupyter Lab"
   ]
  },
  {
   "cell_type": "markdown",
   "id": "ccf7edde-0ba6-412c-a9e3-5d7a275acd2e",
   "metadata": {
    "tags": []
   },
   "source": [
    "## Table of contents\n",
    "1. [Executive Summary](#legend)\n",
    "2. [Sensor Locations and IDs](#map)\n",
    "3. [Interactive Graphics](#graphics)\n",
    "    1. [Temperature](#temp)\n",
    "    2. [Humidity](#rh)\n",
    "4. [Table of Raw Data](#data)"
   ]
  },
  {
   "cell_type": "markdown",
   "id": "47488069-242a-426b-951f-319f62e7cf6e",
   "metadata": {},
   "source": [
    "## Executive Summary <a name=\"legend\"></a>\n",
    "In 2022, the Colorado State University (CSU) Agriculture Water Quality Program (AWQP), in collaboration with Wester Sugar (WS), prototyped and deployed four temperature (T) and relative humidity (RH) sensors to determine daily infection values (DIVs) for CLS with the help of University of Nebraska-Lincoln collaborators. Furthermore, CSU AWQP prototyped and developed 14 sugar beet pile sensors to monitor T continuously that are still deployed to date (19 Dec. 2022). This report details the methods and performance of developed sensors and makes recommendations for further research.\n",
    "\n",
    "CSU sensors are in general agreeance with the WS thermometers and sensors within 2°F, which would suggest they could be a reasonable substitute.  This provides great advantage to managers, however, as the CSU sensors provide data every 2 hours as opposed to once a day.  Additionally, data can be acquired from a mobile device or computer using the same data portal used for the CLS sensors (for security and convenience) as opposed to walking on top of each sugar beet pile and extracting thermometers manually.\n",
    "\n",
    "Using the cloud capabilities of the CSU sensors, sugar beet pile temperatures were able to be monitored live via the cloud platform, Ubidots, where a custom data portal was created for WS.\n",
    "\n",
    "Moving forward, CSU intends to continue and expand collaborations with WSC and UNL to provide growers with the information needed most for better pile temperature management."
   ]
  },
  {
   "cell_type": "code",
   "execution_count": 2,
   "id": "1f83836e-7ef2-425b-bdb8-8fd68a6617dc",
   "metadata": {},
   "outputs": [],
   "source": [
    "# Import libraries\n",
    "import geopandas as gpd\n",
    "import numpy as np\n",
    "import pandas as pd\n",
    "import seaborn as sns\n",
    "import plotly.express as px\n",
    "import matplotlib.pyplot as plt\n",
    "from itables import show\n",
    "from statsmodels.tools.eval_measures import rmse"
   ]
  },
  {
   "cell_type": "code",
   "execution_count": 3,
   "id": "e14e75f0-54b5-43ee-a432-4bfcc18f31da",
   "metadata": {},
   "outputs": [],
   "source": [
    "# Import data\n",
    "df = pd.read_csv(r\"C:\\Users\\AJ-CPU\\Documents\\GitHub\\pile-temp-sensor-comparison\\Data\\pt_comparison_data.csv\", na_values=['-'])"
   ]
  },
  {
   "cell_type": "code",
   "execution_count": 4,
   "id": "8a19621b-7ef4-483e-a346-06d08c759bca",
   "metadata": {},
   "outputs": [],
   "source": [
    "# Data Cleaning \n",
    "## clean whitespace from column names\n",
    "df.columns = df.columns.str.replace(' ', '')\n",
    "dfx = df.copy()\n",
    "## Make column names uppercase\n",
    "df.columns = df.columns.str.upper()"
   ]
  },
  {
   "cell_type": "code",
   "execution_count": 5,
   "id": "1d9af30a-02a8-4e5c-ab74-772cfba37fa0",
   "metadata": {},
   "outputs": [],
   "source": [
    "#converting to type numeric as possible <- only run this block once, else you will encounter errors\n",
    "df = df.apply(pd.to_numeric, errors='ignore')"
   ]
  },
  {
   "cell_type": "code",
   "execution_count": 6,
   "id": "08249227-5730-40f6-a13d-f09fa3848e09",
   "metadata": {},
   "outputs": [],
   "source": [
    "## Make 'TIME' into a datetime format\n",
    "df['DATE'] = pd.to_datetime(df['DATE'].astype(str))"
   ]
  },
  {
   "cell_type": "code",
   "execution_count": 9,
   "id": "7c604aa0-3741-424a-96c5-76eb5f45d6d4",
   "metadata": {},
   "outputs": [],
   "source": [
    "#create CSU and WS dataframes and merge by nearest timestamp and location for comparison\n",
    "csu_df = df[df['OWNER'] == 'CSU'].sort_values(by='DATE').dropna(how='any')\n",
    "ws_df = df[df['OWNER'] == 'Western Sugar'].sort_values(by='DATE').dropna(how='any')\n",
    "merged_df = pd.merge(csu_df, ws_df,\n",
    "                          on=['DATE','GROUP','PILE-TYPE','LOCATION'],\n",
    "                          suffixes=('_CSU', '_WS'))"
   ]
  },
  {
   "cell_type": "markdown",
   "id": "65178006-61da-4722-b410-86c28aab6e4b",
   "metadata": {
    "tags": []
   },
   "source": [
    "## Interactive Graphics (Hover over graphs with mouse to get additional info) <a name=\"graphics\"></a>"
   ]
  },
  {
   "cell_type": "markdown",
   "id": "610200ce-0c16-4c53-886b-00691728e2d9",
   "metadata": {
    "tags": []
   },
   "source": [
    "### Temperature Comparison (Farenheit) <a name=\"temp\"></a>"
   ]
  },
  {
   "cell_type": "markdown",
   "id": "27994962-acfd-4c76-a20d-6dc4de64a3e4",
   "metadata": {
    "tags": []
   },
   "source": [
    "#### 1:1 Plot Stratified by Comparison Group (i.e., pairs of CSU and WS sensors placed next to each other)"
   ]
  },
  {
   "cell_type": "code",
   "execution_count": null,
   "id": "749d4095-5878-4596-8a40-c4c98b763b99",
   "metadata": {},
   "outputs": [],
   "source": [
    "rmse_cond = 'PILE-TYPE' # Variable to decide how to stratify RMSE results and coloring in graph"
   ]
  },
  {
   "cell_type": "code",
   "execution_count": null,
   "id": "aa6d453f-19d3-4234-9381-176e03dd39b3",
   "metadata": {},
   "outputs": [],
   "source": [
    "fig_temp = px.scatter(\n",
    "           merged_df, \n",
    "           x=\"TEMP_CSU\", \n",
    "           y=\"TEMP_WS\",\n",
    "           facet_col=rmse_cond,\n",
    "           facet_col_wrap = 4,\n",
    "           color = 'GROUP',\n",
    "           trendline='ols',\n",
    "           trendline_color_override='black',\n",
    "           hover_data=['DATE'],\n",
    "           template='simple_white',\n",
    "           opacity=0.5\n",
    ")\n",
    "fig_temp.update_yaxes(\n",
    "         scaleanchor = \"x\",\n",
    "         scaleratio = 1,\n",
    ")\n",
    "fig_temp.show()"
   ]
  },
  {
   "cell_type": "code",
   "execution_count": null,
   "id": "3cce9fa2-08d5-4d99-a121-f24e330d9f6b",
   "metadata": {},
   "outputs": [],
   "source": [
    "# Uncomment for fixed 1:1 plots\n",
    "sns.set(font_scale=2) # make font bigger\n",
    "sns.set_style(\"whitegrid\")\n",
    "fixed_temp_fig = sns.relplot(data=merged_df,\n",
    "                            x='TEMP_CSU',\n",
    "                            y='TEMP_WS',\n",
    "                            col='PILE-TYPE',\n",
    "                            #col_wrap = 2,\n",
    "                            hue=rmse_cond,\n",
    "                            style='LOCATION'\n",
    "                            )\n",
    "                            #line_kws={'color':'black'},\n",
    "                            #scatter_kws={'alpha':0.5},\n",
    "                            #ci=95)\n",
    "fixed_temp_fig.map_dataframe(lambda data, **kws: plt.axline((1, 0), slope=1, color='black', linestyle='--')) # applies the fxn: y = 1*x - 0\n",
    "fixed_temp_fig.set(xlim=(25,None), ylim=(25,None))\n",
    "#fixed_temp_fig.add_legend()\n",
    "plt.savefig('group_comparisons.png')\n",
    "plt.show()"
   ]
  },
  {
   "cell_type": "code",
   "execution_count": 22,
   "id": "4329d3ce-9dd3-48a6-be9c-1bb1c3c21c57",
   "metadata": {},
   "outputs": [],
   "source": [
    "results_temp = px.get_trendline_results(fig_temp)\n",
    "#print(results)"
   ]
  },
  {
   "cell_type": "code",
   "execution_count": 23,
   "id": "5a25cd2d-6abe-4800-9ff8-93b73d101437",
   "metadata": {},
   "outputs": [],
   "source": [
    "def rmse_vals(results, unit, group='PILE-TYPE'):\n",
    "    rmseList = []\n",
    "    for i in range(len(results)):\n",
    "        rmse = (sum(np.square(results.iloc[i]['px_fit_results'].resid))/len(results.iloc[i]['px_fit_results'].resid))**(0.5)\n",
    "        loc_names = results[group][i]\n",
    "        rmseList.append(rmse)\n",
    "        print('The Root Mean Squared Error (RMSE) for {} is +/- {:.2f} {}'.format(loc_names, rmse, unit))\n",
    "    print('The mean RMSE over all groups is +/- {:.2f} {}'.format(np.average(rmseList), unit))"
   ]
  },
  {
   "cell_type": "code",
   "execution_count": 24,
   "id": "3e5e0c4f-00b3-4785-a640-6148795efeab",
   "metadata": {},
   "outputs": [
    {
     "ename": "KeyError",
     "evalue": "'PILE-TYPE'",
     "output_type": "error",
     "traceback": [
      "\u001b[1;31m---------------------------------------------------------------------------\u001b[0m",
      "\u001b[1;31mKeyError\u001b[0m                                  Traceback (most recent call last)",
      "File \u001b[1;32mC:\\ProgramData\\Miniconda3\\envs\\playground2\\lib\\site-packages\\pandas\\core\\indexes\\base.py:3361\u001b[0m, in \u001b[0;36mIndex.get_loc\u001b[1;34m(self, key, method, tolerance)\u001b[0m\n\u001b[0;32m   3360\u001b[0m \u001b[38;5;28;01mtry\u001b[39;00m:\n\u001b[1;32m-> 3361\u001b[0m     \u001b[38;5;28;01mreturn\u001b[39;00m \u001b[38;5;28;43mself\u001b[39;49m\u001b[38;5;241;43m.\u001b[39;49m\u001b[43m_engine\u001b[49m\u001b[38;5;241;43m.\u001b[39;49m\u001b[43mget_loc\u001b[49m\u001b[43m(\u001b[49m\u001b[43mcasted_key\u001b[49m\u001b[43m)\u001b[49m\n\u001b[0;32m   3362\u001b[0m \u001b[38;5;28;01mexcept\u001b[39;00m \u001b[38;5;167;01mKeyError\u001b[39;00m \u001b[38;5;28;01mas\u001b[39;00m err:\n",
      "File \u001b[1;32mC:\\ProgramData\\Miniconda3\\envs\\playground2\\lib\\site-packages\\pandas\\_libs\\index.pyx:76\u001b[0m, in \u001b[0;36mpandas._libs.index.IndexEngine.get_loc\u001b[1;34m()\u001b[0m\n",
      "File \u001b[1;32mC:\\ProgramData\\Miniconda3\\envs\\playground2\\lib\\site-packages\\pandas\\_libs\\index.pyx:108\u001b[0m, in \u001b[0;36mpandas._libs.index.IndexEngine.get_loc\u001b[1;34m()\u001b[0m\n",
      "File \u001b[1;32mpandas\\_libs\\hashtable_class_helper.pxi:5198\u001b[0m, in \u001b[0;36mpandas._libs.hashtable.PyObjectHashTable.get_item\u001b[1;34m()\u001b[0m\n",
      "File \u001b[1;32mpandas\\_libs\\hashtable_class_helper.pxi:5206\u001b[0m, in \u001b[0;36mpandas._libs.hashtable.PyObjectHashTable.get_item\u001b[1;34m()\u001b[0m\n",
      "\u001b[1;31mKeyError\u001b[0m: 'PILE-TYPE'",
      "\nThe above exception was the direct cause of the following exception:\n",
      "\u001b[1;31mKeyError\u001b[0m                                  Traceback (most recent call last)",
      "Cell \u001b[1;32mIn[24], line 1\u001b[0m\n\u001b[1;32m----> 1\u001b[0m \u001b[43mrmse_vals\u001b[49m\u001b[43m(\u001b[49m\u001b[43mresults_temp\u001b[49m\u001b[43m,\u001b[49m\u001b[43m \u001b[49m\u001b[43mgroup\u001b[49m\u001b[38;5;241;43m=\u001b[39;49m\u001b[43mrmse_cond\u001b[49m\u001b[43m,\u001b[49m\u001b[43m \u001b[49m\u001b[43munit\u001b[49m\u001b[38;5;241;43m=\u001b[39;49m\u001b[38;5;124;43m'\u001b[39;49m\u001b[38;5;124;43mFarenheit\u001b[39;49m\u001b[38;5;124;43m'\u001b[39;49m\u001b[43m)\u001b[49m\n",
      "Cell \u001b[1;32mIn[23], line 5\u001b[0m, in \u001b[0;36mrmse_vals\u001b[1;34m(results, unit, group)\u001b[0m\n\u001b[0;32m      3\u001b[0m \u001b[38;5;28;01mfor\u001b[39;00m i \u001b[38;5;129;01min\u001b[39;00m \u001b[38;5;28mrange\u001b[39m(\u001b[38;5;28mlen\u001b[39m(results)):\n\u001b[0;32m      4\u001b[0m     rmse \u001b[38;5;241m=\u001b[39m (\u001b[38;5;28msum\u001b[39m(np\u001b[38;5;241m.\u001b[39msquare(results\u001b[38;5;241m.\u001b[39miloc[i][\u001b[38;5;124m'\u001b[39m\u001b[38;5;124mpx_fit_results\u001b[39m\u001b[38;5;124m'\u001b[39m]\u001b[38;5;241m.\u001b[39mresid))\u001b[38;5;241m/\u001b[39m\u001b[38;5;28mlen\u001b[39m(results\u001b[38;5;241m.\u001b[39miloc[i][\u001b[38;5;124m'\u001b[39m\u001b[38;5;124mpx_fit_results\u001b[39m\u001b[38;5;124m'\u001b[39m]\u001b[38;5;241m.\u001b[39mresid))\u001b[38;5;241m*\u001b[39m\u001b[38;5;241m*\u001b[39m(\u001b[38;5;241m0.5\u001b[39m)\n\u001b[1;32m----> 5\u001b[0m     loc_names \u001b[38;5;241m=\u001b[39m \u001b[43mresults\u001b[49m\u001b[43m[\u001b[49m\u001b[43mgroup\u001b[49m\u001b[43m]\u001b[49m[i]\n\u001b[0;32m      6\u001b[0m     rmseList\u001b[38;5;241m.\u001b[39mappend(rmse)\n\u001b[0;32m      7\u001b[0m     \u001b[38;5;28mprint\u001b[39m(\u001b[38;5;124m'\u001b[39m\u001b[38;5;124mThe Root Mean Squared Error (RMSE) for \u001b[39m\u001b[38;5;132;01m{}\u001b[39;00m\u001b[38;5;124m is +/- \u001b[39m\u001b[38;5;132;01m{:.2f}\u001b[39;00m\u001b[38;5;124m \u001b[39m\u001b[38;5;132;01m{}\u001b[39;00m\u001b[38;5;124m'\u001b[39m\u001b[38;5;241m.\u001b[39mformat(loc_names, rmse, unit))\n",
      "File \u001b[1;32mC:\\ProgramData\\Miniconda3\\envs\\playground2\\lib\\site-packages\\pandas\\core\\frame.py:3455\u001b[0m, in \u001b[0;36mDataFrame.__getitem__\u001b[1;34m(self, key)\u001b[0m\n\u001b[0;32m   3453\u001b[0m \u001b[38;5;28;01mif\u001b[39;00m \u001b[38;5;28mself\u001b[39m\u001b[38;5;241m.\u001b[39mcolumns\u001b[38;5;241m.\u001b[39mnlevels \u001b[38;5;241m>\u001b[39m \u001b[38;5;241m1\u001b[39m:\n\u001b[0;32m   3454\u001b[0m     \u001b[38;5;28;01mreturn\u001b[39;00m \u001b[38;5;28mself\u001b[39m\u001b[38;5;241m.\u001b[39m_getitem_multilevel(key)\n\u001b[1;32m-> 3455\u001b[0m indexer \u001b[38;5;241m=\u001b[39m \u001b[38;5;28;43mself\u001b[39;49m\u001b[38;5;241;43m.\u001b[39;49m\u001b[43mcolumns\u001b[49m\u001b[38;5;241;43m.\u001b[39;49m\u001b[43mget_loc\u001b[49m\u001b[43m(\u001b[49m\u001b[43mkey\u001b[49m\u001b[43m)\u001b[49m\n\u001b[0;32m   3456\u001b[0m \u001b[38;5;28;01mif\u001b[39;00m is_integer(indexer):\n\u001b[0;32m   3457\u001b[0m     indexer \u001b[38;5;241m=\u001b[39m [indexer]\n",
      "File \u001b[1;32mC:\\ProgramData\\Miniconda3\\envs\\playground2\\lib\\site-packages\\pandas\\core\\indexes\\base.py:3363\u001b[0m, in \u001b[0;36mIndex.get_loc\u001b[1;34m(self, key, method, tolerance)\u001b[0m\n\u001b[0;32m   3361\u001b[0m         \u001b[38;5;28;01mreturn\u001b[39;00m \u001b[38;5;28mself\u001b[39m\u001b[38;5;241m.\u001b[39m_engine\u001b[38;5;241m.\u001b[39mget_loc(casted_key)\n\u001b[0;32m   3362\u001b[0m     \u001b[38;5;28;01mexcept\u001b[39;00m \u001b[38;5;167;01mKeyError\u001b[39;00m \u001b[38;5;28;01mas\u001b[39;00m err:\n\u001b[1;32m-> 3363\u001b[0m         \u001b[38;5;28;01mraise\u001b[39;00m \u001b[38;5;167;01mKeyError\u001b[39;00m(key) \u001b[38;5;28;01mfrom\u001b[39;00m \u001b[38;5;21;01merr\u001b[39;00m\n\u001b[0;32m   3365\u001b[0m \u001b[38;5;28;01mif\u001b[39;00m is_scalar(key) \u001b[38;5;129;01mand\u001b[39;00m isna(key) \u001b[38;5;129;01mand\u001b[39;00m \u001b[38;5;129;01mnot\u001b[39;00m \u001b[38;5;28mself\u001b[39m\u001b[38;5;241m.\u001b[39mhasnans:\n\u001b[0;32m   3366\u001b[0m     \u001b[38;5;28;01mraise\u001b[39;00m \u001b[38;5;167;01mKeyError\u001b[39;00m(key)\n",
      "\u001b[1;31mKeyError\u001b[0m: 'PILE-TYPE'"
     ]
    }
   ],
   "source": [
    "rmse_vals(results_temp, group=rmse_cond, unit='Farenheit')"
   ]
  },
  {
   "cell_type": "markdown",
   "id": "b8ed0944-093e-41ce-a37f-2b7d8fab51e7",
   "metadata": {},
   "source": [
    "#### Timeseries Plots Stratified by Location"
   ]
  },
  {
   "cell_type": "code",
   "execution_count": null,
   "id": "b48437a4-fb5f-41ef-bbab-5e889672473e",
   "metadata": {},
   "outputs": [],
   "source": [
    "fig_temp_time = px.line(\n",
    "    df.sort_values(by='DATE').dropna(), \n",
    "    x=\"DATE\", \n",
    "    y=\"TEMP\",\n",
    "    color = 'OWNER',\n",
    "    facet_col=\"GROUP\",\n",
    "    template='simple_white'\n",
    ")\n",
    "fig_temp_time.update_traces(opacity=0.7)\n",
    "fig_temp_time.show()"
   ]
  },
  {
   "cell_type": "markdown",
   "id": "fadfe271-e1b4-4f4a-9e87-5869ccd508c6",
   "metadata": {},
   "source": [
    "## Table of Raw Data <a name=\"data\"></a>"
   ]
  },
  {
   "cell_type": "code",
   "execution_count": null,
   "id": "b7344b93-0df0-4053-b66c-8731b5182d78",
   "metadata": {},
   "outputs": [],
   "source": [
    "show(merged_df)"
   ]
  }
 ],
 "metadata": {
  "kernelspec": {
   "display_name": "Python 3 (ipykernel)",
   "language": "python",
   "name": "python3"
  },
  "language_info": {
   "codemirror_mode": {
    "name": "ipython",
    "version": 3
   },
   "file_extension": ".py",
   "mimetype": "text/x-python",
   "name": "python",
   "nbconvert_exporter": "python",
   "pygments_lexer": "ipython3",
   "version": "3.9.6"
  },
  "vscode": {
   "interpreter": {
    "hash": "1f48b8378d34421c87285c49e5c56c2bdbc60e3524eefe52bc5647dd35fb2914"
   }
  }
 },
 "nbformat": 4,
 "nbformat_minor": 5
}
