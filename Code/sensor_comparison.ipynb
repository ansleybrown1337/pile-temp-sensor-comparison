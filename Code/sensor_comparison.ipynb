{
 "cells": [
  {
   "cell_type": "markdown",
   "id": "97d4f093-1aee-4183-8933-963439234522",
   "metadata": {},
   "source": [
    "# Cercospora Sensor Comparisons - 2022"
   ]
  },
  {
   "cell_type": "markdown",
   "id": "6dbcddbe-26eb-473e-993f-7c1b249a56cb",
   "metadata": {},
   "source": [
    "A.J. Brown  \n",
    "ansley.brown@colostate.edu  \n",
    "CSU Agriculture Water Quality Program  \n",
    "23 September 2022"
   ]
  },
  {
   "cell_type": "code",
   "execution_count": 1,
   "id": "8ce56e9b-ae14-4481-b951-cbaeac2fcb5e",
   "metadata": {},
   "outputs": [],
   "source": [
    "# To convert to html and hide code, run the following console command in the same directory as the ipynb:\n",
    "# jupyter nbconvert YourNotebook.ipynb --no-input --to html\n",
    "# DO NOT use the export in Jupyter Lab"
   ]
  },
  {
   "cell_type": "markdown",
   "id": "ccf7edde-0ba6-412c-a9e3-5d7a275acd2e",
   "metadata": {
    "tags": []
   },
   "source": [
    "## Table of contents\n",
    "1. [Executive Summary](#legend)\n",
    "2. [Sensor Locations and IDs](#map)\n",
    "3. [Interactive Graphics](#graphics)\n",
    "    1. [Temperature](#temp)\n",
    "    2. [Humidity](#rh)\n",
    "4. [Table of Raw Data](#data)"
   ]
  },
  {
   "cell_type": "markdown",
   "id": "47488069-242a-426b-951f-319f62e7cf6e",
   "metadata": {},
   "source": [
    "## Executive Summary <a name=\"legend\"></a>\n",
    "In 2022, the Colorado State University (CSU) Agriculture Water Quality Program (AWQP), in collaboration with Wester Sugar (WS), prototyped and deployed four temperature (T) and relative humidity (RH) sensors to determine daily infection values (DIVs) for CLS with the help of University of Nebraska-Lincoln collaborators. Furthermore, CSU AWQP prototyped and developed 14 sugar beet pile sensors to monitor T continuously that are still deployed to date (19 Dec. 2022). This report details the methods and performance of developed sensors and makes recommendations for further research.\n",
    "\n",
    "CSU sensors are in general agreeance with the WS thermometers and sensors within 2°F, which would suggest they could be a reasonable substitute.  This provides great advantage to managers, however, as the CSU sensors provide data every 2 hours as opposed to once a day.  Additionally, data can be acquired from a mobile device or computer using the same data portal used for the CLS sensors (for security and convenience) as opposed to walking on top of each sugar beet pile and extracting thermometers manually.\n",
    "\n",
    "Using the cloud capabilities of the CSU sensors, sugar beet pile temperatures were able to be monitored live via the cloud platform, Ubidots, where a custom data portal was created for WS.\n",
    "\n",
    "Moving forward, CSU intends to continue and expand collaborations with WSC and UNL to provide growers with the information needed most for better pile temperature management."
   ]
  },
  {
   "cell_type": "code",
   "execution_count": 2,
   "id": "1f83836e-7ef2-425b-bdb8-8fd68a6617dc",
   "metadata": {},
   "outputs": [],
   "source": [
    "# Import libraries\n",
    "import geopandas as gpd\n",
    "import numpy as np\n",
    "import pandas as pd\n",
    "import seaborn as sns\n",
    "import plotly.express as px\n",
    "import matplotlib.pyplot as plt\n",
    "from itables import show\n",
    "from statsmodels.tools.eval_measures import rmse"
   ]
  },
  {
   "cell_type": "code",
   "execution_count": 3,
   "id": "e14e75f0-54b5-43ee-a432-4bfcc18f31da",
   "metadata": {},
   "outputs": [],
   "source": [
    "# Import data\n",
    "df = pd.read_csv(r\"C:\\Users\\ansleybr\\Documents\\GitHub\\pile-temp-sensor-comparison\\Data\\pt_comparison_data.csv\", na_values=['-'])"
   ]
  },
  {
   "cell_type": "code",
   "execution_count": 4,
   "id": "8a19621b-7ef4-483e-a346-06d08c759bca",
   "metadata": {},
   "outputs": [],
   "source": [
    "# Data Cleaning \n",
    "## clean whitespace from column names\n",
    "df.columns = df.columns.str.replace(' ', '')\n",
    "dfx = df.copy()\n",
    "## Make column names uppercase\n",
    "df.columns = df.columns.str.upper()"
   ]
  },
  {
   "cell_type": "code",
   "execution_count": 5,
   "id": "1d9af30a-02a8-4e5c-ab74-772cfba37fa0",
   "metadata": {},
   "outputs": [],
   "source": [
    "#converting to type numeric as possible <- only run this block once, else you will encounter errors\n",
    "df = df.apply(pd.to_numeric, errors='ignore')"
   ]
  },
  {
   "cell_type": "code",
   "execution_count": 6,
   "id": "08249227-5730-40f6-a13d-f09fa3848e09",
   "metadata": {},
   "outputs": [],
   "source": [
    "## Make 'TIME' into a datetime format\n",
    "df['DATE'] = pd.to_datetime(df['DATE'].astype(str))"
   ]
  },
  {
   "cell_type": "code",
   "execution_count": 12,
   "id": "7c604aa0-3741-424a-96c5-76eb5f45d6d4",
   "metadata": {},
   "outputs": [],
   "source": [
    "#create CSU and WS dataframes and merge by nearest timestamp and location for comparison\n",
    "csu_df = df[df['OWNER'] == 'CSU'].sort_values(by='DATE').dropna(how='any')\n",
    "ws_df = df[df['OWNER'] == 'Western Sugar'].sort_values(by='DATE').dropna(how='any')\n",
    "merged_df = pd.merge(csu_df, ws_df,\n",
    "                          on=['DATE','GROUP','PILE-TYPE','LOCATION'],\n",
    "                          suffixes=('_CSU', '_WS'))"
   ]
  },
  {
   "cell_type": "code",
   "execution_count": 21,
   "id": "7e3a40e0",
   "metadata": {},
   "outputs": [
    {
     "data": {
      "text/plain": [
       "0      Western Sugar\n",
       "1                CSU\n",
       "2      Western Sugar\n",
       "3                CSU\n",
       "4      Western Sugar\n",
       "           ...      \n",
       "114    Western Sugar\n",
       "115              CSU\n",
       "116    Western Sugar\n",
       "117              CSU\n",
       "118              NaN\n",
       "Name: OWNER, Length: 119, dtype: object"
      ]
     },
     "execution_count": 21,
     "metadata": {},
     "output_type": "execute_result"
    }
   ],
   "source": [
    "df.OWNER"
   ]
  },
  {
   "cell_type": "markdown",
   "id": "65178006-61da-4722-b410-86c28aab6e4b",
   "metadata": {
    "tags": []
   },
   "source": [
    "## Interactive Graphics (Hover over graphs with mouse to get additional info) <a name=\"graphics\"></a>"
   ]
  },
  {
   "cell_type": "markdown",
   "id": "610200ce-0c16-4c53-886b-00691728e2d9",
   "metadata": {
    "tags": []
   },
   "source": [
    "### Temperature Comparison (Farenheit) <a name=\"temp\"></a>"
   ]
  },
  {
   "cell_type": "markdown",
   "id": "27994962-acfd-4c76-a20d-6dc4de64a3e4",
   "metadata": {
    "tags": []
   },
   "source": [
    "#### 1:1 Plot Stratified by Comparison Group (i.e., pairs of CSU and WS sensors placed next to each other)"
   ]
  },
  {
   "cell_type": "code",
   "execution_count": 7,
   "id": "aa6d453f-19d3-4234-9381-176e03dd39b3",
   "metadata": {},
   "outputs": [
    {
     "data": {
      "application/vnd.plotly.v1+json": {
       "config": {
        "plotlyServerURL": "https://plot.ly"
       },
       "data": [
        {
         "customdata": [
          [
           "11/11/2022"
          ],
          [
           "11/15/2022"
          ],
          [
           "11/20/2022"
          ],
          [
           "11/25/2022"
          ],
          [
           "11/28/2022"
          ],
          [
           "12/10/2022"
          ],
          [
           "12/12/2022"
          ],
          [
           "12/2/2022"
          ]
         ],
         "hovertemplate": "GROUP=A<br>TEMP_CSU=%{x}<br>TEMP_WS=%{y}<br>DATE=%{customdata[0]}<extra></extra>",
         "legendgroup": "A",
         "marker": {
          "color": "#1F77B4",
          "opacity": 0.5,
          "symbol": "circle"
         },
         "mode": "markers",
         "name": "A",
         "orientation": "v",
         "showlegend": true,
         "type": "scatter",
         "x": [
          35.3,
          35,
          34.6,
          32.8,
          33.6,
          35.3,
          37.1,
          35.3
         ],
         "xaxis": "x5",
         "y": [
          34.8,
          34.8,
          34.4,
          34.2,
          34,
          35,
          36.6,
          35
         ],
         "yaxis": "y5"
        },
        {
         "hovertemplate": "<b>OLS trendline</b><br>TEMP_WS = 0.568823 * TEMP_CSU + 15.0123<br>R<sup>2</sup>=0.835379<br><br>GROUP=A<br>TEMP_CSU=%{x}<br>TEMP_WS=%{y} <b>(trend)</b><extra></extra>",
         "legendgroup": "A",
         "line": {
          "color": "black"
         },
         "marker": {
          "color": "#1F77B4",
          "symbol": "circle"
         },
         "mode": "lines",
         "name": "A",
         "showlegend": false,
         "type": "scatter",
         "x": [
          32.8,
          33.6,
          34.6,
          35,
          35.3,
          35.3,
          35.3,
          37.1
         ],
         "xaxis": "x5",
         "y": [
          33.66969170646988,
          34.124750325662234,
          34.69357359965268,
          34.92110290924886,
          35.091749891445986,
          35.091749891445986,
          35.091749891445986,
          36.11563178462879
         ],
         "yaxis": "y5"
        },
        {
         "customdata": [
          [
           "11/11/2022"
          ],
          [
           "11/15/2022"
          ],
          [
           "11/20/2022"
          ],
          [
           "11/25/2022"
          ],
          [
           "11/28/2022"
          ],
          [
           "12/10/2022"
          ],
          [
           "12/12/2022"
          ],
          [
           "12/2/2022"
          ]
         ],
         "hovertemplate": "GROUP=C<br>TEMP_CSU=%{x}<br>TEMP_WS=%{y}<br>DATE=%{customdata[0]}<extra></extra>",
         "legendgroup": "C",
         "marker": {
          "color": "#FF7F0E",
          "opacity": 0.5,
          "symbol": "circle"
         },
         "mode": "markers",
         "name": "C",
         "orientation": "v",
         "showlegend": true,
         "type": "scatter",
         "x": [
          36.2,
          35.1,
          34.1,
          33.6,
          33.6,
          30.9,
          31,
          32.7
         ],
         "xaxis": "x6",
         "y": [
          36,
          34.8,
          34.6,
          34.6,
          35.4,
          35.4,
          32.4,
          35
         ],
         "yaxis": "y6"
        },
        {
         "hovertemplate": "<b>OLS trendline</b><br>TEMP_WS = 0.311765 * TEMP_CSU + 24.3621<br>R<sup>2</sup>=0.287902<br><br>GROUP=C<br>TEMP_CSU=%{x}<br>TEMP_WS=%{y} <b>(trend)</b><extra></extra>",
         "legendgroup": "C",
         "line": {
          "color": "black"
         },
         "marker": {
          "color": "#FF7F0E",
          "symbol": "circle"
         },
         "mode": "lines",
         "name": "C",
         "showlegend": false,
         "type": "scatter",
         "x": [
          30.9,
          31,
          32.7,
          33.6,
          33.6,
          34.1,
          35.1,
          36.2
         ],
         "xaxis": "x6",
         "y": [
          33.995588235294065,
          34.0267647058823,
          34.5567647058823,
          34.83735294117642,
          34.83735294117642,
          34.993235294117596,
          35.30499999999995,
          35.64794117647054
         ],
         "yaxis": "y6"
        },
        {
         "customdata": [
          [
           "11/11/2022"
          ],
          [
           "11/15/2022"
          ],
          [
           "11/20/2022"
          ],
          [
           "11/25/2022"
          ],
          [
           "11/28/2022"
          ],
          [
           "11/8/2022"
          ],
          [
           "12/10/2022"
          ],
          [
           "12/12/2022"
          ],
          [
           "12/5/2022"
          ]
         ],
         "hovertemplate": "GROUP=G<br>TEMP_CSU=%{x}<br>TEMP_WS=%{y}<br>DATE=%{customdata[0]}<extra></extra>",
         "legendgroup": "G",
         "marker": {
          "color": "#2CA02C",
          "opacity": 0.5,
          "symbol": "circle"
         },
         "mode": "markers",
         "name": "G",
         "orientation": "v",
         "showlegend": true,
         "type": "scatter",
         "x": [
          53,
          41.2,
          42.6,
          42.8,
          40.3,
          56,
          39.5,
          29.5,
          31.4
         ],
         "xaxis": "x7",
         "y": [
          42,
          43,
          39,
          42,
          42,
          54,
          36,
          30,
          34
         ],
         "yaxis": "y7"
        },
        {
         "hovertemplate": "<b>OLS trendline</b><br>TEMP_WS = 0.691494 * TEMP_CSU + 11.3101<br>R<sup>2</sup>=0.771246<br><br>GROUP=G<br>TEMP_CSU=%{x}<br>TEMP_WS=%{y} <b>(trend)</b><extra></extra>",
         "legendgroup": "G",
         "line": {
          "color": "black"
         },
         "marker": {
          "color": "#2CA02C",
          "symbol": "circle"
         },
         "mode": "lines",
         "name": "G",
         "showlegend": false,
         "type": "scatter",
         "x": [
          29.5,
          31.4,
          39.5,
          40.3,
          41.2,
          42.6,
          42.8,
          53,
          56
         ],
         "xaxis": "x7",
         "y": [
          31.70916858976032,
          33.023006289355074,
          38.62410385078534,
          39.17729867166734,
          39.799642845159596,
          40.76773378170309,
          40.90603248692359,
          47.95926645316911,
          50.033747031476615
         ],
         "yaxis": "y7"
        },
        {
         "customdata": [
          [
           "11/11/2022"
          ],
          [
           "11/15/2022"
          ],
          [
           "11/20/2022"
          ],
          [
           "11/25/2022"
          ],
          [
           "11/28/2022"
          ],
          [
           "12/10/2022"
          ],
          [
           "12/12/2022"
          ],
          [
           "12/2/2022"
          ]
         ],
         "hovertemplate": "GROUP=B<br>TEMP_CSU=%{x}<br>TEMP_WS=%{y}<br>DATE=%{customdata[0]}<extra></extra>",
         "legendgroup": "B",
         "marker": {
          "color": "#D62728",
          "opacity": 0.5,
          "symbol": "circle"
         },
         "mode": "markers",
         "name": "B",
         "orientation": "v",
         "showlegend": true,
         "type": "scatter",
         "x": [
          33.8,
          33.4,
          31.5,
          30.5,
          31.4,
          32.8,
          31.3,
          33.8
         ],
         "xaxis": "x8",
         "y": [
          35.6,
          33.6,
          32,
          31.6,
          32.2,
          34.8,
          31.2,
          34.6
         ],
         "yaxis": "y8"
        },
        {
         "hovertemplate": "<b>OLS trendline</b><br>TEMP_WS = 1.17437 * TEMP_CSU + -4.74699<br>R<sup>2</sup>=0.826412<br><br>GROUP=B<br>TEMP_CSU=%{x}<br>TEMP_WS=%{y} <b>(trend)</b><extra></extra>",
         "legendgroup": "B",
         "line": {
          "color": "black"
         },
         "marker": {
          "color": "#D62728",
          "symbol": "circle"
         },
         "mode": "lines",
         "name": "B",
         "showlegend": false,
         "type": "scatter",
         "x": [
          30.5,
          31.3,
          31.4,
          31.5,
          32.8,
          33.4,
          33.8,
          33.8
         ],
         "xaxis": "x8",
         "y": [
          31.071445434059477,
          32.01094538040565,
          32.12838287369892,
          32.24582036699219,
          33.77250777980472,
          34.477132739564354,
          34.94688271273744,
          34.94688271273744
         ],
         "yaxis": "y8"
        },
        {
         "customdata": [
          [
           "11/11/2022"
          ],
          [
           "11/15/2022"
          ],
          [
           "11/20/2022"
          ],
          [
           "11/25/2022"
          ],
          [
           "11/28/2022"
          ],
          [
           "11/8/2022"
          ],
          [
           "12/10/2022"
          ],
          [
           "12/12/2022"
          ],
          [
           "12/5/2022"
          ]
         ],
         "hovertemplate": "GROUP=E<br>TEMP_CSU=%{x}<br>TEMP_WS=%{y}<br>DATE=%{customdata[0]}<extra></extra>",
         "legendgroup": "E",
         "marker": {
          "color": "#9467BD",
          "opacity": 0.5,
          "symbol": "circle"
         },
         "mode": "markers",
         "name": "E",
         "orientation": "v",
         "showlegend": true,
         "type": "scatter",
         "x": [
          52.5,
          48.3,
          42.1,
          40.5,
          40.7,
          56.2,
          38.1,
          39.8,
          39.9
         ],
         "xaxis": "x",
         "y": [
          42,
          50,
          41,
          40,
          39,
          56,
          40,
          40,
          38
         ],
         "yaxis": "y"
        },
        {
         "hovertemplate": "<b>OLS trendline</b><br>TEMP_WS = 0.772108 * TEMP_CSU + 8.73599<br>R<sup>2</sup>=0.686757<br><br>GROUP=E<br>TEMP_CSU=%{x}<br>TEMP_WS=%{y} <b>(trend)</b><extra></extra>",
         "legendgroup": "E",
         "line": {
          "color": "black"
         },
         "marker": {
          "color": "#9467BD",
          "symbol": "circle"
         },
         "mode": "lines",
         "name": "E",
         "showlegend": false,
         "type": "scatter",
         "x": [
          38.1,
          39.8,
          39.9,
          40.5,
          40.7,
          42.1,
          48.3,
          52.5,
          56.2
         ],
         "xaxis": "x",
         "y": [
          38.15329420736764,
          39.46587751583277,
          39.543088298683664,
          40.00635299578901,
          40.16077456149079,
          41.241725521403254,
          46.028794058158454,
          49.27164693789585,
          52.1284459033788
         ],
         "yaxis": "y"
        },
        {
         "customdata": [
          [
           "11/11/2022"
          ],
          [
           "11/15/2022"
          ],
          [
           "11/20/2022"
          ],
          [
           "11/25/2022"
          ],
          [
           "11/28/2022"
          ],
          [
           "11/8/2022"
          ],
          [
           "12/10/2022"
          ],
          [
           "12/12/2022"
          ],
          [
           "12/5/2022"
          ]
         ],
         "hovertemplate": "GROUP=F<br>TEMP_CSU=%{x}<br>TEMP_WS=%{y}<br>DATE=%{customdata[0]}<extra></extra>",
         "legendgroup": "F",
         "marker": {
          "color": "#8C564B",
          "opacity": 0.5,
          "symbol": "circle"
         },
         "mode": "markers",
         "name": "F",
         "orientation": "v",
         "showlegend": true,
         "type": "scatter",
         "x": [
          37.1,
          32.5,
          29.1,
          32.3,
          35.8,
          47.5,
          36,
          35.7,
          36.6
         ],
         "xaxis": "x2",
         "y": [
          36,
          29,
          30,
          36,
          34,
          48,
          34,
          34,
          36
         ],
         "yaxis": "y2"
        },
        {
         "hovertemplate": "<b>OLS trendline</b><br>TEMP_WS = 0.983254 * TEMP_CSU + -0.0219776<br>R<sup>2</sup>=0.850747<br><br>GROUP=F<br>TEMP_CSU=%{x}<br>TEMP_WS=%{y} <b>(trend)</b><extra></extra>",
         "legendgroup": "F",
         "line": {
          "color": "black"
         },
         "marker": {
          "color": "#8C564B",
          "symbol": "circle"
         },
         "mode": "lines",
         "name": "F",
         "showlegend": false,
         "type": "scatter",
         "x": [
          29.1,
          32.3,
          32.5,
          35.7,
          35.8,
          36,
          36.6,
          37.1,
          47.5
         ],
         "xaxis": "x2",
         "y": [
          28.59071904113554,
          31.737132412062987,
          31.933783247745957,
          35.08019661867341,
          35.178522036514885,
          35.37517287219786,
          35.96512537924676,
          36.45675246845417,
          46.682595923968385
         ],
         "yaxis": "y2"
        },
        {
         "customdata": [
          [
           "11/11/2022"
          ],
          [
           "11/15/2022"
          ],
          [
           "11/20/2022"
          ],
          [
           "11/25/2022"
          ],
          [
           "11/28/2022"
          ],
          [
           "12/10/2022"
          ],
          [
           "12/12/2022"
          ],
          [
           "12/2/2022"
          ]
         ],
         "hovertemplate": "GROUP=D<br>TEMP_CSU=%{x}<br>TEMP_WS=%{y}<br>DATE=%{customdata[0]}<extra></extra>",
         "legendgroup": "D",
         "marker": {
          "color": "#E377C2",
          "opacity": 0.5,
          "symbol": "circle"
         },
         "mode": "markers",
         "name": "D",
         "orientation": "v",
         "showlegend": true,
         "type": "scatter",
         "x": [
          30.2,
          30.2,
          31.8,
          29.9,
          31.2,
          29.8,
          29.1,
          30.3
         ],
         "xaxis": "x3",
         "y": [
          35.8,
          32.8,
          33.4,
          32.4,
          34.6,
          32,
          30.8,
          33.4
         ],
         "yaxis": "y3"
        },
        {
         "hovertemplate": "<b>OLS trendline</b><br>TEMP_WS = 1.04388 * TEMP_CSU + 1.50753<br>R<sup>2</sup>=0.320068<br><br>GROUP=D<br>TEMP_CSU=%{x}<br>TEMP_WS=%{y} <b>(trend)</b><extra></extra>",
         "legendgroup": "D",
         "line": {
          "color": "black"
         },
         "marker": {
          "color": "#E377C2",
          "symbol": "circle"
         },
         "mode": "lines",
         "name": "D",
         "showlegend": false,
         "type": "scatter",
         "x": [
          29.1,
          29.8,
          29.9,
          30.2,
          30.2,
          30.3,
          31.2,
          31.8
         ],
         "xaxis": "x3",
         "y": [
          31.884301293431317,
          32.6150139487699,
          32.71940147096112,
          33.0325640375348,
          33.0325640375348,
          33.13695155972602,
          34.07643925944705,
          34.7027643925944
         ],
         "yaxis": "y3"
        }
       ],
       "layout": {
        "annotations": [
         {
          "font": {},
          "showarrow": false,
          "text": "GROUP=E",
          "x": 0.1175,
          "xanchor": "center",
          "xref": "paper",
          "y": 0.46499999999999997,
          "yanchor": "bottom",
          "yref": "paper"
         },
         {
          "font": {},
          "showarrow": false,
          "text": "GROUP=F",
          "x": 0.3725,
          "xanchor": "center",
          "xref": "paper",
          "y": 0.46499999999999997,
          "yanchor": "bottom",
          "yref": "paper"
         },
         {
          "font": {},
          "showarrow": false,
          "text": "GROUP=D",
          "x": 0.6275,
          "xanchor": "center",
          "xref": "paper",
          "y": 0.46499999999999997,
          "yanchor": "bottom",
          "yref": "paper"
         },
         {
          "font": {},
          "showarrow": false,
          "text": "GROUP=A",
          "x": 0.1175,
          "xanchor": "center",
          "xref": "paper",
          "y": 0.9999999999999999,
          "yanchor": "bottom",
          "yref": "paper"
         },
         {
          "font": {},
          "showarrow": false,
          "text": "GROUP=C",
          "x": 0.3725,
          "xanchor": "center",
          "xref": "paper",
          "y": 0.9999999999999999,
          "yanchor": "bottom",
          "yref": "paper"
         },
         {
          "font": {},
          "showarrow": false,
          "text": "GROUP=G",
          "x": 0.6275,
          "xanchor": "center",
          "xref": "paper",
          "y": 0.9999999999999999,
          "yanchor": "bottom",
          "yref": "paper"
         },
         {
          "font": {},
          "showarrow": false,
          "text": "GROUP=B",
          "x": 0.8824999999999998,
          "xanchor": "center",
          "xref": "paper",
          "y": 0.9999999999999999,
          "yanchor": "bottom",
          "yref": "paper"
         }
        ],
        "legend": {
         "title": {
          "text": "GROUP"
         },
         "tracegroupgap": 0
        },
        "margin": {
         "t": 60
        },
        "template": {
         "data": {
          "bar": [
           {
            "error_x": {
             "color": "rgb(36,36,36)"
            },
            "error_y": {
             "color": "rgb(36,36,36)"
            },
            "marker": {
             "line": {
              "color": "white",
              "width": 0.5
             },
             "pattern": {
              "fillmode": "overlay",
              "size": 10,
              "solidity": 0.2
             }
            },
            "type": "bar"
           }
          ],
          "barpolar": [
           {
            "marker": {
             "line": {
              "color": "white",
              "width": 0.5
             },
             "pattern": {
              "fillmode": "overlay",
              "size": 10,
              "solidity": 0.2
             }
            },
            "type": "barpolar"
           }
          ],
          "carpet": [
           {
            "aaxis": {
             "endlinecolor": "rgb(36,36,36)",
             "gridcolor": "white",
             "linecolor": "white",
             "minorgridcolor": "white",
             "startlinecolor": "rgb(36,36,36)"
            },
            "baxis": {
             "endlinecolor": "rgb(36,36,36)",
             "gridcolor": "white",
             "linecolor": "white",
             "minorgridcolor": "white",
             "startlinecolor": "rgb(36,36,36)"
            },
            "type": "carpet"
           }
          ],
          "choropleth": [
           {
            "colorbar": {
             "outlinewidth": 1,
             "tickcolor": "rgb(36,36,36)",
             "ticks": "outside"
            },
            "type": "choropleth"
           }
          ],
          "contour": [
           {
            "colorbar": {
             "outlinewidth": 1,
             "tickcolor": "rgb(36,36,36)",
             "ticks": "outside"
            },
            "colorscale": [
             [
              0,
              "#440154"
             ],
             [
              0.1111111111111111,
              "#482878"
             ],
             [
              0.2222222222222222,
              "#3e4989"
             ],
             [
              0.3333333333333333,
              "#31688e"
             ],
             [
              0.4444444444444444,
              "#26828e"
             ],
             [
              0.5555555555555556,
              "#1f9e89"
             ],
             [
              0.6666666666666666,
              "#35b779"
             ],
             [
              0.7777777777777778,
              "#6ece58"
             ],
             [
              0.8888888888888888,
              "#b5de2b"
             ],
             [
              1,
              "#fde725"
             ]
            ],
            "type": "contour"
           }
          ],
          "contourcarpet": [
           {
            "colorbar": {
             "outlinewidth": 1,
             "tickcolor": "rgb(36,36,36)",
             "ticks": "outside"
            },
            "type": "contourcarpet"
           }
          ],
          "heatmap": [
           {
            "colorbar": {
             "outlinewidth": 1,
             "tickcolor": "rgb(36,36,36)",
             "ticks": "outside"
            },
            "colorscale": [
             [
              0,
              "#440154"
             ],
             [
              0.1111111111111111,
              "#482878"
             ],
             [
              0.2222222222222222,
              "#3e4989"
             ],
             [
              0.3333333333333333,
              "#31688e"
             ],
             [
              0.4444444444444444,
              "#26828e"
             ],
             [
              0.5555555555555556,
              "#1f9e89"
             ],
             [
              0.6666666666666666,
              "#35b779"
             ],
             [
              0.7777777777777778,
              "#6ece58"
             ],
             [
              0.8888888888888888,
              "#b5de2b"
             ],
             [
              1,
              "#fde725"
             ]
            ],
            "type": "heatmap"
           }
          ],
          "heatmapgl": [
           {
            "colorbar": {
             "outlinewidth": 1,
             "tickcolor": "rgb(36,36,36)",
             "ticks": "outside"
            },
            "colorscale": [
             [
              0,
              "#440154"
             ],
             [
              0.1111111111111111,
              "#482878"
             ],
             [
              0.2222222222222222,
              "#3e4989"
             ],
             [
              0.3333333333333333,
              "#31688e"
             ],
             [
              0.4444444444444444,
              "#26828e"
             ],
             [
              0.5555555555555556,
              "#1f9e89"
             ],
             [
              0.6666666666666666,
              "#35b779"
             ],
             [
              0.7777777777777778,
              "#6ece58"
             ],
             [
              0.8888888888888888,
              "#b5de2b"
             ],
             [
              1,
              "#fde725"
             ]
            ],
            "type": "heatmapgl"
           }
          ],
          "histogram": [
           {
            "marker": {
             "line": {
              "color": "white",
              "width": 0.6
             }
            },
            "type": "histogram"
           }
          ],
          "histogram2d": [
           {
            "colorbar": {
             "outlinewidth": 1,
             "tickcolor": "rgb(36,36,36)",
             "ticks": "outside"
            },
            "colorscale": [
             [
              0,
              "#440154"
             ],
             [
              0.1111111111111111,
              "#482878"
             ],
             [
              0.2222222222222222,
              "#3e4989"
             ],
             [
              0.3333333333333333,
              "#31688e"
             ],
             [
              0.4444444444444444,
              "#26828e"
             ],
             [
              0.5555555555555556,
              "#1f9e89"
             ],
             [
              0.6666666666666666,
              "#35b779"
             ],
             [
              0.7777777777777778,
              "#6ece58"
             ],
             [
              0.8888888888888888,
              "#b5de2b"
             ],
             [
              1,
              "#fde725"
             ]
            ],
            "type": "histogram2d"
           }
          ],
          "histogram2dcontour": [
           {
            "colorbar": {
             "outlinewidth": 1,
             "tickcolor": "rgb(36,36,36)",
             "ticks": "outside"
            },
            "colorscale": [
             [
              0,
              "#440154"
             ],
             [
              0.1111111111111111,
              "#482878"
             ],
             [
              0.2222222222222222,
              "#3e4989"
             ],
             [
              0.3333333333333333,
              "#31688e"
             ],
             [
              0.4444444444444444,
              "#26828e"
             ],
             [
              0.5555555555555556,
              "#1f9e89"
             ],
             [
              0.6666666666666666,
              "#35b779"
             ],
             [
              0.7777777777777778,
              "#6ece58"
             ],
             [
              0.8888888888888888,
              "#b5de2b"
             ],
             [
              1,
              "#fde725"
             ]
            ],
            "type": "histogram2dcontour"
           }
          ],
          "mesh3d": [
           {
            "colorbar": {
             "outlinewidth": 1,
             "tickcolor": "rgb(36,36,36)",
             "ticks": "outside"
            },
            "type": "mesh3d"
           }
          ],
          "parcoords": [
           {
            "line": {
             "colorbar": {
              "outlinewidth": 1,
              "tickcolor": "rgb(36,36,36)",
              "ticks": "outside"
             }
            },
            "type": "parcoords"
           }
          ],
          "pie": [
           {
            "automargin": true,
            "type": "pie"
           }
          ],
          "scatter": [
           {
            "fillpattern": {
             "fillmode": "overlay",
             "size": 10,
             "solidity": 0.2
            },
            "type": "scatter"
           }
          ],
          "scatter3d": [
           {
            "line": {
             "colorbar": {
              "outlinewidth": 1,
              "tickcolor": "rgb(36,36,36)",
              "ticks": "outside"
             }
            },
            "marker": {
             "colorbar": {
              "outlinewidth": 1,
              "tickcolor": "rgb(36,36,36)",
              "ticks": "outside"
             }
            },
            "type": "scatter3d"
           }
          ],
          "scattercarpet": [
           {
            "marker": {
             "colorbar": {
              "outlinewidth": 1,
              "tickcolor": "rgb(36,36,36)",
              "ticks": "outside"
             }
            },
            "type": "scattercarpet"
           }
          ],
          "scattergeo": [
           {
            "marker": {
             "colorbar": {
              "outlinewidth": 1,
              "tickcolor": "rgb(36,36,36)",
              "ticks": "outside"
             }
            },
            "type": "scattergeo"
           }
          ],
          "scattergl": [
           {
            "marker": {
             "colorbar": {
              "outlinewidth": 1,
              "tickcolor": "rgb(36,36,36)",
              "ticks": "outside"
             }
            },
            "type": "scattergl"
           }
          ],
          "scattermapbox": [
           {
            "marker": {
             "colorbar": {
              "outlinewidth": 1,
              "tickcolor": "rgb(36,36,36)",
              "ticks": "outside"
             }
            },
            "type": "scattermapbox"
           }
          ],
          "scatterpolar": [
           {
            "marker": {
             "colorbar": {
              "outlinewidth": 1,
              "tickcolor": "rgb(36,36,36)",
              "ticks": "outside"
             }
            },
            "type": "scatterpolar"
           }
          ],
          "scatterpolargl": [
           {
            "marker": {
             "colorbar": {
              "outlinewidth": 1,
              "tickcolor": "rgb(36,36,36)",
              "ticks": "outside"
             }
            },
            "type": "scatterpolargl"
           }
          ],
          "scatterternary": [
           {
            "marker": {
             "colorbar": {
              "outlinewidth": 1,
              "tickcolor": "rgb(36,36,36)",
              "ticks": "outside"
             }
            },
            "type": "scatterternary"
           }
          ],
          "surface": [
           {
            "colorbar": {
             "outlinewidth": 1,
             "tickcolor": "rgb(36,36,36)",
             "ticks": "outside"
            },
            "colorscale": [
             [
              0,
              "#440154"
             ],
             [
              0.1111111111111111,
              "#482878"
             ],
             [
              0.2222222222222222,
              "#3e4989"
             ],
             [
              0.3333333333333333,
              "#31688e"
             ],
             [
              0.4444444444444444,
              "#26828e"
             ],
             [
              0.5555555555555556,
              "#1f9e89"
             ],
             [
              0.6666666666666666,
              "#35b779"
             ],
             [
              0.7777777777777778,
              "#6ece58"
             ],
             [
              0.8888888888888888,
              "#b5de2b"
             ],
             [
              1,
              "#fde725"
             ]
            ],
            "type": "surface"
           }
          ],
          "table": [
           {
            "cells": {
             "fill": {
              "color": "rgb(237,237,237)"
             },
             "line": {
              "color": "white"
             }
            },
            "header": {
             "fill": {
              "color": "rgb(217,217,217)"
             },
             "line": {
              "color": "white"
             }
            },
            "type": "table"
           }
          ]
         },
         "layout": {
          "annotationdefaults": {
           "arrowhead": 0,
           "arrowwidth": 1
          },
          "autotypenumbers": "strict",
          "coloraxis": {
           "colorbar": {
            "outlinewidth": 1,
            "tickcolor": "rgb(36,36,36)",
            "ticks": "outside"
           }
          },
          "colorscale": {
           "diverging": [
            [
             0,
             "rgb(103,0,31)"
            ],
            [
             0.1,
             "rgb(178,24,43)"
            ],
            [
             0.2,
             "rgb(214,96,77)"
            ],
            [
             0.3,
             "rgb(244,165,130)"
            ],
            [
             0.4,
             "rgb(253,219,199)"
            ],
            [
             0.5,
             "rgb(247,247,247)"
            ],
            [
             0.6,
             "rgb(209,229,240)"
            ],
            [
             0.7,
             "rgb(146,197,222)"
            ],
            [
             0.8,
             "rgb(67,147,195)"
            ],
            [
             0.9,
             "rgb(33,102,172)"
            ],
            [
             1,
             "rgb(5,48,97)"
            ]
           ],
           "sequential": [
            [
             0,
             "#440154"
            ],
            [
             0.1111111111111111,
             "#482878"
            ],
            [
             0.2222222222222222,
             "#3e4989"
            ],
            [
             0.3333333333333333,
             "#31688e"
            ],
            [
             0.4444444444444444,
             "#26828e"
            ],
            [
             0.5555555555555556,
             "#1f9e89"
            ],
            [
             0.6666666666666666,
             "#35b779"
            ],
            [
             0.7777777777777778,
             "#6ece58"
            ],
            [
             0.8888888888888888,
             "#b5de2b"
            ],
            [
             1,
             "#fde725"
            ]
           ],
           "sequentialminus": [
            [
             0,
             "#440154"
            ],
            [
             0.1111111111111111,
             "#482878"
            ],
            [
             0.2222222222222222,
             "#3e4989"
            ],
            [
             0.3333333333333333,
             "#31688e"
            ],
            [
             0.4444444444444444,
             "#26828e"
            ],
            [
             0.5555555555555556,
             "#1f9e89"
            ],
            [
             0.6666666666666666,
             "#35b779"
            ],
            [
             0.7777777777777778,
             "#6ece58"
            ],
            [
             0.8888888888888888,
             "#b5de2b"
            ],
            [
             1,
             "#fde725"
            ]
           ]
          },
          "colorway": [
           "#1F77B4",
           "#FF7F0E",
           "#2CA02C",
           "#D62728",
           "#9467BD",
           "#8C564B",
           "#E377C2",
           "#7F7F7F",
           "#BCBD22",
           "#17BECF"
          ],
          "font": {
           "color": "rgb(36,36,36)"
          },
          "geo": {
           "bgcolor": "white",
           "lakecolor": "white",
           "landcolor": "white",
           "showlakes": true,
           "showland": true,
           "subunitcolor": "white"
          },
          "hoverlabel": {
           "align": "left"
          },
          "hovermode": "closest",
          "mapbox": {
           "style": "light"
          },
          "paper_bgcolor": "white",
          "plot_bgcolor": "white",
          "polar": {
           "angularaxis": {
            "gridcolor": "rgb(232,232,232)",
            "linecolor": "rgb(36,36,36)",
            "showgrid": false,
            "showline": true,
            "ticks": "outside"
           },
           "bgcolor": "white",
           "radialaxis": {
            "gridcolor": "rgb(232,232,232)",
            "linecolor": "rgb(36,36,36)",
            "showgrid": false,
            "showline": true,
            "ticks": "outside"
           }
          },
          "scene": {
           "xaxis": {
            "backgroundcolor": "white",
            "gridcolor": "rgb(232,232,232)",
            "gridwidth": 2,
            "linecolor": "rgb(36,36,36)",
            "showbackground": true,
            "showgrid": false,
            "showline": true,
            "ticks": "outside",
            "zeroline": false,
            "zerolinecolor": "rgb(36,36,36)"
           },
           "yaxis": {
            "backgroundcolor": "white",
            "gridcolor": "rgb(232,232,232)",
            "gridwidth": 2,
            "linecolor": "rgb(36,36,36)",
            "showbackground": true,
            "showgrid": false,
            "showline": true,
            "ticks": "outside",
            "zeroline": false,
            "zerolinecolor": "rgb(36,36,36)"
           },
           "zaxis": {
            "backgroundcolor": "white",
            "gridcolor": "rgb(232,232,232)",
            "gridwidth": 2,
            "linecolor": "rgb(36,36,36)",
            "showbackground": true,
            "showgrid": false,
            "showline": true,
            "ticks": "outside",
            "zeroline": false,
            "zerolinecolor": "rgb(36,36,36)"
           }
          },
          "shapedefaults": {
           "fillcolor": "black",
           "line": {
            "width": 0
           },
           "opacity": 0.3
          },
          "ternary": {
           "aaxis": {
            "gridcolor": "rgb(232,232,232)",
            "linecolor": "rgb(36,36,36)",
            "showgrid": false,
            "showline": true,
            "ticks": "outside"
           },
           "baxis": {
            "gridcolor": "rgb(232,232,232)",
            "linecolor": "rgb(36,36,36)",
            "showgrid": false,
            "showline": true,
            "ticks": "outside"
           },
           "bgcolor": "white",
           "caxis": {
            "gridcolor": "rgb(232,232,232)",
            "linecolor": "rgb(36,36,36)",
            "showgrid": false,
            "showline": true,
            "ticks": "outside"
           }
          },
          "title": {
           "x": 0.05
          },
          "xaxis": {
           "automargin": true,
           "gridcolor": "rgb(232,232,232)",
           "linecolor": "rgb(36,36,36)",
           "showgrid": false,
           "showline": true,
           "ticks": "outside",
           "title": {
            "standoff": 15
           },
           "zeroline": false,
           "zerolinecolor": "rgb(36,36,36)"
          },
          "yaxis": {
           "automargin": true,
           "gridcolor": "rgb(232,232,232)",
           "linecolor": "rgb(36,36,36)",
           "showgrid": false,
           "showline": true,
           "ticks": "outside",
           "title": {
            "standoff": 15
           },
           "zeroline": false,
           "zerolinecolor": "rgb(36,36,36)"
          }
         }
        },
        "xaxis": {
         "anchor": "y",
         "domain": [
          0,
          0.235
         ],
         "title": {
          "text": "TEMP_CSU"
         }
        },
        "xaxis2": {
         "anchor": "y2",
         "domain": [
          0.255,
          0.49
         ],
         "matches": "x",
         "title": {
          "text": "TEMP_CSU"
         }
        },
        "xaxis3": {
         "anchor": "y3",
         "domain": [
          0.51,
          0.745
         ],
         "matches": "x",
         "title": {
          "text": "TEMP_CSU"
         }
        },
        "xaxis4": {
         "anchor": "y4",
         "domain": [
          0.7649999999999999,
          0.9999999999999999
         ],
         "matches": "x",
         "title": {
          "text": "TEMP_CSU"
         }
        },
        "xaxis5": {
         "anchor": "y5",
         "domain": [
          0,
          0.235
         ],
         "matches": "x",
         "showticklabels": false
        },
        "xaxis6": {
         "anchor": "y6",
         "domain": [
          0.255,
          0.49
         ],
         "matches": "x",
         "showticklabels": false
        },
        "xaxis7": {
         "anchor": "y7",
         "domain": [
          0.51,
          0.745
         ],
         "matches": "x",
         "showticklabels": false
        },
        "xaxis8": {
         "anchor": "y8",
         "domain": [
          0.7649999999999999,
          0.9999999999999999
         ],
         "matches": "x",
         "showticklabels": false
        },
        "yaxis": {
         "anchor": "x",
         "domain": [
          0,
          0.46499999999999997
         ],
         "scaleanchor": "x",
         "scaleratio": 1,
         "title": {
          "text": "TEMP_WS"
         }
        },
        "yaxis2": {
         "anchor": "x2",
         "domain": [
          0,
          0.46499999999999997
         ],
         "matches": "y",
         "scaleanchor": "x",
         "scaleratio": 1,
         "showticklabels": false
        },
        "yaxis3": {
         "anchor": "x3",
         "domain": [
          0,
          0.46499999999999997
         ],
         "matches": "y",
         "scaleanchor": "x",
         "scaleratio": 1,
         "showticklabels": false
        },
        "yaxis4": {
         "anchor": "x4",
         "domain": [
          0,
          0.46499999999999997
         ],
         "matches": "y",
         "scaleanchor": "x",
         "scaleratio": 1,
         "showticklabels": false
        },
        "yaxis5": {
         "anchor": "x5",
         "domain": [
          0.5349999999999999,
          0.9999999999999999
         ],
         "matches": "y",
         "scaleanchor": "x",
         "scaleratio": 1,
         "title": {
          "text": "TEMP_WS"
         }
        },
        "yaxis6": {
         "anchor": "x6",
         "domain": [
          0.5349999999999999,
          0.9999999999999999
         ],
         "matches": "y",
         "scaleanchor": "x",
         "scaleratio": 1,
         "showticklabels": false
        },
        "yaxis7": {
         "anchor": "x7",
         "domain": [
          0.5349999999999999,
          0.9999999999999999
         ],
         "matches": "y",
         "scaleanchor": "x",
         "scaleratio": 1,
         "showticklabels": false
        },
        "yaxis8": {
         "anchor": "x8",
         "domain": [
          0.5349999999999999,
          0.9999999999999999
         ],
         "matches": "y",
         "scaleanchor": "x",
         "scaleratio": 1,
         "showticklabels": false
        }
       }
      }
     },
     "metadata": {},
     "output_type": "display_data"
    }
   ],
   "source": [
    "fig_temp = px.scatter(\n",
    "           merged_df, \n",
    "           x=\"TEMP_CSU\", \n",
    "           y=\"TEMP_WS\",\n",
    "           color = 'GROUP',\n",
    "           facet_col='GROUP',\n",
    "           facet_col_wrap = 4,\n",
    "           trendline='ols',\n",
    "           trendline_color_override='black',\n",
    "           hover_data=['DATE'],\n",
    "           template='simple_white',\n",
    "           opacity=0.5\n",
    ")\n",
    "fig_temp.update_yaxes(\n",
    "         scaleanchor = \"x\",\n",
    "         scaleratio = 1,\n",
    ")\n",
    "fig_temp.show()"
   ]
  },
  {
   "cell_type": "code",
   "execution_count": 14,
   "id": "3cce9fa2-08d5-4d99-a121-f24e330d9f6b",
   "metadata": {},
   "outputs": [
    {
     "data": {
      "image/png": "[encoded data removed]",
      "text/plain": [
       "<Figure size 918.95x360 with 2 Axes>"
      ]
     },
     "metadata": {},
     "output_type": "display_data"
    }
   ],
   "source": [
    "# Uncomment for fixed 1:1 plots\n",
    "sns.set(font_scale=2) # make font bigger\n",
    "sns.set_style(\"whitegrid\")\n",
    "fixed_temp_fig = sns.relplot(data=merged_df,\n",
    "                            x='TEMP_CSU',\n",
    "                            y='TEMP_WS',\n",
    "                            col='PILE-TYPE',\n",
    "                            #col_wrap = 2,\n",
    "                            hue='GROUP',\n",
    "                            style='LOCATION'\n",
    "                            )\n",
    "                            #line_kws={'color':'black'},\n",
    "                            #scatter_kws={'alpha':0.5},\n",
    "                            #ci=95)\n",
    "fixed_temp_fig.map_dataframe(lambda data, **kws: plt.axline((1, 0), slope=1, color='black', linestyle='--')) # applies the fxn: y = 1*x - 0\n",
    "fixed_temp_fig.set(xlim=(25,None), ylim=(25,None))\n",
    "#fixed_temp_fig.add_legend()\n",
    "plt.savefig('group_comparisons.png')\n",
    "plt.show()"
   ]
  },
  {
   "cell_type": "code",
   "execution_count": 15,
   "id": "4329d3ce-9dd3-48a6-be9c-1bb1c3c21c57",
   "metadata": {},
   "outputs": [],
   "source": [
    "results_temp = px.get_trendline_results(fig_temp)\n",
    "#print(results)"
   ]
  },
  {
   "cell_type": "code",
   "execution_count": 16,
   "id": "5a25cd2d-6abe-4800-9ff8-93b73d101437",
   "metadata": {},
   "outputs": [],
   "source": [
    "def rmse_vals(results, unit):\n",
    "    rmseList = []\n",
    "    for i in range(len(results)):\n",
    "        rmse = (sum(np.square(results.iloc[i]['px_fit_results'].resid))/len(results.iloc[i]['px_fit_results'].resid))**(0.5)\n",
    "        loc_names = results['GROUP'][i]\n",
    "        rmseList.append(rmse)\n",
    "        print('The Root Mean Squared Error (RMSE) for {} is +/- {:.2f} {}'.format(loc_names, rmse, unit))\n",
    "    print('The mean RMSE over all groups is +/- {:.2f} {}'.format(np.average(rmseList), unit))"
   ]
  },
  {
   "cell_type": "code",
   "execution_count": 17,
   "id": "3e5e0c4f-00b3-4785-a640-6148795efeab",
   "metadata": {},
   "outputs": [
    {
     "name": "stdout",
     "output_type": "stream",
     "text": [
      "The Root Mean Squared Error (RMSE) for A is +/- 0.30 Farenheit\n",
      "The Root Mean Squared Error (RMSE) for C is +/- 0.85 Farenheit\n",
      "The Root Mean Squared Error (RMSE) for G is +/- 3.06 Farenheit\n",
      "The Root Mean Squared Error (RMSE) for B is +/- 0.65 Farenheit\n",
      "The Root Mean Squared Error (RMSE) for E is +/- 3.18 Farenheit\n",
      "The Root Mean Squared Error (RMSE) for F is +/- 1.98 Farenheit\n",
      "The Root Mean Squared Error (RMSE) for D is +/- 1.19 Farenheit\n",
      "The mean RMSE over all groups is +/- 1.60 Farenheit\n"
     ]
    }
   ],
   "source": [
    "rmse_vals(results_temp, unit='Farenheit')"
   ]
  },
  {
   "cell_type": "markdown",
   "id": "b8ed0944-093e-41ce-a37f-2b7d8fab51e7",
   "metadata": {},
   "source": [
    "#### Timeseries Plots Stratified by Location"
   ]
  },
  {
   "cell_type": "code",
   "execution_count": 24,
   "id": "b48437a4-fb5f-41ef-bbab-5e889672473e",
   "metadata": {},
   "outputs": [
    {
     "data": {
      "application/vnd.plotly.v1+json": {
       "config": {
        "plotlyServerURL": "https://plot.ly"
       },
       "data": [
        {
         "hovertemplate": "OWNER=Western Sugar<br>GROUP=A<br>DATE=%{x}<br>TEMP=%{y}<extra></extra>",
         "legendgroup": "Western Sugar",
         "line": {
          "color": "#1F77B4",
          "dash": "solid"
         },
         "marker": {
          "symbol": "circle"
         },
         "mode": "lines",
         "name": "Western Sugar",
         "opacity": 0.7,
         "orientation": "v",
         "showlegend": true,
         "type": "scatter",
         "x": [
          "11/11/2022",
          "11/15/2022",
          "11/20/2022",
          "11/25/2022",
          "11/28/2022",
          "12/10/2022",
          "12/12/2022",
          "12/2/2022"
         ],
         "xaxis": "x",
         "y": [
          34.8,
          34.8,
          34.4,
          34.2,
          34,
          35,
          36.6,
          35
         ],
         "yaxis": "y"
        },
        {
         "hovertemplate": "OWNER=Western Sugar<br>GROUP=C<br>DATE=%{x}<br>TEMP=%{y}<extra></extra>",
         "legendgroup": "Western Sugar",
         "line": {
          "color": "#1F77B4",
          "dash": "solid"
         },
         "marker": {
          "symbol": "circle"
         },
         "mode": "lines",
         "name": "Western Sugar",
         "opacity": 0.7,
         "orientation": "v",
         "showlegend": false,
         "type": "scatter",
         "x": [
          "11/11/2022",
          "11/15/2022",
          "11/20/2022",
          "11/25/2022",
          "11/28/2022",
          "12/10/2022",
          "12/12/2022",
          "12/2/2022"
         ],
         "xaxis": "x2",
         "y": [
          36,
          34.8,
          34.6,
          34.6,
          35.4,
          35.4,
          32.4,
          35
         ],
         "yaxis": "y2"
        },
        {
         "hovertemplate": "OWNER=Western Sugar<br>GROUP=G<br>DATE=%{x}<br>TEMP=%{y}<extra></extra>",
         "legendgroup": "Western Sugar",
         "line": {
          "color": "#1F77B4",
          "dash": "solid"
         },
         "marker": {
          "symbol": "circle"
         },
         "mode": "lines",
         "name": "Western Sugar",
         "opacity": 0.7,
         "orientation": "v",
         "showlegend": false,
         "type": "scatter",
         "x": [
          "11/11/2022",
          "11/15/2022",
          "11/20/2022",
          "11/25/2022",
          "11/28/2022",
          "11/8/2022",
          "12/10/2022",
          "12/12/2022",
          "12/5/2022"
         ],
         "xaxis": "x3",
         "y": [
          42,
          43,
          39,
          42,
          42,
          54,
          36,
          30,
          34
         ],
         "yaxis": "y3"
        },
        {
         "hovertemplate": "OWNER=Western Sugar<br>GROUP=D<br>DATE=%{x}<br>TEMP=%{y}<extra></extra>",
         "legendgroup": "Western Sugar",
         "line": {
          "color": "#1F77B4",
          "dash": "solid"
         },
         "marker": {
          "symbol": "circle"
         },
         "mode": "lines",
         "name": "Western Sugar",
         "opacity": 0.7,
         "orientation": "v",
         "showlegend": false,
         "type": "scatter",
         "x": [
          "11/11/2022",
          "11/15/2022",
          "11/20/2022",
          "11/25/2022",
          "11/28/2022",
          "12/10/2022",
          "12/12/2022",
          "12/2/2022"
         ],
         "xaxis": "x4",
         "y": [
          35.8,
          32.8,
          33.4,
          32.4,
          34.6,
          32,
          30.8,
          33.4
         ],
         "yaxis": "y4"
        },
        {
         "hovertemplate": "OWNER=Western Sugar<br>GROUP=B<br>DATE=%{x}<br>TEMP=%{y}<extra></extra>",
         "legendgroup": "Western Sugar",
         "line": {
          "color": "#1F77B4",
          "dash": "solid"
         },
         "marker": {
          "symbol": "circle"
         },
         "mode": "lines",
         "name": "Western Sugar",
         "opacity": 0.7,
         "orientation": "v",
         "showlegend": false,
         "type": "scatter",
         "x": [
          "11/11/2022",
          "11/15/2022",
          "11/20/2022",
          "11/25/2022",
          "11/28/2022",
          "12/10/2022",
          "12/12/2022",
          "12/2/2022"
         ],
         "xaxis": "x5",
         "y": [
          35.6,
          33.6,
          32,
          31.6,
          32.2,
          34.8,
          31.2,
          34.6
         ],
         "yaxis": "y5"
        },
        {
         "hovertemplate": "OWNER=Western Sugar<br>GROUP=E<br>DATE=%{x}<br>TEMP=%{y}<extra></extra>",
         "legendgroup": "Western Sugar",
         "line": {
          "color": "#1F77B4",
          "dash": "solid"
         },
         "marker": {
          "symbol": "circle"
         },
         "mode": "lines",
         "name": "Western Sugar",
         "opacity": 0.7,
         "orientation": "v",
         "showlegend": false,
         "type": "scatter",
         "x": [
          "11/11/2022",
          "11/15/2022",
          "11/20/2022",
          "11/25/2022",
          "11/28/2022",
          "11/8/2022",
          "12/10/2022",
          "12/12/2022",
          "12/5/2022"
         ],
         "xaxis": "x6",
         "y": [
          42,
          50,
          41,
          40,
          39,
          56,
          40,
          40,
          38
         ],
         "yaxis": "y6"
        },
        {
         "hovertemplate": "OWNER=Western Sugar<br>GROUP=F<br>DATE=%{x}<br>TEMP=%{y}<extra></extra>",
         "legendgroup": "Western Sugar",
         "line": {
          "color": "#1F77B4",
          "dash": "solid"
         },
         "marker": {
          "symbol": "circle"
         },
         "mode": "lines",
         "name": "Western Sugar",
         "opacity": 0.7,
         "orientation": "v",
         "showlegend": false,
         "type": "scatter",
         "x": [
          "11/11/2022",
          "11/15/2022",
          "11/20/2022",
          "11/25/2022",
          "11/28/2022",
          "11/8/2022",
          "12/10/2022",
          "12/12/2022",
          "12/5/2022"
         ],
         "xaxis": "x7",
         "y": [
          36,
          29,
          30,
          36,
          34,
          48,
          34,
          34,
          36
         ],
         "yaxis": "y7"
        },
        {
         "hovertemplate": "OWNER=CSU<br>GROUP=A<br>DATE=%{x}<br>TEMP=%{y}<extra></extra>",
         "legendgroup": "CSU",
         "line": {
          "color": "#FF7F0E",
          "dash": "solid"
         },
         "marker": {
          "symbol": "circle"
         },
         "mode": "lines",
         "name": "CSU",
         "opacity": 0.7,
         "orientation": "v",
         "showlegend": true,
         "type": "scatter",
         "x": [
          "11/11/2022",
          "11/15/2022",
          "11/20/2022",
          "11/25/2022",
          "11/28/2022",
          "12/10/2022",
          "12/12/2022",
          "12/2/2022"
         ],
         "xaxis": "x",
         "y": [
          35.3,
          35,
          34.6,
          32.8,
          33.6,
          35.3,
          37.1,
          35.3
         ],
         "yaxis": "y"
        },
        {
         "hovertemplate": "OWNER=CSU<br>GROUP=C<br>DATE=%{x}<br>TEMP=%{y}<extra></extra>",
         "legendgroup": "CSU",
         "line": {
          "color": "#FF7F0E",
          "dash": "solid"
         },
         "marker": {
          "symbol": "circle"
         },
         "mode": "lines",
         "name": "CSU",
         "opacity": 0.7,
         "orientation": "v",
         "showlegend": false,
         "type": "scatter",
         "x": [
          "11/11/2022",
          "11/15/2022",
          "11/20/2022",
          "11/25/2022",
          "11/28/2022",
          "12/10/2022",
          "12/12/2022",
          "12/2/2022"
         ],
         "xaxis": "x2",
         "y": [
          36.2,
          35.1,
          34.1,
          33.6,
          33.6,
          30.9,
          31,
          32.7
         ],
         "yaxis": "y2"
        },
        {
         "hovertemplate": "OWNER=CSU<br>GROUP=G<br>DATE=%{x}<br>TEMP=%{y}<extra></extra>",
         "legendgroup": "CSU",
         "line": {
          "color": "#FF7F0E",
          "dash": "solid"
         },
         "marker": {
          "symbol": "circle"
         },
         "mode": "lines",
         "name": "CSU",
         "opacity": 0.7,
         "orientation": "v",
         "showlegend": false,
         "type": "scatter",
         "x": [
          "11/11/2022",
          "11/15/2022",
          "11/20/2022",
          "11/25/2022",
          "11/28/2022",
          "11/8/2022",
          "12/10/2022",
          "12/12/2022",
          "12/5/2022"
         ],
         "xaxis": "x3",
         "y": [
          53,
          41.2,
          42.6,
          42.8,
          40.3,
          56,
          39.5,
          29.5,
          31.4
         ],
         "yaxis": "y3"
        },
        {
         "hovertemplate": "OWNER=CSU<br>GROUP=D<br>DATE=%{x}<br>TEMP=%{y}<extra></extra>",
         "legendgroup": "CSU",
         "line": {
          "color": "#FF7F0E",
          "dash": "solid"
         },
         "marker": {
          "symbol": "circle"
         },
         "mode": "lines",
         "name": "CSU",
         "opacity": 0.7,
         "orientation": "v",
         "showlegend": false,
         "type": "scatter",
         "x": [
          "11/11/2022",
          "11/15/2022",
          "11/20/2022",
          "11/25/2022",
          "11/28/2022",
          "12/10/2022",
          "12/12/2022",
          "12/2/2022"
         ],
         "xaxis": "x4",
         "y": [
          30.2,
          30.2,
          31.8,
          29.9,
          31.2,
          29.8,
          29.1,
          30.3
         ],
         "yaxis": "y4"
        },
        {
         "hovertemplate": "OWNER=CSU<br>GROUP=B<br>DATE=%{x}<br>TEMP=%{y}<extra></extra>",
         "legendgroup": "CSU",
         "line": {
          "color": "#FF7F0E",
          "dash": "solid"
         },
         "marker": {
          "symbol": "circle"
         },
         "mode": "lines",
         "name": "CSU",
         "opacity": 0.7,
         "orientation": "v",
         "showlegend": false,
         "type": "scatter",
         "x": [
          "11/11/2022",
          "11/15/2022",
          "11/20/2022",
          "11/25/2022",
          "11/28/2022",
          "12/10/2022",
          "12/12/2022",
          "12/2/2022"
         ],
         "xaxis": "x5",
         "y": [
          33.8,
          33.4,
          31.5,
          30.5,
          31.4,
          32.8,
          31.3,
          33.8
         ],
         "yaxis": "y5"
        },
        {
         "hovertemplate": "OWNER=CSU<br>GROUP=E<br>DATE=%{x}<br>TEMP=%{y}<extra></extra>",
         "legendgroup": "CSU",
         "line": {
          "color": "#FF7F0E",
          "dash": "solid"
         },
         "marker": {
          "symbol": "circle"
         },
         "mode": "lines",
         "name": "CSU",
         "opacity": 0.7,
         "orientation": "v",
         "showlegend": false,
         "type": "scatter",
         "x": [
          "11/11/2022",
          "11/15/2022",
          "11/20/2022",
          "11/25/2022",
          "11/28/2022",
          "11/8/2022",
          "12/10/2022",
          "12/12/2022",
          "12/5/2022"
         ],
         "xaxis": "x6",
         "y": [
          52.5,
          48.3,
          42.1,
          40.5,
          40.7,
          56.2,
          38.1,
          39.8,
          39.9
         ],
         "yaxis": "y6"
        },
        {
         "hovertemplate": "OWNER=CSU<br>GROUP=F<br>DATE=%{x}<br>TEMP=%{y}<extra></extra>",
         "legendgroup": "CSU",
         "line": {
          "color": "#FF7F0E",
          "dash": "solid"
         },
         "marker": {
          "symbol": "circle"
         },
         "mode": "lines",
         "name": "CSU",
         "opacity": 0.7,
         "orientation": "v",
         "showlegend": false,
         "type": "scatter",
         "x": [
          "11/11/2022",
          "11/15/2022",
          "11/20/2022",
          "11/25/2022",
          "11/28/2022",
          "11/8/2022",
          "12/10/2022",
          "12/12/2022",
          "12/5/2022"
         ],
         "xaxis": "x7",
         "y": [
          37.1,
          32.5,
          29.1,
          32.3,
          35.8,
          47.5,
          36,
          35.7,
          36.6
         ],
         "yaxis": "y7"
        }
       ],
       "layout": {
        "annotations": [
         {
          "font": {},
          "showarrow": false,
          "text": "GROUP=A",
          "x": 0.06285714285714285,
          "xanchor": "center",
          "xref": "paper",
          "y": 1,
          "yanchor": "bottom",
          "yref": "paper"
         },
         {
          "font": {},
          "showarrow": false,
          "text": "GROUP=C",
          "x": 0.20857142857142852,
          "xanchor": "center",
          "xref": "paper",
          "y": 1,
          "yanchor": "bottom",
          "yref": "paper"
         },
         {
          "font": {},
          "showarrow": false,
          "text": "GROUP=G",
          "x": 0.3542857142857142,
          "xanchor": "center",
          "xref": "paper",
          "y": 1,
          "yanchor": "bottom",
          "yref": "paper"
         },
         {
          "font": {},
          "showarrow": false,
          "text": "GROUP=D",
          "x": 0.5,
          "xanchor": "center",
          "xref": "paper",
          "y": 1,
          "yanchor": "bottom",
          "yref": "paper"
         },
         {
          "font": {},
          "showarrow": false,
          "text": "GROUP=B",
          "x": 0.6457142857142856,
          "xanchor": "center",
          "xref": "paper",
          "y": 1,
          "yanchor": "bottom",
          "yref": "paper"
         },
         {
          "font": {},
          "showarrow": false,
          "text": "GROUP=E",
          "x": 0.7914285714285713,
          "xanchor": "center",
          "xref": "paper",
          "y": 1,
          "yanchor": "bottom",
          "yref": "paper"
         },
         {
          "font": {},
          "showarrow": false,
          "text": "GROUP=F",
          "x": 0.9371428571428569,
          "xanchor": "center",
          "xref": "paper",
          "y": 1,
          "yanchor": "bottom",
          "yref": "paper"
         }
        ],
        "legend": {
         "title": {
          "text": "OWNER"
         },
         "tracegroupgap": 0
        },
        "margin": {
         "t": 60
        },
        "template": {
         "data": {
          "bar": [
           {
            "error_x": {
             "color": "rgb(36,36,36)"
            },
            "error_y": {
             "color": "rgb(36,36,36)"
            },
            "marker": {
             "line": {
              "color": "white",
              "width": 0.5
             },
             "pattern": {
              "fillmode": "overlay",
              "size": 10,
              "solidity": 0.2
             }
            },
            "type": "bar"
           }
          ],
          "barpolar": [
           {
            "marker": {
             "line": {
              "color": "white",
              "width": 0.5
             },
             "pattern": {
              "fillmode": "overlay",
              "size": 10,
              "solidity": 0.2
             }
            },
            "type": "barpolar"
           }
          ],
          "carpet": [
           {
            "aaxis": {
             "endlinecolor": "rgb(36,36,36)",
             "gridcolor": "white",
             "linecolor": "white",
             "minorgridcolor": "white",
             "startlinecolor": "rgb(36,36,36)"
            },
            "baxis": {
             "endlinecolor": "rgb(36,36,36)",
             "gridcolor": "white",
             "linecolor": "white",
             "minorgridcolor": "white",
             "startlinecolor": "rgb(36,36,36)"
            },
            "type": "carpet"
           }
          ],
          "choropleth": [
           {
            "colorbar": {
             "outlinewidth": 1,
             "tickcolor": "rgb(36,36,36)",
             "ticks": "outside"
            },
            "type": "choropleth"
           }
          ],
          "contour": [
           {
            "colorbar": {
             "outlinewidth": 1,
             "tickcolor": "rgb(36,36,36)",
             "ticks": "outside"
            },
            "colorscale": [
             [
              0,
              "#440154"
             ],
             [
              0.1111111111111111,
              "#482878"
             ],
             [
              0.2222222222222222,
              "#3e4989"
             ],
             [
              0.3333333333333333,
              "#31688e"
             ],
             [
              0.4444444444444444,
              "#26828e"
             ],
             [
              0.5555555555555556,
              "#1f9e89"
             ],
             [
              0.6666666666666666,
              "#35b779"
             ],
             [
              0.7777777777777778,
              "#6ece58"
             ],
             [
              0.8888888888888888,
              "#b5de2b"
             ],
             [
              1,
              "#fde725"
             ]
            ],
            "type": "contour"
           }
          ],
          "contourcarpet": [
           {
            "colorbar": {
             "outlinewidth": 1,
             "tickcolor": "rgb(36,36,36)",
             "ticks": "outside"
            },
            "type": "contourcarpet"
           }
          ],
          "heatmap": [
           {
            "colorbar": {
             "outlinewidth": 1,
             "tickcolor": "rgb(36,36,36)",
             "ticks": "outside"
            },
            "colorscale": [
             [
              0,
              "#440154"
             ],
             [
              0.1111111111111111,
              "#482878"
             ],
             [
              0.2222222222222222,
              "#3e4989"
             ],
             [
              0.3333333333333333,
              "#31688e"
             ],
             [
              0.4444444444444444,
              "#26828e"
             ],
             [
              0.5555555555555556,
              "#1f9e89"
             ],
             [
              0.6666666666666666,
              "#35b779"
             ],
             [
              0.7777777777777778,
              "#6ece58"
             ],
             [
              0.8888888888888888,
              "#b5de2b"
             ],
             [
              1,
              "#fde725"
             ]
            ],
            "type": "heatmap"
           }
          ],
          "heatmapgl": [
           {
            "colorbar": {
             "outlinewidth": 1,
             "tickcolor": "rgb(36,36,36)",
             "ticks": "outside"
            },
            "colorscale": [
             [
              0,
              "#440154"
             ],
             [
              0.1111111111111111,
              "#482878"
             ],
             [
              0.2222222222222222,
              "#3e4989"
             ],
             [
              0.3333333333333333,
              "#31688e"
             ],
             [
              0.4444444444444444,
              "#26828e"
             ],
             [
              0.5555555555555556,
              "#1f9e89"
             ],
             [
              0.6666666666666666,
              "#35b779"
             ],
             [
              0.7777777777777778,
              "#6ece58"
             ],
             [
              0.8888888888888888,
              "#b5de2b"
             ],
             [
              1,
              "#fde725"
             ]
            ],
            "type": "heatmapgl"
           }
          ],
          "histogram": [
           {
            "marker": {
             "line": {
              "color": "white",
              "width": 0.6
             }
            },
            "type": "histogram"
           }
          ],
          "histogram2d": [
           {
            "colorbar": {
             "outlinewidth": 1,
             "tickcolor": "rgb(36,36,36)",
             "ticks": "outside"
            },
            "colorscale": [
             [
              0,
              "#440154"
             ],
             [
              0.1111111111111111,
              "#482878"
             ],
             [
              0.2222222222222222,
              "#3e4989"
             ],
             [
              0.3333333333333333,
              "#31688e"
             ],
             [
              0.4444444444444444,
              "#26828e"
             ],
             [
              0.5555555555555556,
              "#1f9e89"
             ],
             [
              0.6666666666666666,
              "#35b779"
             ],
             [
              0.7777777777777778,
              "#6ece58"
             ],
             [
              0.8888888888888888,
              "#b5de2b"
             ],
             [
              1,
              "#fde725"
             ]
            ],
            "type": "histogram2d"
           }
          ],
          "histogram2dcontour": [
           {
            "colorbar": {
             "outlinewidth": 1,
             "tickcolor": "rgb(36,36,36)",
             "ticks": "outside"
            },
            "colorscale": [
             [
              0,
              "#440154"
             ],
             [
              0.1111111111111111,
              "#482878"
             ],
             [
              0.2222222222222222,
              "#3e4989"
             ],
             [
              0.3333333333333333,
              "#31688e"
             ],
             [
              0.4444444444444444,
              "#26828e"
             ],
             [
              0.5555555555555556,
              "#1f9e89"
             ],
             [
              0.6666666666666666,
              "#35b779"
             ],
             [
              0.7777777777777778,
              "#6ece58"
             ],
             [
              0.8888888888888888,
              "#b5de2b"
             ],
             [
              1,
              "#fde725"
             ]
            ],
            "type": "histogram2dcontour"
           }
          ],
          "mesh3d": [
           {
            "colorbar": {
             "outlinewidth": 1,
             "tickcolor": "rgb(36,36,36)",
             "ticks": "outside"
            },
            "type": "mesh3d"
           }
          ],
          "parcoords": [
           {
            "line": {
             "colorbar": {
              "outlinewidth": 1,
              "tickcolor": "rgb(36,36,36)",
              "ticks": "outside"
             }
            },
            "type": "parcoords"
           }
          ],
          "pie": [
           {
            "automargin": true,
            "type": "pie"
           }
          ],
          "scatter": [
           {
            "fillpattern": {
             "fillmode": "overlay",
             "size": 10,
             "solidity": 0.2
            },
            "type": "scatter"
           }
          ],
          "scatter3d": [
           {
            "line": {
             "colorbar": {
              "outlinewidth": 1,
              "tickcolor": "rgb(36,36,36)",
              "ticks": "outside"
             }
            },
            "marker": {
             "colorbar": {
              "outlinewidth": 1,
              "tickcolor": "rgb(36,36,36)",
              "ticks": "outside"
             }
            },
            "type": "scatter3d"
           }
          ],
          "scattercarpet": [
           {
            "marker": {
             "colorbar": {
              "outlinewidth": 1,
              "tickcolor": "rgb(36,36,36)",
              "ticks": "outside"
             }
            },
            "type": "scattercarpet"
           }
          ],
          "scattergeo": [
           {
            "marker": {
             "colorbar": {
              "outlinewidth": 1,
              "tickcolor": "rgb(36,36,36)",
              "ticks": "outside"
             }
            },
            "type": "scattergeo"
           }
          ],
          "scattergl": [
           {
            "marker": {
             "colorbar": {
              "outlinewidth": 1,
              "tickcolor": "rgb(36,36,36)",
              "ticks": "outside"
             }
            },
            "type": "scattergl"
           }
          ],
          "scattermapbox": [
           {
            "marker": {
             "colorbar": {
              "outlinewidth": 1,
              "tickcolor": "rgb(36,36,36)",
              "ticks": "outside"
             }
            },
            "type": "scattermapbox"
           }
          ],
          "scatterpolar": [
           {
            "marker": {
             "colorbar": {
              "outlinewidth": 1,
              "tickcolor": "rgb(36,36,36)",
              "ticks": "outside"
             }
            },
            "type": "scatterpolar"
           }
          ],
          "scatterpolargl": [
           {
            "marker": {
             "colorbar": {
              "outlinewidth": 1,
              "tickcolor": "rgb(36,36,36)",
              "ticks": "outside"
             }
            },
            "type": "scatterpolargl"
           }
          ],
          "scatterternary": [
           {
            "marker": {
             "colorbar": {
              "outlinewidth": 1,
              "tickcolor": "rgb(36,36,36)",
              "ticks": "outside"
             }
            },
            "type": "scatterternary"
           }
          ],
          "surface": [
           {
            "colorbar": {
             "outlinewidth": 1,
             "tickcolor": "rgb(36,36,36)",
             "ticks": "outside"
            },
            "colorscale": [
             [
              0,
              "#440154"
             ],
             [
              0.1111111111111111,
              "#482878"
             ],
             [
              0.2222222222222222,
              "#3e4989"
             ],
             [
              0.3333333333333333,
              "#31688e"
             ],
             [
              0.4444444444444444,
              "#26828e"
             ],
             [
              0.5555555555555556,
              "#1f9e89"
             ],
             [
              0.6666666666666666,
              "#35b779"
             ],
             [
              0.7777777777777778,
              "#6ece58"
             ],
             [
              0.8888888888888888,
              "#b5de2b"
             ],
             [
              1,
              "#fde725"
             ]
            ],
            "type": "surface"
           }
          ],
          "table": [
           {
            "cells": {
             "fill": {
              "color": "rgb(237,237,237)"
             },
             "line": {
              "color": "white"
             }
            },
            "header": {
             "fill": {
              "color": "rgb(217,217,217)"
             },
             "line": {
              "color": "white"
             }
            },
            "type": "table"
           }
          ]
         },
         "layout": {
          "annotationdefaults": {
           "arrowhead": 0,
           "arrowwidth": 1
          },
          "autotypenumbers": "strict",
          "coloraxis": {
           "colorbar": {
            "outlinewidth": 1,
            "tickcolor": "rgb(36,36,36)",
            "ticks": "outside"
           }
          },
          "colorscale": {
           "diverging": [
            [
             0,
             "rgb(103,0,31)"
            ],
            [
             0.1,
             "rgb(178,24,43)"
            ],
            [
             0.2,
             "rgb(214,96,77)"
            ],
            [
             0.3,
             "rgb(244,165,130)"
            ],
            [
             0.4,
             "rgb(253,219,199)"
            ],
            [
             0.5,
             "rgb(247,247,247)"
            ],
            [
             0.6,
             "rgb(209,229,240)"
            ],
            [
             0.7,
             "rgb(146,197,222)"
            ],
            [
             0.8,
             "rgb(67,147,195)"
            ],
            [
             0.9,
             "rgb(33,102,172)"
            ],
            [
             1,
             "rgb(5,48,97)"
            ]
           ],
           "sequential": [
            [
             0,
             "#440154"
            ],
            [
             0.1111111111111111,
             "#482878"
            ],
            [
             0.2222222222222222,
             "#3e4989"
            ],
            [
             0.3333333333333333,
             "#31688e"
            ],
            [
             0.4444444444444444,
             "#26828e"
            ],
            [
             0.5555555555555556,
             "#1f9e89"
            ],
            [
             0.6666666666666666,
             "#35b779"
            ],
            [
             0.7777777777777778,
             "#6ece58"
            ],
            [
             0.8888888888888888,
             "#b5de2b"
            ],
            [
             1,
             "#fde725"
            ]
           ],
           "sequentialminus": [
            [
             0,
             "#440154"
            ],
            [
             0.1111111111111111,
             "#482878"
            ],
            [
             0.2222222222222222,
             "#3e4989"
            ],
            [
             0.3333333333333333,
             "#31688e"
            ],
            [
             0.4444444444444444,
             "#26828e"
            ],
            [
             0.5555555555555556,
             "#1f9e89"
            ],
            [
             0.6666666666666666,
             "#35b779"
            ],
            [
             0.7777777777777778,
             "#6ece58"
            ],
            [
             0.8888888888888888,
             "#b5de2b"
            ],
            [
             1,
             "#fde725"
            ]
           ]
          },
          "colorway": [
           "#1F77B4",
           "#FF7F0E",
           "#2CA02C",
           "#D62728",
           "#9467BD",
           "#8C564B",
           "#E377C2",
           "#7F7F7F",
           "#BCBD22",
           "#17BECF"
          ],
          "font": {
           "color": "rgb(36,36,36)"
          },
          "geo": {
           "bgcolor": "white",
           "lakecolor": "white",
           "landcolor": "white",
           "showlakes": true,
           "showland": true,
           "subunitcolor": "white"
          },
          "hoverlabel": {
           "align": "left"
          },
          "hovermode": "closest",
          "mapbox": {
           "style": "light"
          },
          "paper_bgcolor": "white",
          "plot_bgcolor": "white",
          "polar": {
           "angularaxis": {
            "gridcolor": "rgb(232,232,232)",
            "linecolor": "rgb(36,36,36)",
            "showgrid": false,
            "showline": true,
            "ticks": "outside"
           },
           "bgcolor": "white",
           "radialaxis": {
            "gridcolor": "rgb(232,232,232)",
            "linecolor": "rgb(36,36,36)",
            "showgrid": false,
            "showline": true,
            "ticks": "outside"
           }
          },
          "scene": {
           "xaxis": {
            "backgroundcolor": "white",
            "gridcolor": "rgb(232,232,232)",
            "gridwidth": 2,
            "linecolor": "rgb(36,36,36)",
            "showbackground": true,
            "showgrid": false,
            "showline": true,
            "ticks": "outside",
            "zeroline": false,
            "zerolinecolor": "rgb(36,36,36)"
           },
           "yaxis": {
            "backgroundcolor": "white",
            "gridcolor": "rgb(232,232,232)",
            "gridwidth": 2,
            "linecolor": "rgb(36,36,36)",
            "showbackground": true,
            "showgrid": false,
            "showline": true,
            "ticks": "outside",
            "zeroline": false,
            "zerolinecolor": "rgb(36,36,36)"
           },
           "zaxis": {
            "backgroundcolor": "white",
            "gridcolor": "rgb(232,232,232)",
            "gridwidth": 2,
            "linecolor": "rgb(36,36,36)",
            "showbackground": true,
            "showgrid": false,
            "showline": true,
            "ticks": "outside",
            "zeroline": false,
            "zerolinecolor": "rgb(36,36,36)"
           }
          },
          "shapedefaults": {
           "fillcolor": "black",
           "line": {
            "width": 0
           },
           "opacity": 0.3
          },
          "ternary": {
           "aaxis": {
            "gridcolor": "rgb(232,232,232)",
            "linecolor": "rgb(36,36,36)",
            "showgrid": false,
            "showline": true,
            "ticks": "outside"
           },
           "baxis": {
            "gridcolor": "rgb(232,232,232)",
            "linecolor": "rgb(36,36,36)",
            "showgrid": false,
            "showline": true,
            "ticks": "outside"
           },
           "bgcolor": "white",
           "caxis": {
            "gridcolor": "rgb(232,232,232)",
            "linecolor": "rgb(36,36,36)",
            "showgrid": false,
            "showline": true,
            "ticks": "outside"
           }
          },
          "title": {
           "x": 0.05
          },
          "xaxis": {
           "automargin": true,
           "gridcolor": "rgb(232,232,232)",
           "linecolor": "rgb(36,36,36)",
           "showgrid": false,
           "showline": true,
           "ticks": "outside",
           "title": {
            "standoff": 15
           },
           "zeroline": false,
           "zerolinecolor": "rgb(36,36,36)"
          },
          "yaxis": {
           "automargin": true,
           "gridcolor": "rgb(232,232,232)",
           "linecolor": "rgb(36,36,36)",
           "showgrid": false,
           "showline": true,
           "ticks": "outside",
           "title": {
            "standoff": 15
           },
           "zeroline": false,
           "zerolinecolor": "rgb(36,36,36)"
          }
         }
        },
        "xaxis": {
         "anchor": "y",
         "domain": [
          0,
          0.1257142857142857
         ],
         "title": {
          "text": "DATE"
         }
        },
        "xaxis2": {
         "anchor": "y2",
         "domain": [
          0.14571428571428569,
          0.27142857142857135
         ],
         "matches": "x",
         "title": {
          "text": "DATE"
         }
        },
        "xaxis3": {
         "anchor": "y3",
         "domain": [
          0.29142857142857137,
          0.41714285714285704
         ],
         "matches": "x",
         "title": {
          "text": "DATE"
         }
        },
        "xaxis4": {
         "anchor": "y4",
         "domain": [
          0.4371428571428571,
          0.5628571428571428
         ],
         "matches": "x",
         "title": {
          "text": "DATE"
         }
        },
        "xaxis5": {
         "anchor": "y5",
         "domain": [
          0.5828571428571427,
          0.7085714285714284
         ],
         "matches": "x",
         "title": {
          "text": "DATE"
         }
        },
        "xaxis6": {
         "anchor": "y6",
         "domain": [
          0.7285714285714284,
          0.8542857142857141
         ],
         "matches": "x",
         "title": {
          "text": "DATE"
         }
        },
        "xaxis7": {
         "anchor": "y7",
         "domain": [
          0.8742857142857141,
          0.9999999999999998
         ],
         "matches": "x",
         "title": {
          "text": "DATE"
         }
        },
        "yaxis": {
         "anchor": "x",
         "domain": [
          0,
          1
         ],
         "title": {
          "text": "TEMP"
         }
        },
        "yaxis2": {
         "anchor": "x2",
         "domain": [
          0,
          1
         ],
         "matches": "y",
         "showticklabels": false
        },
        "yaxis3": {
         "anchor": "x3",
         "domain": [
          0,
          1
         ],
         "matches": "y",
         "showticklabels": false
        },
        "yaxis4": {
         "anchor": "x4",
         "domain": [
          0,
          1
         ],
         "matches": "y",
         "showticklabels": false
        },
        "yaxis5": {
         "anchor": "x5",
         "domain": [
          0,
          1
         ],
         "matches": "y",
         "showticklabels": false
        },
        "yaxis6": {
         "anchor": "x6",
         "domain": [
          0,
          1
         ],
         "matches": "y",
         "showticklabels": false
        },
        "yaxis7": {
         "anchor": "x7",
         "domain": [
          0,
          1
         ],
         "matches": "y",
         "showticklabels": false
        }
       }
      }
     },
     "metadata": {},
     "output_type": "display_data"
    }
   ],
   "source": [
    "fig_temp_time = px.line(\n",
    "    df.sort_values(by='DATE').dropna(), \n",
    "    x=\"DATE\", \n",
    "    y=\"TEMP\",\n",
    "    color = 'OWNER',\n",
    "    facet_col=\"GROUP\",\n",
    "    template='simple_white'\n",
    ")\n",
    "fig_temp_time.update_traces(opacity=0.7)\n",
    "fig_temp_time.show()"
   ]
  },
  {
   "cell_type": "markdown",
   "id": "fadfe271-e1b4-4f4a-9e87-5869ccd508c6",
   "metadata": {},
   "source": [
    "## Table of Raw Data <a name=\"data\"></a>"
   ]
  },
  {
   "cell_type": "code",
   "execution_count": 36,
   "id": "b7344b93-0df0-4053-b66c-8731b5182d78",
   "metadata": {},
   "outputs": [
    {
     "data": {
      "text/html": [
       "<table id=\"e8eae75d-2e60-497d-b2eb-a7b3a527645a\" class=\"display\"style=\"max-width:100%\"><thead>\n",
       "    <tr style=\"text-align: right;\">\n",
       "      <th></th>\n",
       "      <th>DATE</th>\n",
       "      <th>SENSOR_CSU</th>\n",
       "      <th>GROUP</th>\n",
       "      <th>TEMP_CSU</th>\n",
       "      <th>PILE-TYPE</th>\n",
       "      <th>OWNER_CSU</th>\n",
       "      <th>SENSOR_WS</th>\n",
       "      <th>TEMP_WS</th>\n",
       "      <th>OWNER_WS</th>\n",
       "    </tr>\n",
       "  </thead><tbody><tr><td>Loading... (need <a href=https://mwouts.github.io/itables/troubleshooting.html>help</a>?)</td></tr></tbody></table>\n",
       "<style>\n",
       "table td {\n",
       "    text-overflow: ellipsis;\n",
       "    overflow: hidden;\n",
       "}\n",
       "\n",
       "table th {\n",
       "    text-overflow: ellipsis;\n",
       "    overflow: hidden;\n",
       "}\n",
       "\n",
       "thead input {\n",
       "    width: 100%;\n",
       "    padding: 3px;\n",
       "    box-sizing: border-box;\n",
       "}\n",
       "\n",
       "tfoot input {\n",
       "    width: 100%;\n",
       "    padding: 3px;\n",
       "    box-sizing: border-box;\n",
       "}\n",
       "\n",
       "</style>\n",
       "<link rel=\"stylesheet\" type=\"text/css\" href=\"https://cdn.datatables.net/1.12.1/css/jquery.dataTables.min.css\">\n",
       "<script type=\"module\">\n",
       "    // Import jquery and DataTable\n",
       "    import 'https://code.jquery.com/jquery-3.6.0.min.js';\n",
       "    import dt from 'https://cdn.datatables.net/1.12.1/js/jquery.dataTables.mjs';\n",
       "    dt($);\n",
       "\n",
       "    // Define the table data\n",
       "    const data = [[0, \"2022-11-08\", 7, \"F\", 47.5, \"non-vented\", \"CSU\", 7, 48.0, \"Western Sugar\"], [1, \"2022-11-08\", 6, \"E\", 56.2, \"non-vented\", \"CSU\", 6, 56.0, \"Western Sugar\"], [2, \"2022-11-08\", 8, \"G\", 56.0, \"non-vented\", \"CSU\", 8, 54.0, \"Western Sugar\"], [3, \"2022-11-11\", 2, \"A\", 35.3, \"vented\", \"CSU\", 6, 34.8, \"Western Sugar\"], [4, \"2022-11-11\", 7, \"F\", 37.1, \"non-vented\", \"CSU\", 7, 36.0, \"Western Sugar\"], [5, \"2022-11-11\", 6, \"E\", 52.5, \"non-vented\", \"CSU\", 6, 42.0, \"Western Sugar\"], [6, \"2022-11-11\", 5, \"D\", 30.2, \"vented\", \"CSU\", 5, 35.8, \"Western Sugar\"], [7, \"2022-11-11\", 4, \"C\", 36.2, \"vented\", \"CSU\", 9, 36.0, \"Western Sugar\"], [8, \"2022-11-11\", 8, \"G\", 53.0, \"non-vented\", \"CSU\", 8, 42.0, \"Western Sugar\"], [9, \"2022-11-11\", 3, \"B\", 33.8, \"vented\", \"CSU\", 2, 35.6, \"Western Sugar\"], [10, \"2022-11-15\", 3, \"B\", 33.4, \"vented\", \"CSU\", 2, 33.6, \"Western Sugar\"], [11, \"2022-11-15\", 8, \"G\", 41.2, \"non-vented\", \"CSU\", 8, 43.0, \"Western Sugar\"], [12, \"2022-11-15\", 6, \"E\", 48.3, \"non-vented\", \"CSU\", 6, 50.0, \"Western Sugar\"], [13, \"2022-11-15\", 4, \"C\", 35.1, \"vented\", \"CSU\", 9, 34.8, \"Western Sugar\"], [14, \"2022-11-15\", 2, \"A\", 35.0, \"vented\", \"CSU\", 6, 34.8, \"Western Sugar\"], [15, \"2022-11-15\", 7, \"F\", 32.5, \"non-vented\", \"CSU\", 7, 29.0, \"Western Sugar\"], [16, \"2022-11-15\", 5, \"D\", 30.2, \"vented\", \"CSU\", 5, 32.8, \"Western Sugar\"], [17, \"2022-11-20\", 8, \"G\", 42.6, \"non-vented\", \"CSU\", 8, 39.0, \"Western Sugar\"], [18, \"2022-11-20\", 6, \"E\", 42.1, \"non-vented\", \"CSU\", 6, 41.0, \"Western Sugar\"], [19, \"2022-11-20\", 5, \"D\", 31.8, \"vented\", \"CSU\", 5, 33.4, \"Western Sugar\"], [20, \"2022-11-20\", 4, \"C\", 34.1, \"vented\", \"CSU\", 9, 34.6, \"Western Sugar\"], [21, \"2022-11-20\", 7, \"F\", 29.1, \"non-vented\", \"CSU\", 7, 30.0, \"Western Sugar\"], [22, \"2022-11-20\", 3, \"B\", 31.5, \"vented\", \"CSU\", 2, 32.0, \"Western Sugar\"], [23, \"2022-11-20\", 2, \"A\", 34.6, \"vented\", \"CSU\", 6, 34.4, \"Western Sugar\"], [24, \"2022-11-25\", 6, \"E\", 40.5, \"non-vented\", \"CSU\", 6, 40.0, \"Western Sugar\"], [25, \"2022-11-25\", 2, \"A\", 32.8, \"vented\", \"CSU\", 6, 34.2, \"Western Sugar\"], [26, \"2022-11-25\", 5, \"D\", 29.9, \"vented\", \"CSU\", 5, 32.4, \"Western Sugar\"], [27, \"2022-11-25\", 7, \"F\", 32.3, \"non-vented\", \"CSU\", 7, 36.0, \"Western Sugar\"], [28, \"2022-11-25\", 3, \"B\", 30.5, \"vented\", \"CSU\", 2, 31.6, \"Western Sugar\"], [29, \"2022-11-25\", 8, \"G\", 42.8, \"non-vented\", \"CSU\", 8, 42.0, \"Western Sugar\"], [30, \"2022-11-25\", 4, \"C\", 33.6, \"vented\", \"CSU\", 9, 34.6, \"Western Sugar\"], [31, \"2022-11-28\", 7, \"F\", 35.8, \"non-vented\", \"CSU\", 7, 34.0, \"Western Sugar\"], [32, \"2022-11-28\", 6, \"E\", 40.7, \"non-vented\", \"CSU\", 6, 39.0, \"Western Sugar\"], [33, \"2022-11-28\", 8, \"G\", 40.3, \"non-vented\", \"CSU\", 8, 42.0, \"Western Sugar\"], [34, \"2022-11-28\", 2, \"A\", 33.6, \"vented\", \"CSU\", 6, 34.0, \"Western Sugar\"], [35, \"2022-11-28\", 4, \"C\", 33.6, \"vented\", \"CSU\", 9, 35.4, \"Western Sugar\"], [36, \"2022-11-28\", 5, \"D\", 31.2, \"vented\", \"CSU\", 5, 34.6, \"Western Sugar\"], [37, \"2022-11-28\", 3, \"B\", 31.4, \"vented\", \"CSU\", 2, 32.2, \"Western Sugar\"], [38, \"2022-12-02\", 2, \"A\", 35.3, \"vented\", \"CSU\", 6, 35.0, \"Western Sugar\"], [39, \"2022-12-02\", 3, \"B\", 33.8, \"vented\", \"CSU\", 2, 34.6, \"Western Sugar\"], [40, \"2022-12-02\", 5, \"D\", 30.3, \"vented\", \"CSU\", 5, 33.4, \"Western Sugar\"], [41, \"2022-12-02\", 4, \"C\", 32.7, \"vented\", \"CSU\", 9, 35.0, \"Western Sugar\"], [42, \"2022-12-05\", 6, \"E\", 39.9, \"non-vented\", \"CSU\", 6, 38.0, \"Western Sugar\"], [43, \"2022-12-05\", 7, \"F\", 36.6, \"non-vented\", \"CSU\", 7, 36.0, \"Western Sugar\"], [44, \"2022-12-05\", 8, \"G\", 31.4, \"non-vented\", \"CSU\", 8, 34.0, \"Western Sugar\"], [45, \"2022-12-10\", 7, \"F\", 36.0, \"non-vented\", \"CSU\", 7, 34.0, \"Western Sugar\"], [46, \"2022-12-10\", 5, \"D\", 29.8, \"vented\", \"CSU\", 5, 32.0, \"Western Sugar\"], [47, \"2022-12-10\", 6, \"E\", 38.1, \"non-vented\", \"CSU\", 6, 40.0, \"Western Sugar\"], [48, \"2022-12-10\", 8, \"G\", 39.5, \"non-vented\", \"CSU\", 8, 36.0, \"Western Sugar\"], [49, \"2022-12-10\", 4, \"C\", 30.9, \"vented\", \"CSU\", 9, 35.4, \"Western Sugar\"], [50, \"2022-12-10\", 3, \"B\", 32.8, \"vented\", \"CSU\", 2, 34.8, \"Western Sugar\"], [51, \"2022-12-10\", 2, \"A\", 35.3, \"vented\", \"CSU\", 6, 35.0, \"Western Sugar\"], [52, \"2022-12-12\", 5, \"D\", 29.1, \"vented\", \"CSU\", 5, 30.8, \"Western Sugar\"], [53, \"2022-12-12\", 7, \"F\", 35.7, \"non-vented\", \"CSU\", 7, 34.0, \"Western Sugar\"], [54, \"2022-12-12\", 4, \"C\", 31.0, \"vented\", \"CSU\", 9, 32.4, \"Western Sugar\"], [55, \"2022-12-12\", 3, \"B\", 31.3, \"vented\", \"CSU\", 2, 31.2, \"Western Sugar\"], [56, \"2022-12-12\", 2, \"A\", 37.1, \"vented\", \"CSU\", 6, 36.6, \"Western Sugar\"], [57, \"2022-12-12\", 6, \"E\", 39.8, \"non-vented\", \"CSU\", 6, 40.0, \"Western Sugar\"], [58, \"2022-12-12\", 8, \"G\", 29.5, \"non-vented\", \"CSU\", 8, 30.0, \"Western Sugar\"]];\n",
       "\n",
       "    // Define the dt_args\n",
       "    let dt_args = {\"order\": [[0, \"asc\"]]};\n",
       "    dt_args[\"data\"] = data;\n",
       "\n",
       "    $(document).ready(function () {\n",
       "        \n",
       "        $('#e8eae75d-2e60-497d-b2eb-a7b3a527645a').DataTable(dt_args);\n",
       "    });\n",
       "</script>\n"
      ],
      "text/plain": [
       "<IPython.core.display.HTML object>"
      ]
     },
     "metadata": {},
     "output_type": "display_data"
    }
   ],
   "source": [
    "show(merged_df)"
   ]
  }
 ],
 "metadata": {
  "kernelspec": {
   "display_name": "Python 3.10.4 ('playground2')",
   "language": "python",
   "name": "python3"
  },
  "language_info": {
   "codemirror_mode": {
    "name": "ipython",
    "version": 3
   },
   "file_extension": ".py",
   "mimetype": "text/x-python",
   "name": "python",
   "nbconvert_exporter": "python",
   "pygments_lexer": "ipython3",
   "version": "3.10.4"
  },
  "vscode": {
   "interpreter": {
    "hash": "336ea7ca3ca55c5716c7b632d4a04f9f82ba04388313de87f6e2e5f4620663a5"
   }
  }
 },
 "nbformat": 4,
 "nbformat_minor": 5
}
