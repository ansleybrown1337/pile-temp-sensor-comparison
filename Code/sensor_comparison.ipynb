{
 "cells": [
  {
   "cell_type": "markdown",
   "id": "97d4f093-1aee-4183-8933-963439234522",
   "metadata": {},
   "source": [
    "# Cercospora Sensor Comparisons - 2022"
   ]
  },
  {
   "cell_type": "markdown",
   "id": "6dbcddbe-26eb-473e-993f-7c1b249a56cb",
   "metadata": {},
   "source": [
    "A.J. Brown  \n",
    "ansley.brown@colostate.edu  \n",
    "CSU Agriculture Water Quality Program  \n",
    "23 September 2022"
   ]
  },
  {
   "cell_type": "code",
   "execution_count": 1,
   "id": "8ce56e9b-ae14-4481-b951-cbaeac2fcb5e",
   "metadata": {},
   "outputs": [],
   "source": [
    "# To convert to html and hide code, run the following console command in the same directory as the ipynb:\n",
    "# jupyter nbconvert YourNotebook.ipynb --no-input --to html\n",
    "# DO NOT use the export in Jupyter Lab"
   ]
  },
  {
   "cell_type": "markdown",
   "id": "ccf7edde-0ba6-412c-a9e3-5d7a275acd2e",
   "metadata": {
    "tags": []
   },
   "source": [
    "## Table of contents\n",
    "1. [Executive Summary](#legend)\n",
    "2. [Sensor Locations and IDs](#map)\n",
    "3. [Interactive Graphics](#graphics)\n",
    "    1. [Temperature](#temp)\n",
    "    2. [Humidity](#rh)\n",
    "4. [Table of Raw Data](#data)"
   ]
  },
  {
   "cell_type": "markdown",
   "id": "47488069-242a-426b-951f-319f62e7cf6e",
   "metadata": {},
   "source": [
    "## Executive Summary <a name=\"legend\"></a>\n",
    "In 2022, the Colorado State University (CSU) Agriculture Water Quality Program (AWQP), in collaboration with Wester Sugar (WS), prototyped and deployed four temperature (T) and relative humidity (RH) sensors to determine daily infection values (DIVs) for CLS with the help of University of Nebraska-Lincoln collaborators. Furthermore, CSU AWQP prototyped and developed 14 sugar beet pile sensors to monitor T continuously that are still deployed to date (19 Dec. 2022). This report details the methods and performance of developed sensors and makes recommendations for further research.\n",
    "\n",
    "CSU sensors are in general agreeance with the WS thermometers and sensors within 2°F, which would suggest they could be a reasonable substitute.  This provides great advantage to managers, however, as the CSU sensors provide data every 2 hours as opposed to once a day.  Additionally, data can be acquired from a mobile device or computer using the same data portal used for the CLS sensors (for security and convenience) as opposed to walking on top of each sugar beet pile and extracting thermometers manually.\n",
    "\n",
    "Using the cloud capabilities of the CSU sensors, sugar beet pile temperatures were able to be monitored live via the cloud platform, Ubidots, where a custom data portal was created for WS.\n",
    "\n",
    "Moving forward, CSU intends to continue and expand collaborations with WSC and UNL to provide growers with the information needed most for better pile temperature management."
   ]
  },
  {
   "cell_type": "code",
   "execution_count": 2,
   "id": "1f83836e-7ef2-425b-bdb8-8fd68a6617dc",
   "metadata": {},
   "outputs": [],
   "source": [
    "# Import libraries\n",
    "import geopandas as gpd\n",
    "import numpy as np\n",
    "import pandas as pd\n",
    "import seaborn as sns\n",
    "import plotly.express as px\n",
    "import matplotlib.pyplot as plt\n",
    "from itables import show\n",
    "from statsmodels.tools.eval_measures import rmse"
   ]
  },
  {
   "cell_type": "code",
   "execution_count": 4,
   "id": "e14e75f0-54b5-43ee-a432-4bfcc18f31da",
   "metadata": {},
   "outputs": [],
   "source": [
    "# Import data\n",
    "    # uncomment for AJ laptop\n",
    "# df = pd.read_csv(r\"C:\\Users\\AJ-CPU\\Documents\\GitHub\\pile-temp-sensor-comparison\\Data\\pt_comparison_data.csv\", na_values=['-'])\n",
    "    # uncomment for AJ work desktop\n",
    "df = pd.read_csv(r\"C:\\Users\\ansleybr\\Documents\\GitHub\\pile-temp-sensor-comparison\\Data\\pt_comparison_data.csv\", na_values=['-','na'])"
   ]
  },
  {
   "cell_type": "code",
   "execution_count": 5,
   "id": "8a19621b-7ef4-483e-a346-06d08c759bca",
   "metadata": {},
   "outputs": [],
   "source": [
    "# Data Cleaning \n",
    "## clean whitespace from column names\n",
    "df.columns = df.columns.str.replace(' ', '')\n",
    "dfx = df.copy()\n",
    "## Make column names uppercase\n",
    "df.columns = df.columns.str.upper()"
   ]
  },
  {
   "cell_type": "code",
   "execution_count": 6,
   "id": "1d9af30a-02a8-4e5c-ab74-772cfba37fa0",
   "metadata": {},
   "outputs": [],
   "source": [
    "#converting to type numeric as possible <- only run this block once, else you will encounter errors\n",
    "df = df.apply(pd.to_numeric, errors='ignore')"
   ]
  },
  {
   "cell_type": "code",
   "execution_count": 7,
   "id": "08249227-5730-40f6-a13d-f09fa3848e09",
   "metadata": {},
   "outputs": [],
   "source": [
    "## Make 'TIME' into a datetime format\n",
    "df['DATE'] = pd.to_datetime(df['DATE'].astype(str))"
   ]
  },
  {
   "cell_type": "code",
   "execution_count": 37,
   "id": "7c604aa0-3741-424a-96c5-76eb5f45d6d4",
   "metadata": {},
   "outputs": [],
   "source": [
    "#create CSU and WS dataframes and merge by nearest timestamp and location for comparison\n",
    "csu_df = df[df['OWNER'] == 'CSU'].sort_values(by='DATE').dropna(how='any')\n",
    "ws_df = df[df['OWNER'] == 'Western Sugar'].sort_values(by='DATE').dropna(how='any')\n",
    "ftmorgan_df = df[df['LOCATION'] == 'Fort Morgan'].sort_values(by='DATE').dropna(how='any')\n",
    "greeley_df = df[df['LOCATION'] == 'Greeley'].sort_values(by='DATE').dropna(how='any')\n",
    "merged_df = pd.merge(csu_df, ws_df,\n",
    "                          on=['DATE','GROUP','PILE-TYPE','LOCATION'],\n",
    "                          suffixes=('_CSU', '_WS'))"
   ]
  },
  {
   "cell_type": "markdown",
   "id": "65178006-61da-4722-b410-86c28aab6e4b",
   "metadata": {
    "tags": []
   },
   "source": [
    "## Interactive Graphics (Hover over graphs with mouse to get additional info) <a name=\"graphics\"></a>"
   ]
  },
  {
   "cell_type": "markdown",
   "id": "610200ce-0c16-4c53-886b-00691728e2d9",
   "metadata": {
    "tags": []
   },
   "source": [
    "### Temperature Comparison (Farenheit) <a name=\"temp\"></a>"
   ]
  },
  {
   "cell_type": "markdown",
   "id": "27994962-acfd-4c76-a20d-6dc4de64a3e4",
   "metadata": {
    "tags": []
   },
   "source": [
    "#### 1:1 Plot Stratified by Comparison Group (i.e., pairs of CSU and WS sensors placed next to each other)"
   ]
  },
  {
   "cell_type": "code",
   "execution_count": 27,
   "id": "749d4095-5878-4596-8a40-c4c98b763b99",
   "metadata": {},
   "outputs": [],
   "source": [
    "rmse_cond = 'PILE-TYPE' # Variable to decide how to stratify RMSE results and coloring in graph"
   ]
  },
  {
   "cell_type": "code",
   "execution_count": 32,
   "id": "aa6d453f-19d3-4234-9381-176e03dd39b3",
   "metadata": {},
   "outputs": [
    {
     "data": {
      "application/vnd.plotly.v1+json": {
       "config": {
        "plotlyServerURL": "https://plot.ly"
       },
       "data": [
        {
         "customdata": [
          [
           "2022-11-08T00:00:00"
          ],
          [
           "2022-11-08T00:00:00"
          ],
          [
           "2022-11-08T00:00:00"
          ],
          [
           "2022-11-11T00:00:00"
          ],
          [
           "2022-11-11T00:00:00"
          ],
          [
           "2022-11-11T00:00:00"
          ],
          [
           "2022-11-15T00:00:00"
          ],
          [
           "2022-11-15T00:00:00"
          ],
          [
           "2022-11-15T00:00:00"
          ],
          [
           "2022-11-20T00:00:00"
          ],
          [
           "2022-11-20T00:00:00"
          ],
          [
           "2022-11-20T00:00:00"
          ],
          [
           "2022-11-25T00:00:00"
          ],
          [
           "2022-11-25T00:00:00"
          ],
          [
           "2022-11-25T00:00:00"
          ],
          [
           "2022-11-28T00:00:00"
          ],
          [
           "2022-11-28T00:00:00"
          ],
          [
           "2022-11-28T00:00:00"
          ],
          [
           "2022-12-05T00:00:00"
          ],
          [
           "2022-12-05T00:00:00"
          ],
          [
           "2022-12-05T00:00:00"
          ],
          [
           "2022-12-08T00:00:00"
          ],
          [
           "2022-12-08T00:00:00"
          ],
          [
           "2022-12-08T00:00:00"
          ],
          [
           "2022-12-08T00:00:00"
          ],
          [
           "2022-12-10T00:00:00"
          ],
          [
           "2022-12-10T00:00:00"
          ],
          [
           "2022-12-10T00:00:00"
          ],
          [
           "2022-12-12T00:00:00"
          ],
          [
           "2022-12-12T00:00:00"
          ],
          [
           "2022-12-12T00:00:00"
          ],
          [
           "2022-12-12T00:00:00"
          ],
          [
           "2022-12-12T00:00:00"
          ],
          [
           "2022-12-12T00:00:00"
          ],
          [
           "2022-12-12T00:00:00"
          ],
          [
           "2022-12-12T00:00:00"
          ]
         ],
         "hovertemplate": "PILE-TYPE=non-vented<br>TEMP_CSU=%{x}<br>TEMP_WS=%{y}<br>DATE=%{customdata[0]}<extra></extra>",
         "legendgroup": "non-vented",
         "marker": {
          "color": "#1F77B4",
          "opacity": 0.5,
          "symbol": "circle"
         },
         "mode": "markers",
         "name": "non-vented",
         "orientation": "v",
         "showlegend": true,
         "type": "scatter",
         "x": [
          56.2,
          47.5,
          56,
          52.5,
          37.1,
          53,
          41.2,
          48.3,
          32.5,
          42.6,
          29.1,
          42.1,
          40.5,
          32.3,
          42.8,
          40.7,
          40.3,
          35.8,
          39.9,
          31.4,
          36.6,
          40.7,
          35.3,
          31.6,
          32.5,
          36,
          39.5,
          38.1,
          43.4,
          30.1,
          39.5,
          35.7,
          39.8,
          33.9,
          29.5,
          32.1
         ],
         "xaxis": "x",
         "y": [
          56,
          48,
          54,
          42,
          36,
          42,
          43,
          50,
          29,
          39,
          30,
          41,
          40,
          36,
          42,
          39,
          42,
          34,
          38,
          34,
          36,
          36,
          34,
          30,
          28,
          34,
          36,
          40,
          46,
          30,
          38,
          34,
          40,
          30,
          30,
          28
         ],
         "yaxis": "y"
        },
        {
         "hovertemplate": "<b>OLS trendline</b><br>TEMP_WS = 0.871564 * TEMP_CSU + 3.63272<br>R<sup>2</sup>=0.816300<br><br>PILE-TYPE=non-vented<br>TEMP_CSU=%{x}<br>TEMP_WS=%{y} <b>(trend)</b><extra></extra>",
         "legendgroup": "non-vented",
         "line": {
          "color": "black"
         },
         "marker": {
          "color": "#1F77B4",
          "symbol": "circle"
         },
         "mode": "lines",
         "name": "non-vented",
         "showlegend": false,
         "type": "scatter",
         "x": [
          29.1,
          29.5,
          30.1,
          31.4,
          31.6,
          32.1,
          32.3,
          32.5,
          32.5,
          33.9,
          35.3,
          35.7,
          35.8,
          36,
          36.6,
          37.1,
          38.1,
          39.5,
          39.5,
          39.8,
          39.9,
          40.3,
          40.5,
          40.7,
          40.7,
          41.2,
          42.1,
          42.6,
          42.8,
          43.4,
          47.5,
          48.3,
          52.5,
          53,
          56,
          56.2
         ],
         "xaxis": "x",
         "y": [
          28.995238250843695,
          29.343863947418594,
          29.866802492280943,
          30.999836006149366,
          31.174148854436815,
          31.60993097515544,
          31.784243823442885,
          31.95855667173034,
          31.95855667173034,
          33.17874660974249,
          34.39893654775463,
          34.747562244329536,
          34.83471866847326,
          35.00903151676071,
          35.531970061623056,
          35.967752182341684,
          36.83931642377893,
          38.05950636179108,
          38.05950636179108,
          38.32097563422225,
          38.40813205836598,
          38.75675775494087,
          38.93107060322833,
          39.10538345151578,
          39.10538345151578,
          39.541165572234405,
          40.325573389527925,
          40.76135551024655,
          40.935668358533995,
          41.458606903396344,
          45.032020293289065,
          45.729271686438864,
          49.389841500475306,
          49.825623621193934,
          52.44031634550568,
          52.61462919379313
         ],
         "yaxis": "y"
        },
        {
         "customdata": [
          [
           "2022-11-11T00:00:00"
          ],
          [
           "2022-11-11T00:00:00"
          ],
          [
           "2022-11-11T00:00:00"
          ],
          [
           "2022-11-11T00:00:00"
          ],
          [
           "2022-11-15T00:00:00"
          ],
          [
           "2022-11-15T00:00:00"
          ],
          [
           "2022-11-15T00:00:00"
          ],
          [
           "2022-11-15T00:00:00"
          ],
          [
           "2022-11-20T00:00:00"
          ],
          [
           "2022-11-20T00:00:00"
          ],
          [
           "2022-11-20T00:00:00"
          ],
          [
           "2022-11-20T00:00:00"
          ],
          [
           "2022-11-25T00:00:00"
          ],
          [
           "2022-11-25T00:00:00"
          ],
          [
           "2022-11-25T00:00:00"
          ],
          [
           "2022-11-25T00:00:00"
          ],
          [
           "2022-11-28T00:00:00"
          ],
          [
           "2022-11-28T00:00:00"
          ],
          [
           "2022-11-28T00:00:00"
          ],
          [
           "2022-11-28T00:00:00"
          ],
          [
           "2022-12-02T00:00:00"
          ],
          [
           "2022-12-02T00:00:00"
          ],
          [
           "2022-12-02T00:00:00"
          ],
          [
           "2022-12-02T00:00:00"
          ],
          [
           "2022-12-10T00:00:00"
          ],
          [
           "2022-12-10T00:00:00"
          ],
          [
           "2022-12-10T00:00:00"
          ],
          [
           "2022-12-10T00:00:00"
          ],
          [
           "2022-12-12T00:00:00"
          ],
          [
           "2022-12-12T00:00:00"
          ],
          [
           "2022-12-12T00:00:00"
          ],
          [
           "2022-12-12T00:00:00"
          ]
         ],
         "hovertemplate": "PILE-TYPE=vented<br>TEMP_CSU=%{x}<br>TEMP_WS=%{y}<br>DATE=%{customdata[0]}<extra></extra>",
         "legendgroup": "vented",
         "marker": {
          "color": "#FF7F0E",
          "opacity": 0.5,
          "symbol": "circle"
         },
         "mode": "markers",
         "name": "vented",
         "orientation": "v",
         "showlegend": true,
         "type": "scatter",
         "x": [
          35.3,
          36.2,
          33.8,
          30.2,
          33.4,
          30.2,
          35,
          35.1,
          31.8,
          34.6,
          34.1,
          31.5,
          32.8,
          30.5,
          29.9,
          33.6,
          31.2,
          31.4,
          33.6,
          33.6,
          35.3,
          33.8,
          32.7,
          30.3,
          29.8,
          30.9,
          32.8,
          35.3,
          31,
          37.1,
          31.3,
          29.1
         ],
         "xaxis": "x2",
         "y": [
          34.8,
          36,
          35.6,
          35.8,
          33.6,
          32.8,
          34.8,
          34.8,
          33.4,
          34.4,
          34.6,
          32,
          34.2,
          31.6,
          32.4,
          34.6,
          34.6,
          32.2,
          34,
          35.4,
          35,
          34.6,
          35,
          33.4,
          32,
          35.4,
          34.8,
          35,
          32.4,
          36.6,
          31.2,
          30.8
         ],
         "yaxis": "y2"
        },
        {
         "hovertemplate": "<b>OLS trendline</b><br>TEMP_WS = 0.503026 * TEMP_CSU + 17.5322<br>R<sup>2</sup>=0.506224<br><br>PILE-TYPE=vented<br>TEMP_CSU=%{x}<br>TEMP_WS=%{y} <b>(trend)</b><extra></extra>",
         "legendgroup": "vented",
         "line": {
          "color": "black"
         },
         "marker": {
          "color": "#FF7F0E",
          "symbol": "circle"
         },
         "mode": "lines",
         "name": "vented",
         "showlegend": false,
         "type": "scatter",
         "x": [
          29.1,
          29.8,
          29.9,
          30.2,
          30.2,
          30.3,
          30.5,
          30.9,
          31,
          31.2,
          31.3,
          31.4,
          31.5,
          31.8,
          32.7,
          32.8,
          32.8,
          33.4,
          33.6,
          33.6,
          33.6,
          33.8,
          33.8,
          34.1,
          34.6,
          35,
          35.1,
          35.3,
          35.3,
          35.3,
          36.2,
          37.1
         ],
         "xaxis": "x2",
         "y": [
          32.170280012816875,
          32.52239835516948,
          32.57270097550556,
          32.723608836513826,
          32.723608836513826,
          32.77391145684991,
          32.87451669752208,
          33.07572717886643,
          33.12602979920251,
          33.22663503987469,
          33.27693766021078,
          33.32724028054686,
          33.37754290088295,
          33.52845076189121,
          33.981174344915985,
          34.03147696525207,
          34.03147696525207,
          34.333292687268596,
          34.43389792794076,
          34.43389792794076,
          34.43389792794076,
          34.534503168612936,
          34.534503168612936,
          34.68541102962119,
          34.93692413130163,
          35.13813461264597,
          35.18843723298206,
          35.289042473654234,
          35.289042473654234,
          35.289042473654234,
          35.74176605667901,
          36.19448963970379
         ],
         "yaxis": "y2"
        }
       ],
       "layout": {
        "annotations": [
         {
          "font": {},
          "showarrow": false,
          "text": "PILE-TYPE=non-vented",
          "x": 0.245,
          "xanchor": "center",
          "xref": "paper",
          "y": 1,
          "yanchor": "bottom",
          "yref": "paper"
         },
         {
          "font": {},
          "showarrow": false,
          "text": "PILE-TYPE=vented",
          "x": 0.755,
          "xanchor": "center",
          "xref": "paper",
          "y": 1,
          "yanchor": "bottom",
          "yref": "paper"
         }
        ],
        "legend": {
         "title": {
          "text": "PILE-TYPE"
         },
         "tracegroupgap": 0
        },
        "margin": {
         "t": 60
        },
        "template": {
         "data": {
          "bar": [
           {
            "error_x": {
             "color": "rgb(36,36,36)"
            },
            "error_y": {
             "color": "rgb(36,36,36)"
            },
            "marker": {
             "line": {
              "color": "white",
              "width": 0.5
             },
             "pattern": {
              "fillmode": "overlay",
              "size": 10,
              "solidity": 0.2
             }
            },
            "type": "bar"
           }
          ],
          "barpolar": [
           {
            "marker": {
             "line": {
              "color": "white",
              "width": 0.5
             },
             "pattern": {
              "fillmode": "overlay",
              "size": 10,
              "solidity": 0.2
             }
            },
            "type": "barpolar"
           }
          ],
          "carpet": [
           {
            "aaxis": {
             "endlinecolor": "rgb(36,36,36)",
             "gridcolor": "white",
             "linecolor": "white",
             "minorgridcolor": "white",
             "startlinecolor": "rgb(36,36,36)"
            },
            "baxis": {
             "endlinecolor": "rgb(36,36,36)",
             "gridcolor": "white",
             "linecolor": "white",
             "minorgridcolor": "white",
             "startlinecolor": "rgb(36,36,36)"
            },
            "type": "carpet"
           }
          ],
          "choropleth": [
           {
            "colorbar": {
             "outlinewidth": 1,
             "tickcolor": "rgb(36,36,36)",
             "ticks": "outside"
            },
            "type": "choropleth"
           }
          ],
          "contour": [
           {
            "colorbar": {
             "outlinewidth": 1,
             "tickcolor": "rgb(36,36,36)",
             "ticks": "outside"
            },
            "colorscale": [
             [
              0,
              "#440154"
             ],
             [
              0.1111111111111111,
              "#482878"
             ],
             [
              0.2222222222222222,
              "#3e4989"
             ],
             [
              0.3333333333333333,
              "#31688e"
             ],
             [
              0.4444444444444444,
              "#26828e"
             ],
             [
              0.5555555555555556,
              "#1f9e89"
             ],
             [
              0.6666666666666666,
              "#35b779"
             ],
             [
              0.7777777777777778,
              "#6ece58"
             ],
             [
              0.8888888888888888,
              "#b5de2b"
             ],
             [
              1,
              "#fde725"
             ]
            ],
            "type": "contour"
           }
          ],
          "contourcarpet": [
           {
            "colorbar": {
             "outlinewidth": 1,
             "tickcolor": "rgb(36,36,36)",
             "ticks": "outside"
            },
            "type": "contourcarpet"
           }
          ],
          "heatmap": [
           {
            "colorbar": {
             "outlinewidth": 1,
             "tickcolor": "rgb(36,36,36)",
             "ticks": "outside"
            },
            "colorscale": [
             [
              0,
              "#440154"
             ],
             [
              0.1111111111111111,
              "#482878"
             ],
             [
              0.2222222222222222,
              "#3e4989"
             ],
             [
              0.3333333333333333,
              "#31688e"
             ],
             [
              0.4444444444444444,
              "#26828e"
             ],
             [
              0.5555555555555556,
              "#1f9e89"
             ],
             [
              0.6666666666666666,
              "#35b779"
             ],
             [
              0.7777777777777778,
              "#6ece58"
             ],
             [
              0.8888888888888888,
              "#b5de2b"
             ],
             [
              1,
              "#fde725"
             ]
            ],
            "type": "heatmap"
           }
          ],
          "heatmapgl": [
           {
            "colorbar": {
             "outlinewidth": 1,
             "tickcolor": "rgb(36,36,36)",
             "ticks": "outside"
            },
            "colorscale": [
             [
              0,
              "#440154"
             ],
             [
              0.1111111111111111,
              "#482878"
             ],
             [
              0.2222222222222222,
              "#3e4989"
             ],
             [
              0.3333333333333333,
              "#31688e"
             ],
             [
              0.4444444444444444,
              "#26828e"
             ],
             [
              0.5555555555555556,
              "#1f9e89"
             ],
             [
              0.6666666666666666,
              "#35b779"
             ],
             [
              0.7777777777777778,
              "#6ece58"
             ],
             [
              0.8888888888888888,
              "#b5de2b"
             ],
             [
              1,
              "#fde725"
             ]
            ],
            "type": "heatmapgl"
           }
          ],
          "histogram": [
           {
            "marker": {
             "line": {
              "color": "white",
              "width": 0.6
             }
            },
            "type": "histogram"
           }
          ],
          "histogram2d": [
           {
            "colorbar": {
             "outlinewidth": 1,
             "tickcolor": "rgb(36,36,36)",
             "ticks": "outside"
            },
            "colorscale": [
             [
              0,
              "#440154"
             ],
             [
              0.1111111111111111,
              "#482878"
             ],
             [
              0.2222222222222222,
              "#3e4989"
             ],
             [
              0.3333333333333333,
              "#31688e"
             ],
             [
              0.4444444444444444,
              "#26828e"
             ],
             [
              0.5555555555555556,
              "#1f9e89"
             ],
             [
              0.6666666666666666,
              "#35b779"
             ],
             [
              0.7777777777777778,
              "#6ece58"
             ],
             [
              0.8888888888888888,
              "#b5de2b"
             ],
             [
              1,
              "#fde725"
             ]
            ],
            "type": "histogram2d"
           }
          ],
          "histogram2dcontour": [
           {
            "colorbar": {
             "outlinewidth": 1,
             "tickcolor": "rgb(36,36,36)",
             "ticks": "outside"
            },
            "colorscale": [
             [
              0,
              "#440154"
             ],
             [
              0.1111111111111111,
              "#482878"
             ],
             [
              0.2222222222222222,
              "#3e4989"
             ],
             [
              0.3333333333333333,
              "#31688e"
             ],
             [
              0.4444444444444444,
              "#26828e"
             ],
             [
              0.5555555555555556,
              "#1f9e89"
             ],
             [
              0.6666666666666666,
              "#35b779"
             ],
             [
              0.7777777777777778,
              "#6ece58"
             ],
             [
              0.8888888888888888,
              "#b5de2b"
             ],
             [
              1,
              "#fde725"
             ]
            ],
            "type": "histogram2dcontour"
           }
          ],
          "mesh3d": [
           {
            "colorbar": {
             "outlinewidth": 1,
             "tickcolor": "rgb(36,36,36)",
             "ticks": "outside"
            },
            "type": "mesh3d"
           }
          ],
          "parcoords": [
           {
            "line": {
             "colorbar": {
              "outlinewidth": 1,
              "tickcolor": "rgb(36,36,36)",
              "ticks": "outside"
             }
            },
            "type": "parcoords"
           }
          ],
          "pie": [
           {
            "automargin": true,
            "type": "pie"
           }
          ],
          "scatter": [
           {
            "fillpattern": {
             "fillmode": "overlay",
             "size": 10,
             "solidity": 0.2
            },
            "type": "scatter"
           }
          ],
          "scatter3d": [
           {
            "line": {
             "colorbar": {
              "outlinewidth": 1,
              "tickcolor": "rgb(36,36,36)",
              "ticks": "outside"
             }
            },
            "marker": {
             "colorbar": {
              "outlinewidth": 1,
              "tickcolor": "rgb(36,36,36)",
              "ticks": "outside"
             }
            },
            "type": "scatter3d"
           }
          ],
          "scattercarpet": [
           {
            "marker": {
             "colorbar": {
              "outlinewidth": 1,
              "tickcolor": "rgb(36,36,36)",
              "ticks": "outside"
             }
            },
            "type": "scattercarpet"
           }
          ],
          "scattergeo": [
           {
            "marker": {
             "colorbar": {
              "outlinewidth": 1,
              "tickcolor": "rgb(36,36,36)",
              "ticks": "outside"
             }
            },
            "type": "scattergeo"
           }
          ],
          "scattergl": [
           {
            "marker": {
             "colorbar": {
              "outlinewidth": 1,
              "tickcolor": "rgb(36,36,36)",
              "ticks": "outside"
             }
            },
            "type": "scattergl"
           }
          ],
          "scattermapbox": [
           {
            "marker": {
             "colorbar": {
              "outlinewidth": 1,
              "tickcolor": "rgb(36,36,36)",
              "ticks": "outside"
             }
            },
            "type": "scattermapbox"
           }
          ],
          "scatterpolar": [
           {
            "marker": {
             "colorbar": {
              "outlinewidth": 1,
              "tickcolor": "rgb(36,36,36)",
              "ticks": "outside"
             }
            },
            "type": "scatterpolar"
           }
          ],
          "scatterpolargl": [
           {
            "marker": {
             "colorbar": {
              "outlinewidth": 1,
              "tickcolor": "rgb(36,36,36)",
              "ticks": "outside"
             }
            },
            "type": "scatterpolargl"
           }
          ],
          "scatterternary": [
           {
            "marker": {
             "colorbar": {
              "outlinewidth": 1,
              "tickcolor": "rgb(36,36,36)",
              "ticks": "outside"
             }
            },
            "type": "scatterternary"
           }
          ],
          "surface": [
           {
            "colorbar": {
             "outlinewidth": 1,
             "tickcolor": "rgb(36,36,36)",
             "ticks": "outside"
            },
            "colorscale": [
             [
              0,
              "#440154"
             ],
             [
              0.1111111111111111,
              "#482878"
             ],
             [
              0.2222222222222222,
              "#3e4989"
             ],
             [
              0.3333333333333333,
              "#31688e"
             ],
             [
              0.4444444444444444,
              "#26828e"
             ],
             [
              0.5555555555555556,
              "#1f9e89"
             ],
             [
              0.6666666666666666,
              "#35b779"
             ],
             [
              0.7777777777777778,
              "#6ece58"
             ],
             [
              0.8888888888888888,
              "#b5de2b"
             ],
             [
              1,
              "#fde725"
             ]
            ],
            "type": "surface"
           }
          ],
          "table": [
           {
            "cells": {
             "fill": {
              "color": "rgb(237,237,237)"
             },
             "line": {
              "color": "white"
             }
            },
            "header": {
             "fill": {
              "color": "rgb(217,217,217)"
             },
             "line": {
              "color": "white"
             }
            },
            "type": "table"
           }
          ]
         },
         "layout": {
          "annotationdefaults": {
           "arrowhead": 0,
           "arrowwidth": 1
          },
          "autotypenumbers": "strict",
          "coloraxis": {
           "colorbar": {
            "outlinewidth": 1,
            "tickcolor": "rgb(36,36,36)",
            "ticks": "outside"
           }
          },
          "colorscale": {
           "diverging": [
            [
             0,
             "rgb(103,0,31)"
            ],
            [
             0.1,
             "rgb(178,24,43)"
            ],
            [
             0.2,
             "rgb(214,96,77)"
            ],
            [
             0.3,
             "rgb(244,165,130)"
            ],
            [
             0.4,
             "rgb(253,219,199)"
            ],
            [
             0.5,
             "rgb(247,247,247)"
            ],
            [
             0.6,
             "rgb(209,229,240)"
            ],
            [
             0.7,
             "rgb(146,197,222)"
            ],
            [
             0.8,
             "rgb(67,147,195)"
            ],
            [
             0.9,
             "rgb(33,102,172)"
            ],
            [
             1,
             "rgb(5,48,97)"
            ]
           ],
           "sequential": [
            [
             0,
             "#440154"
            ],
            [
             0.1111111111111111,
             "#482878"
            ],
            [
             0.2222222222222222,
             "#3e4989"
            ],
            [
             0.3333333333333333,
             "#31688e"
            ],
            [
             0.4444444444444444,
             "#26828e"
            ],
            [
             0.5555555555555556,
             "#1f9e89"
            ],
            [
             0.6666666666666666,
             "#35b779"
            ],
            [
             0.7777777777777778,
             "#6ece58"
            ],
            [
             0.8888888888888888,
             "#b5de2b"
            ],
            [
             1,
             "#fde725"
            ]
           ],
           "sequentialminus": [
            [
             0,
             "#440154"
            ],
            [
             0.1111111111111111,
             "#482878"
            ],
            [
             0.2222222222222222,
             "#3e4989"
            ],
            [
             0.3333333333333333,
             "#31688e"
            ],
            [
             0.4444444444444444,
             "#26828e"
            ],
            [
             0.5555555555555556,
             "#1f9e89"
            ],
            [
             0.6666666666666666,
             "#35b779"
            ],
            [
             0.7777777777777778,
             "#6ece58"
            ],
            [
             0.8888888888888888,
             "#b5de2b"
            ],
            [
             1,
             "#fde725"
            ]
           ]
          },
          "colorway": [
           "#1F77B4",
           "#FF7F0E",
           "#2CA02C",
           "#D62728",
           "#9467BD",
           "#8C564B",
           "#E377C2",
           "#7F7F7F",
           "#BCBD22",
           "#17BECF"
          ],
          "font": {
           "color": "rgb(36,36,36)"
          },
          "geo": {
           "bgcolor": "white",
           "lakecolor": "white",
           "landcolor": "white",
           "showlakes": true,
           "showland": true,
           "subunitcolor": "white"
          },
          "hoverlabel": {
           "align": "left"
          },
          "hovermode": "closest",
          "mapbox": {
           "style": "light"
          },
          "paper_bgcolor": "white",
          "plot_bgcolor": "white",
          "polar": {
           "angularaxis": {
            "gridcolor": "rgb(232,232,232)",
            "linecolor": "rgb(36,36,36)",
            "showgrid": false,
            "showline": true,
            "ticks": "outside"
           },
           "bgcolor": "white",
           "radialaxis": {
            "gridcolor": "rgb(232,232,232)",
            "linecolor": "rgb(36,36,36)",
            "showgrid": false,
            "showline": true,
            "ticks": "outside"
           }
          },
          "scene": {
           "xaxis": {
            "backgroundcolor": "white",
            "gridcolor": "rgb(232,232,232)",
            "gridwidth": 2,
            "linecolor": "rgb(36,36,36)",
            "showbackground": true,
            "showgrid": false,
            "showline": true,
            "ticks": "outside",
            "zeroline": false,
            "zerolinecolor": "rgb(36,36,36)"
           },
           "yaxis": {
            "backgroundcolor": "white",
            "gridcolor": "rgb(232,232,232)",
            "gridwidth": 2,
            "linecolor": "rgb(36,36,36)",
            "showbackground": true,
            "showgrid": false,
            "showline": true,
            "ticks": "outside",
            "zeroline": false,
            "zerolinecolor": "rgb(36,36,36)"
           },
           "zaxis": {
            "backgroundcolor": "white",
            "gridcolor": "rgb(232,232,232)",
            "gridwidth": 2,
            "linecolor": "rgb(36,36,36)",
            "showbackground": true,
            "showgrid": false,
            "showline": true,
            "ticks": "outside",
            "zeroline": false,
            "zerolinecolor": "rgb(36,36,36)"
           }
          },
          "shapedefaults": {
           "fillcolor": "black",
           "line": {
            "width": 0
           },
           "opacity": 0.3
          },
          "ternary": {
           "aaxis": {
            "gridcolor": "rgb(232,232,232)",
            "linecolor": "rgb(36,36,36)",
            "showgrid": false,
            "showline": true,
            "ticks": "outside"
           },
           "baxis": {
            "gridcolor": "rgb(232,232,232)",
            "linecolor": "rgb(36,36,36)",
            "showgrid": false,
            "showline": true,
            "ticks": "outside"
           },
           "bgcolor": "white",
           "caxis": {
            "gridcolor": "rgb(232,232,232)",
            "linecolor": "rgb(36,36,36)",
            "showgrid": false,
            "showline": true,
            "ticks": "outside"
           }
          },
          "title": {
           "x": 0.05
          },
          "xaxis": {
           "automargin": true,
           "gridcolor": "rgb(232,232,232)",
           "linecolor": "rgb(36,36,36)",
           "showgrid": false,
           "showline": true,
           "ticks": "outside",
           "title": {
            "standoff": 15
           },
           "zeroline": false,
           "zerolinecolor": "rgb(36,36,36)"
          },
          "yaxis": {
           "automargin": true,
           "gridcolor": "rgb(232,232,232)",
           "linecolor": "rgb(36,36,36)",
           "showgrid": false,
           "showline": true,
           "ticks": "outside",
           "title": {
            "standoff": 15
           },
           "zeroline": false,
           "zerolinecolor": "rgb(36,36,36)"
          }
         }
        },
        "xaxis": {
         "anchor": "y",
         "domain": [
          0,
          0.49
         ],
         "title": {
          "text": "TEMP_CSU"
         }
        },
        "xaxis2": {
         "anchor": "y2",
         "domain": [
          0.51,
          1
         ],
         "matches": "x",
         "title": {
          "text": "TEMP_CSU"
         }
        },
        "yaxis": {
         "anchor": "x",
         "domain": [
          0,
          1
         ],
         "scaleanchor": "x",
         "scaleratio": 1,
         "title": {
          "text": "TEMP_WS"
         }
        },
        "yaxis2": {
         "anchor": "x2",
         "domain": [
          0,
          1
         ],
         "matches": "y",
         "scaleanchor": "x",
         "scaleratio": 1,
         "showticklabels": false
        }
       }
      }
     },
     "metadata": {},
     "output_type": "display_data"
    }
   ],
   "source": [
    "fig_temp = px.scatter(\n",
    "           merged_df, \n",
    "           x=\"TEMP_CSU\", \n",
    "           y=\"TEMP_WS\",\n",
    "           facet_col=rmse_cond,\n",
    "           facet_col_wrap = 4,\n",
    "           color = rmse_cond,\n",
    "           #symbol= 'LOCATION', # Use to see trendlines by location\n",
    "           trendline='ols',\n",
    "           trendline_color_override='black',\n",
    "           hover_data=['DATE'],\n",
    "           template='simple_white',\n",
    "           opacity=0.5\n",
    ")\n",
    "fig_temp.update_yaxes(\n",
    "         scaleanchor = \"x\",\n",
    "         scaleratio = 1,\n",
    ")\n",
    "fig_temp.show()"
   ]
  },
  {
   "cell_type": "code",
   "execution_count": 42,
   "id": "3cce9fa2-08d5-4d99-a121-f24e330d9f6b",
   "metadata": {},
   "outputs": [
    {
     "data": {
      "image/png": "[encoded data removed]",
      "text/plain": [
       "<Figure size 918.95x360 with 2 Axes>"
      ]
     },
     "metadata": {},
     "output_type": "display_data"
    }
   ],
   "source": [
    "# Uncomment for fixed 1:1 plots\n",
    "sns.set(font_scale=2) # make font bigger\n",
    "sns.set_style(\"whitegrid\")\n",
    "fixed_temp_fig = sns.relplot(data=merged_df,\n",
    "                            x='TEMP_CSU',\n",
    "                            y='TEMP_WS',\n",
    "                            col='PILE-TYPE',\n",
    "                            #col_wrap = 2,\n",
    "                            hue=rmse_cond,\n",
    "                            style='LOCATION'\n",
    "                            )\n",
    "                            #line_kws={'color':'black'},\n",
    "                            #scatter_kws={'alpha':0.5},\n",
    "                            #ci=95)\n",
    "fixed_temp_fig.map_dataframe(lambda data, **kws: plt.axline((1, 0), slope=1, color='black', linestyle='--')) # applies the fxn: y = 1*x - 0\n",
    "fixed_temp_fig.set(xlim=(25,None), ylim=(25,None))\n",
    "#fixed_temp_fig.add_legend()\n",
    "plt.savefig('group_comparisons.png')\n",
    "plt.show()"
   ]
  },
  {
   "cell_type": "code",
   "execution_count": 29,
   "id": "4329d3ce-9dd3-48a6-be9c-1bb1c3c21c57",
   "metadata": {},
   "outputs": [],
   "source": [
    "results_temp = px.get_trendline_results(fig_temp)\n",
    "#print(results)"
   ]
  },
  {
   "cell_type": "code",
   "execution_count": 25,
   "id": "5a25cd2d-6abe-4800-9ff8-93b73d101437",
   "metadata": {},
   "outputs": [],
   "source": [
    "def rmse_vals(results, unit, group='PILE-TYPE'):\n",
    "    rmseList = []\n",
    "    rmse_all = ((merged_df.TEMP_CSU - merged_df.TEMP_WS) ** 2).mean() ** .5\n",
    "    for i in range(len(results)):\n",
    "        rmse = (sum(np.square(results.iloc[i]['px_fit_results'].resid))/len(results.iloc[i]['px_fit_results'].resid))**(0.5)\n",
    "        loc_names = results[group][i]\n",
    "        rmseList.append(rmse)\n",
    "        print('The Root Mean Squared Error (RMSE) for {} is +/- {:.2f} {}'.format(loc_names, rmse, unit))\n",
    "    print('The mean RMSE over all groups is +/- {:.2f} {}'.format(rmse_all, unit))"
   ]
  },
  {
   "cell_type": "code",
   "execution_count": 30,
   "id": "3e5e0c4f-00b3-4785-a640-6148795efeab",
   "metadata": {},
   "outputs": [
    {
     "name": "stdout",
     "output_type": "stream",
     "text": [
      "The Root Mean Squared Error (RMSE) for non-vented is +/- 2.95 Farenheit\n",
      "The Root Mean Squared Error (RMSE) for vented is +/- 1.04 Farenheit\n",
      "The mean RMSE over all groups is +/- 2.81 Farenheit\n"
     ]
    }
   ],
   "source": [
    "rmse_vals(results_temp, group=rmse_cond, unit='Farenheit')"
   ]
  },
  {
   "cell_type": "markdown",
   "id": "b8ed0944-093e-41ce-a37f-2b7d8fab51e7",
   "metadata": {},
   "source": [
    "#### Timeseries Plots Stratified by Location"
   ]
  },
  {
   "cell_type": "code",
   "execution_count": 40,
   "id": "b48437a4-fb5f-41ef-bbab-5e889672473e",
   "metadata": {},
   "outputs": [
    {
     "data": {
      "application/vnd.plotly.v1+json": {
       "config": {
        "plotlyServerURL": "https://plot.ly"
       },
       "data": [
        {
         "hovertemplate": "OWNER=Western Sugar<br>GROUP=E<br>DATE=%{x}<br>TEMP=%{y}<extra></extra>",
         "legendgroup": "Western Sugar",
         "line": {
          "color": "#1F77B4",
          "dash": "solid"
         },
         "marker": {
          "symbol": "circle"
         },
         "mode": "lines",
         "name": "Western Sugar",
         "opacity": 0.7,
         "orientation": "v",
         "showlegend": true,
         "type": "scatter",
         "x": [
          "2022-11-08T00:00:00",
          "2022-11-11T00:00:00",
          "2022-11-15T00:00:00",
          "2022-11-20T00:00:00",
          "2022-11-25T00:00:00",
          "2022-11-28T00:00:00",
          "2022-12-05T00:00:00",
          "2022-12-10T00:00:00",
          "2022-12-12T00:00:00"
         ],
         "xaxis": "x",
         "y": [
          56,
          42,
          50,
          41,
          40,
          39,
          38,
          40,
          40
         ],
         "yaxis": "y"
        },
        {
         "hovertemplate": "OWNER=Western Sugar<br>GROUP=F<br>DATE=%{x}<br>TEMP=%{y}<extra></extra>",
         "legendgroup": "Western Sugar",
         "line": {
          "color": "#1F77B4",
          "dash": "solid"
         },
         "marker": {
          "symbol": "circle"
         },
         "mode": "lines",
         "name": "Western Sugar",
         "opacity": 0.7,
         "orientation": "v",
         "showlegend": false,
         "type": "scatter",
         "x": [
          "2022-11-08T00:00:00",
          "2022-11-11T00:00:00",
          "2022-11-15T00:00:00",
          "2022-11-20T00:00:00",
          "2022-11-25T00:00:00",
          "2022-11-28T00:00:00",
          "2022-12-05T00:00:00",
          "2022-12-10T00:00:00",
          "2022-12-12T00:00:00"
         ],
         "xaxis": "x2",
         "y": [
          48,
          36,
          29,
          30,
          36,
          34,
          36,
          34,
          34
         ],
         "yaxis": "y2"
        },
        {
         "hovertemplate": "OWNER=Western Sugar<br>GROUP=G<br>DATE=%{x}<br>TEMP=%{y}<extra></extra>",
         "legendgroup": "Western Sugar",
         "line": {
          "color": "#1F77B4",
          "dash": "solid"
         },
         "marker": {
          "symbol": "circle"
         },
         "mode": "lines",
         "name": "Western Sugar",
         "opacity": 0.7,
         "orientation": "v",
         "showlegend": false,
         "type": "scatter",
         "x": [
          "2022-11-08T00:00:00",
          "2022-11-11T00:00:00",
          "2022-11-15T00:00:00",
          "2022-11-20T00:00:00",
          "2022-11-25T00:00:00",
          "2022-11-28T00:00:00",
          "2022-12-05T00:00:00",
          "2022-12-10T00:00:00",
          "2022-12-12T00:00:00"
         ],
         "xaxis": "x3",
         "y": [
          54,
          42,
          43,
          39,
          42,
          42,
          34,
          36,
          30
         ],
         "yaxis": "y3"
        },
        {
         "hovertemplate": "OWNER=Western Sugar<br>GROUP=A<br>DATE=%{x}<br>TEMP=%{y}<extra></extra>",
         "legendgroup": "Western Sugar",
         "line": {
          "color": "#1F77B4",
          "dash": "solid"
         },
         "marker": {
          "symbol": "circle"
         },
         "mode": "lines",
         "name": "Western Sugar",
         "opacity": 0.7,
         "orientation": "v",
         "showlegend": false,
         "type": "scatter",
         "x": [
          "2022-11-11T00:00:00",
          "2022-11-15T00:00:00",
          "2022-11-20T00:00:00",
          "2022-11-25T00:00:00",
          "2022-11-28T00:00:00",
          "2022-12-02T00:00:00",
          "2022-12-10T00:00:00",
          "2022-12-12T00:00:00"
         ],
         "xaxis": "x4",
         "y": [
          34.8,
          34.8,
          34.4,
          34.2,
          34,
          35,
          35,
          36.6
         ],
         "yaxis": "y4"
        },
        {
         "hovertemplate": "OWNER=Western Sugar<br>GROUP=C<br>DATE=%{x}<br>TEMP=%{y}<extra></extra>",
         "legendgroup": "Western Sugar",
         "line": {
          "color": "#1F77B4",
          "dash": "solid"
         },
         "marker": {
          "symbol": "circle"
         },
         "mode": "lines",
         "name": "Western Sugar",
         "opacity": 0.7,
         "orientation": "v",
         "showlegend": false,
         "type": "scatter",
         "x": [
          "2022-11-11T00:00:00",
          "2022-11-15T00:00:00",
          "2022-11-20T00:00:00",
          "2022-11-25T00:00:00",
          "2022-11-28T00:00:00",
          "2022-12-02T00:00:00",
          "2022-12-10T00:00:00",
          "2022-12-12T00:00:00"
         ],
         "xaxis": "x5",
         "y": [
          36,
          34.8,
          34.6,
          34.6,
          35.4,
          35,
          35.4,
          32.4
         ],
         "yaxis": "y5"
        },
        {
         "hovertemplate": "OWNER=Western Sugar<br>GROUP=D<br>DATE=%{x}<br>TEMP=%{y}<extra></extra>",
         "legendgroup": "Western Sugar",
         "line": {
          "color": "#1F77B4",
          "dash": "solid"
         },
         "marker": {
          "symbol": "circle"
         },
         "mode": "lines",
         "name": "Western Sugar",
         "opacity": 0.7,
         "orientation": "v",
         "showlegend": false,
         "type": "scatter",
         "x": [
          "2022-11-11T00:00:00",
          "2022-11-15T00:00:00",
          "2022-11-20T00:00:00",
          "2022-11-25T00:00:00",
          "2022-11-28T00:00:00",
          "2022-12-02T00:00:00",
          "2022-12-10T00:00:00",
          "2022-12-12T00:00:00"
         ],
         "xaxis": "x6",
         "y": [
          35.8,
          32.8,
          33.4,
          32.4,
          34.6,
          33.4,
          32,
          30.8
         ],
         "yaxis": "y6"
        },
        {
         "hovertemplate": "OWNER=Western Sugar<br>GROUP=B<br>DATE=%{x}<br>TEMP=%{y}<extra></extra>",
         "legendgroup": "Western Sugar",
         "line": {
          "color": "#1F77B4",
          "dash": "solid"
         },
         "marker": {
          "symbol": "circle"
         },
         "mode": "lines",
         "name": "Western Sugar",
         "opacity": 0.7,
         "orientation": "v",
         "showlegend": false,
         "type": "scatter",
         "x": [
          "2022-11-11T00:00:00",
          "2022-11-15T00:00:00",
          "2022-11-20T00:00:00",
          "2022-11-25T00:00:00",
          "2022-11-28T00:00:00",
          "2022-12-02T00:00:00",
          "2022-12-10T00:00:00",
          "2022-12-12T00:00:00"
         ],
         "xaxis": "x7",
         "y": [
          35.6,
          33.6,
          32,
          31.6,
          32.2,
          34.6,
          34.8,
          31.2
         ],
         "yaxis": "y7"
        },
        {
         "hovertemplate": "OWNER=Western Sugar<br>GROUP=H<br>DATE=%{x}<br>TEMP=%{y}<extra></extra>",
         "legendgroup": "Western Sugar",
         "line": {
          "color": "#1F77B4",
          "dash": "solid"
         },
         "marker": {
          "symbol": "circle"
         },
         "mode": "lines",
         "name": "Western Sugar",
         "opacity": 0.7,
         "orientation": "v",
         "showlegend": false,
         "type": "scatter",
         "x": [
          "2022-12-08T00:00:00",
          "2022-12-12T00:00:00"
         ],
         "xaxis": "x8",
         "y": [
          44,
          46
         ],
         "yaxis": "y8"
        },
        {
         "hovertemplate": "OWNER=Western Sugar<br>GROUP=J<br>DATE=%{x}<br>TEMP=%{y}<extra></extra>",
         "legendgroup": "Western Sugar",
         "line": {
          "color": "#1F77B4",
          "dash": "solid"
         },
         "marker": {
          "symbol": "circle"
         },
         "mode": "lines",
         "name": "Western Sugar",
         "opacity": 0.7,
         "orientation": "v",
         "showlegend": false,
         "type": "scatter",
         "x": [
          "2022-12-08T00:00:00",
          "2022-12-12T00:00:00"
         ],
         "xaxis": "x9",
         "y": [
          30,
          30
         ],
         "yaxis": "y9"
        },
        {
         "hovertemplate": "OWNER=Western Sugar<br>GROUP=I<br>DATE=%{x}<br>TEMP=%{y}<extra></extra>",
         "legendgroup": "Western Sugar",
         "line": {
          "color": "#1F77B4",
          "dash": "solid"
         },
         "marker": {
          "symbol": "circle"
         },
         "mode": "lines",
         "name": "Western Sugar",
         "opacity": 0.7,
         "orientation": "v",
         "showlegend": false,
         "type": "scatter",
         "x": [
          "2022-12-08T00:00:00",
          "2022-12-12T00:00:00"
         ],
         "xaxis": "x10",
         "y": [
          36,
          38
         ],
         "yaxis": "y10"
        },
        {
         "hovertemplate": "OWNER=Western Sugar<br>GROUP=M<br>DATE=%{x}<br>TEMP=%{y}<extra></extra>",
         "legendgroup": "Western Sugar",
         "line": {
          "color": "#1F77B4",
          "dash": "solid"
         },
         "marker": {
          "symbol": "circle"
         },
         "mode": "lines",
         "name": "Western Sugar",
         "opacity": 0.7,
         "orientation": "v",
         "showlegend": false,
         "type": "scatter",
         "x": [
          "2022-12-08T00:00:00",
          "2022-12-12T00:00:00"
         ],
         "xaxis": "x11",
         "y": [
          28,
          28
         ],
         "yaxis": "y11"
        },
        {
         "hovertemplate": "OWNER=Western Sugar<br>GROUP=L<br>DATE=%{x}<br>TEMP=%{y}<extra></extra>",
         "legendgroup": "Western Sugar",
         "line": {
          "color": "#1F77B4",
          "dash": "solid"
         },
         "marker": {
          "symbol": "circle"
         },
         "mode": "lines",
         "name": "Western Sugar",
         "opacity": 0.7,
         "orientation": "v",
         "showlegend": false,
         "type": "scatter",
         "x": [
          "2022-12-08T00:00:00",
          "2022-12-12T00:00:00"
         ],
         "xaxis": "x12",
         "y": [
          34,
          30
         ],
         "yaxis": "y12"
        },
        {
         "hovertemplate": "OWNER=CSU<br>GROUP=E<br>DATE=%{x}<br>TEMP=%{y}<extra></extra>",
         "legendgroup": "CSU",
         "line": {
          "color": "#FF7F0E",
          "dash": "solid"
         },
         "marker": {
          "symbol": "circle"
         },
         "mode": "lines",
         "name": "CSU",
         "opacity": 0.7,
         "orientation": "v",
         "showlegend": true,
         "type": "scatter",
         "x": [
          "2022-11-08T00:00:00",
          "2022-11-11T00:00:00",
          "2022-11-15T00:00:00",
          "2022-11-20T00:00:00",
          "2022-11-25T00:00:00",
          "2022-11-28T00:00:00",
          "2022-12-05T00:00:00",
          "2022-12-10T00:00:00",
          "2022-12-12T00:00:00"
         ],
         "xaxis": "x",
         "y": [
          56.2,
          52.5,
          48.3,
          42.1,
          40.5,
          40.7,
          39.9,
          38.1,
          39.8
         ],
         "yaxis": "y"
        },
        {
         "hovertemplate": "OWNER=CSU<br>GROUP=F<br>DATE=%{x}<br>TEMP=%{y}<extra></extra>",
         "legendgroup": "CSU",
         "line": {
          "color": "#FF7F0E",
          "dash": "solid"
         },
         "marker": {
          "symbol": "circle"
         },
         "mode": "lines",
         "name": "CSU",
         "opacity": 0.7,
         "orientation": "v",
         "showlegend": false,
         "type": "scatter",
         "x": [
          "2022-11-08T00:00:00",
          "2022-11-11T00:00:00",
          "2022-11-15T00:00:00",
          "2022-11-20T00:00:00",
          "2022-11-25T00:00:00",
          "2022-11-28T00:00:00",
          "2022-12-05T00:00:00",
          "2022-12-10T00:00:00",
          "2022-12-12T00:00:00"
         ],
         "xaxis": "x2",
         "y": [
          47.5,
          37.1,
          32.5,
          29.1,
          32.3,
          35.8,
          36.6,
          36,
          35.7
         ],
         "yaxis": "y2"
        },
        {
         "hovertemplate": "OWNER=CSU<br>GROUP=G<br>DATE=%{x}<br>TEMP=%{y}<extra></extra>",
         "legendgroup": "CSU",
         "line": {
          "color": "#FF7F0E",
          "dash": "solid"
         },
         "marker": {
          "symbol": "circle"
         },
         "mode": "lines",
         "name": "CSU",
         "opacity": 0.7,
         "orientation": "v",
         "showlegend": false,
         "type": "scatter",
         "x": [
          "2022-11-08T00:00:00",
          "2022-11-11T00:00:00",
          "2022-11-15T00:00:00",
          "2022-11-20T00:00:00",
          "2022-11-25T00:00:00",
          "2022-11-28T00:00:00",
          "2022-12-05T00:00:00",
          "2022-12-10T00:00:00",
          "2022-12-12T00:00:00"
         ],
         "xaxis": "x3",
         "y": [
          56,
          53,
          41.2,
          42.6,
          42.8,
          40.3,
          31.4,
          39.5,
          29.5
         ],
         "yaxis": "y3"
        },
        {
         "hovertemplate": "OWNER=CSU<br>GROUP=A<br>DATE=%{x}<br>TEMP=%{y}<extra></extra>",
         "legendgroup": "CSU",
         "line": {
          "color": "#FF7F0E",
          "dash": "solid"
         },
         "marker": {
          "symbol": "circle"
         },
         "mode": "lines",
         "name": "CSU",
         "opacity": 0.7,
         "orientation": "v",
         "showlegend": false,
         "type": "scatter",
         "x": [
          "2022-11-11T00:00:00",
          "2022-11-15T00:00:00",
          "2022-11-20T00:00:00",
          "2022-11-25T00:00:00",
          "2022-11-28T00:00:00",
          "2022-12-02T00:00:00",
          "2022-12-10T00:00:00",
          "2022-12-12T00:00:00"
         ],
         "xaxis": "x4",
         "y": [
          35.3,
          35,
          34.6,
          32.8,
          33.6,
          35.3,
          35.3,
          37.1
         ],
         "yaxis": "y4"
        },
        {
         "hovertemplate": "OWNER=CSU<br>GROUP=C<br>DATE=%{x}<br>TEMP=%{y}<extra></extra>",
         "legendgroup": "CSU",
         "line": {
          "color": "#FF7F0E",
          "dash": "solid"
         },
         "marker": {
          "symbol": "circle"
         },
         "mode": "lines",
         "name": "CSU",
         "opacity": 0.7,
         "orientation": "v",
         "showlegend": false,
         "type": "scatter",
         "x": [
          "2022-11-11T00:00:00",
          "2022-11-15T00:00:00",
          "2022-11-20T00:00:00",
          "2022-11-25T00:00:00",
          "2022-11-28T00:00:00",
          "2022-12-02T00:00:00",
          "2022-12-10T00:00:00",
          "2022-12-12T00:00:00"
         ],
         "xaxis": "x5",
         "y": [
          36.2,
          35.1,
          34.1,
          33.6,
          33.6,
          32.7,
          30.9,
          31
         ],
         "yaxis": "y5"
        },
        {
         "hovertemplate": "OWNER=CSU<br>GROUP=D<br>DATE=%{x}<br>TEMP=%{y}<extra></extra>",
         "legendgroup": "CSU",
         "line": {
          "color": "#FF7F0E",
          "dash": "solid"
         },
         "marker": {
          "symbol": "circle"
         },
         "mode": "lines",
         "name": "CSU",
         "opacity": 0.7,
         "orientation": "v",
         "showlegend": false,
         "type": "scatter",
         "x": [
          "2022-11-11T00:00:00",
          "2022-11-15T00:00:00",
          "2022-11-20T00:00:00",
          "2022-11-25T00:00:00",
          "2022-11-28T00:00:00",
          "2022-12-02T00:00:00",
          "2022-12-10T00:00:00",
          "2022-12-12T00:00:00"
         ],
         "xaxis": "x6",
         "y": [
          30.2,
          30.2,
          31.8,
          29.9,
          31.2,
          30.3,
          29.8,
          29.1
         ],
         "yaxis": "y6"
        },
        {
         "hovertemplate": "OWNER=CSU<br>GROUP=B<br>DATE=%{x}<br>TEMP=%{y}<extra></extra>",
         "legendgroup": "CSU",
         "line": {
          "color": "#FF7F0E",
          "dash": "solid"
         },
         "marker": {
          "symbol": "circle"
         },
         "mode": "lines",
         "name": "CSU",
         "opacity": 0.7,
         "orientation": "v",
         "showlegend": false,
         "type": "scatter",
         "x": [
          "2022-11-11T00:00:00",
          "2022-11-15T00:00:00",
          "2022-11-20T00:00:00",
          "2022-11-25T00:00:00",
          "2022-11-28T00:00:00",
          "2022-12-02T00:00:00",
          "2022-12-10T00:00:00",
          "2022-12-12T00:00:00"
         ],
         "xaxis": "x7",
         "y": [
          33.8,
          33.4,
          31.5,
          30.5,
          31.4,
          33.8,
          32.8,
          31.3
         ],
         "yaxis": "y7"
        },
        {
         "hovertemplate": "OWNER=CSU<br>GROUP=H<br>DATE=%{x}<br>TEMP=%{y}<extra></extra>",
         "legendgroup": "CSU",
         "line": {
          "color": "#FF7F0E",
          "dash": "solid"
         },
         "marker": {
          "symbol": "circle"
         },
         "mode": "lines",
         "name": "CSU",
         "opacity": 0.7,
         "orientation": "v",
         "showlegend": false,
         "type": "scatter",
         "x": [
          "2022-11-17T00:00:00",
          "2022-12-12T00:00:00"
         ],
         "xaxis": "x8",
         "y": [
          39.6,
          43.4
         ],
         "yaxis": "y8"
        },
        {
         "hovertemplate": "OWNER=CSU<br>GROUP=J<br>DATE=%{x}<br>TEMP=%{y}<extra></extra>",
         "legendgroup": "CSU",
         "line": {
          "color": "#FF7F0E",
          "dash": "solid"
         },
         "marker": {
          "symbol": "circle"
         },
         "mode": "lines",
         "name": "CSU",
         "opacity": 0.7,
         "orientation": "v",
         "showlegend": false,
         "type": "scatter",
         "x": [
          "2022-12-08T00:00:00",
          "2022-12-12T00:00:00"
         ],
         "xaxis": "x9",
         "y": [
          31.6,
          30.1
         ],
         "yaxis": "y9"
        },
        {
         "hovertemplate": "OWNER=CSU<br>GROUP=I<br>DATE=%{x}<br>TEMP=%{y}<extra></extra>",
         "legendgroup": "CSU",
         "line": {
          "color": "#FF7F0E",
          "dash": "solid"
         },
         "marker": {
          "symbol": "circle"
         },
         "mode": "lines",
         "name": "CSU",
         "opacity": 0.7,
         "orientation": "v",
         "showlegend": false,
         "type": "scatter",
         "x": [
          "2022-12-08T00:00:00",
          "2022-12-12T00:00:00"
         ],
         "xaxis": "x10",
         "y": [
          40.7,
          39.5
         ],
         "yaxis": "y10"
        },
        {
         "hovertemplate": "OWNER=CSU<br>GROUP=M<br>DATE=%{x}<br>TEMP=%{y}<extra></extra>",
         "legendgroup": "CSU",
         "line": {
          "color": "#FF7F0E",
          "dash": "solid"
         },
         "marker": {
          "symbol": "circle"
         },
         "mode": "lines",
         "name": "CSU",
         "opacity": 0.7,
         "orientation": "v",
         "showlegend": false,
         "type": "scatter",
         "x": [
          "2022-12-08T00:00:00",
          "2022-12-12T00:00:00"
         ],
         "xaxis": "x11",
         "y": [
          32.5,
          32.1
         ],
         "yaxis": "y11"
        },
        {
         "hovertemplate": "OWNER=CSU<br>GROUP=L<br>DATE=%{x}<br>TEMP=%{y}<extra></extra>",
         "legendgroup": "CSU",
         "line": {
          "color": "#FF7F0E",
          "dash": "solid"
         },
         "marker": {
          "symbol": "circle"
         },
         "mode": "lines",
         "name": "CSU",
         "opacity": 0.7,
         "orientation": "v",
         "showlegend": false,
         "type": "scatter",
         "x": [
          "2022-12-08T00:00:00",
          "2022-12-12T00:00:00"
         ],
         "xaxis": "x12",
         "y": [
          35.3,
          33.9
         ],
         "yaxis": "y12"
        },
        {
         "hovertemplate": "OWNER=CSU<br>GROUP=K<br>DATE=%{x}<br>TEMP=%{y}<extra></extra>",
         "legendgroup": "CSU",
         "line": {
          "color": "#FF7F0E",
          "dash": "solid"
         },
         "marker": {
          "symbol": "circle"
         },
         "mode": "lines",
         "name": "CSU",
         "opacity": 0.7,
         "orientation": "v",
         "showlegend": false,
         "type": "scatter",
         "x": [
          "2022-12-08T00:00:00",
          "2022-12-12T00:00:00"
         ],
         "xaxis": "x13",
         "y": [
          37.5,
          37.5
         ],
         "yaxis": "y13"
        }
       ],
       "layout": {
        "annotations": [
         {
          "font": {},
          "showarrow": false,
          "text": "GROUP=E",
          "x": 0.029230769230769234,
          "xanchor": "center",
          "xref": "paper",
          "y": 1,
          "yanchor": "bottom",
          "yref": "paper"
         },
         {
          "font": {},
          "showarrow": false,
          "text": "GROUP=F",
          "x": 0.1076923076923077,
          "xanchor": "center",
          "xref": "paper",
          "y": 1,
          "yanchor": "bottom",
          "yref": "paper"
         },
         {
          "font": {},
          "showarrow": false,
          "text": "GROUP=G",
          "x": 0.18615384615384617,
          "xanchor": "center",
          "xref": "paper",
          "y": 1,
          "yanchor": "bottom",
          "yref": "paper"
         },
         {
          "font": {},
          "showarrow": false,
          "text": "GROUP=A",
          "x": 0.26461538461538464,
          "xanchor": "center",
          "xref": "paper",
          "y": 1,
          "yanchor": "bottom",
          "yref": "paper"
         },
         {
          "font": {},
          "showarrow": false,
          "text": "GROUP=C",
          "x": 0.3430769230769231,
          "xanchor": "center",
          "xref": "paper",
          "y": 1,
          "yanchor": "bottom",
          "yref": "paper"
         },
         {
          "font": {},
          "showarrow": false,
          "text": "GROUP=D",
          "x": 0.4215384615384616,
          "xanchor": "center",
          "xref": "paper",
          "y": 1,
          "yanchor": "bottom",
          "yref": "paper"
         },
         {
          "font": {},
          "showarrow": false,
          "text": "GROUP=B",
          "x": 0.5,
          "xanchor": "center",
          "xref": "paper",
          "y": 1,
          "yanchor": "bottom",
          "yref": "paper"
         },
         {
          "font": {},
          "showarrow": false,
          "text": "GROUP=H",
          "x": 0.5784615384615384,
          "xanchor": "center",
          "xref": "paper",
          "y": 1,
          "yanchor": "bottom",
          "yref": "paper"
         },
         {
          "font": {},
          "showarrow": false,
          "text": "GROUP=J",
          "x": 0.6569230769230769,
          "xanchor": "center",
          "xref": "paper",
          "y": 1,
          "yanchor": "bottom",
          "yref": "paper"
         },
         {
          "font": {},
          "showarrow": false,
          "text": "GROUP=I",
          "x": 0.7353846153846153,
          "xanchor": "center",
          "xref": "paper",
          "y": 1,
          "yanchor": "bottom",
          "yref": "paper"
         },
         {
          "font": {},
          "showarrow": false,
          "text": "GROUP=M",
          "x": 0.8138461538461539,
          "xanchor": "center",
          "xref": "paper",
          "y": 1,
          "yanchor": "bottom",
          "yref": "paper"
         },
         {
          "font": {},
          "showarrow": false,
          "text": "GROUP=L",
          "x": 0.8923076923076922,
          "xanchor": "center",
          "xref": "paper",
          "y": 1,
          "yanchor": "bottom",
          "yref": "paper"
         },
         {
          "font": {},
          "showarrow": false,
          "text": "GROUP=K",
          "x": 0.9707692307692308,
          "xanchor": "center",
          "xref": "paper",
          "y": 1,
          "yanchor": "bottom",
          "yref": "paper"
         }
        ],
        "legend": {
         "title": {
          "text": "OWNER"
         },
         "tracegroupgap": 0
        },
        "margin": {
         "t": 60
        },
        "template": {
         "data": {
          "bar": [
           {
            "error_x": {
             "color": "rgb(36,36,36)"
            },
            "error_y": {
             "color": "rgb(36,36,36)"
            },
            "marker": {
             "line": {
              "color": "white",
              "width": 0.5
             },
             "pattern": {
              "fillmode": "overlay",
              "size": 10,
              "solidity": 0.2
             }
            },
            "type": "bar"
           }
          ],
          "barpolar": [
           {
            "marker": {
             "line": {
              "color": "white",
              "width": 0.5
             },
             "pattern": {
              "fillmode": "overlay",
              "size": 10,
              "solidity": 0.2
             }
            },
            "type": "barpolar"
           }
          ],
          "carpet": [
           {
            "aaxis": {
             "endlinecolor": "rgb(36,36,36)",
             "gridcolor": "white",
             "linecolor": "white",
             "minorgridcolor": "white",
             "startlinecolor": "rgb(36,36,36)"
            },
            "baxis": {
             "endlinecolor": "rgb(36,36,36)",
             "gridcolor": "white",
             "linecolor": "white",
             "minorgridcolor": "white",
             "startlinecolor": "rgb(36,36,36)"
            },
            "type": "carpet"
           }
          ],
          "choropleth": [
           {
            "colorbar": {
             "outlinewidth": 1,
             "tickcolor": "rgb(36,36,36)",
             "ticks": "outside"
            },
            "type": "choropleth"
           }
          ],
          "contour": [
           {
            "colorbar": {
             "outlinewidth": 1,
             "tickcolor": "rgb(36,36,36)",
             "ticks": "outside"
            },
            "colorscale": [
             [
              0,
              "#440154"
             ],
             [
              0.1111111111111111,
              "#482878"
             ],
             [
              0.2222222222222222,
              "#3e4989"
             ],
             [
              0.3333333333333333,
              "#31688e"
             ],
             [
              0.4444444444444444,
              "#26828e"
             ],
             [
              0.5555555555555556,
              "#1f9e89"
             ],
             [
              0.6666666666666666,
              "#35b779"
             ],
             [
              0.7777777777777778,
              "#6ece58"
             ],
             [
              0.8888888888888888,
              "#b5de2b"
             ],
             [
              1,
              "#fde725"
             ]
            ],
            "type": "contour"
           }
          ],
          "contourcarpet": [
           {
            "colorbar": {
             "outlinewidth": 1,
             "tickcolor": "rgb(36,36,36)",
             "ticks": "outside"
            },
            "type": "contourcarpet"
           }
          ],
          "heatmap": [
           {
            "colorbar": {
             "outlinewidth": 1,
             "tickcolor": "rgb(36,36,36)",
             "ticks": "outside"
            },
            "colorscale": [
             [
              0,
              "#440154"
             ],
             [
              0.1111111111111111,
              "#482878"
             ],
             [
              0.2222222222222222,
              "#3e4989"
             ],
             [
              0.3333333333333333,
              "#31688e"
             ],
             [
              0.4444444444444444,
              "#26828e"
             ],
             [
              0.5555555555555556,
              "#1f9e89"
             ],
             [
              0.6666666666666666,
              "#35b779"
             ],
             [
              0.7777777777777778,
              "#6ece58"
             ],
             [
              0.8888888888888888,
              "#b5de2b"
             ],
             [
              1,
              "#fde725"
             ]
            ],
            "type": "heatmap"
           }
          ],
          "heatmapgl": [
           {
            "colorbar": {
             "outlinewidth": 1,
             "tickcolor": "rgb(36,36,36)",
             "ticks": "outside"
            },
            "colorscale": [
             [
              0,
              "#440154"
             ],
             [
              0.1111111111111111,
              "#482878"
             ],
             [
              0.2222222222222222,
              "#3e4989"
             ],
             [
              0.3333333333333333,
              "#31688e"
             ],
             [
              0.4444444444444444,
              "#26828e"
             ],
             [
              0.5555555555555556,
              "#1f9e89"
             ],
             [
              0.6666666666666666,
              "#35b779"
             ],
             [
              0.7777777777777778,
              "#6ece58"
             ],
             [
              0.8888888888888888,
              "#b5de2b"
             ],
             [
              1,
              "#fde725"
             ]
            ],
            "type": "heatmapgl"
           }
          ],
          "histogram": [
           {
            "marker": {
             "line": {
              "color": "white",
              "width": 0.6
             }
            },
            "type": "histogram"
           }
          ],
          "histogram2d": [
           {
            "colorbar": {
             "outlinewidth": 1,
             "tickcolor": "rgb(36,36,36)",
             "ticks": "outside"
            },
            "colorscale": [
             [
              0,
              "#440154"
             ],
             [
              0.1111111111111111,
              "#482878"
             ],
             [
              0.2222222222222222,
              "#3e4989"
             ],
             [
              0.3333333333333333,
              "#31688e"
             ],
             [
              0.4444444444444444,
              "#26828e"
             ],
             [
              0.5555555555555556,
              "#1f9e89"
             ],
             [
              0.6666666666666666,
              "#35b779"
             ],
             [
              0.7777777777777778,
              "#6ece58"
             ],
             [
              0.8888888888888888,
              "#b5de2b"
             ],
             [
              1,
              "#fde725"
             ]
            ],
            "type": "histogram2d"
           }
          ],
          "histogram2dcontour": [
           {
            "colorbar": {
             "outlinewidth": 1,
             "tickcolor": "rgb(36,36,36)",
             "ticks": "outside"
            },
            "colorscale": [
             [
              0,
              "#440154"
             ],
             [
              0.1111111111111111,
              "#482878"
             ],
             [
              0.2222222222222222,
              "#3e4989"
             ],
             [
              0.3333333333333333,
              "#31688e"
             ],
             [
              0.4444444444444444,
              "#26828e"
             ],
             [
              0.5555555555555556,
              "#1f9e89"
             ],
             [
              0.6666666666666666,
              "#35b779"
             ],
             [
              0.7777777777777778,
              "#6ece58"
             ],
             [
              0.8888888888888888,
              "#b5de2b"
             ],
             [
              1,
              "#fde725"
             ]
            ],
            "type": "histogram2dcontour"
           }
          ],
          "mesh3d": [
           {
            "colorbar": {
             "outlinewidth": 1,
             "tickcolor": "rgb(36,36,36)",
             "ticks": "outside"
            },
            "type": "mesh3d"
           }
          ],
          "parcoords": [
           {
            "line": {
             "colorbar": {
              "outlinewidth": 1,
              "tickcolor": "rgb(36,36,36)",
              "ticks": "outside"
             }
            },
            "type": "parcoords"
           }
          ],
          "pie": [
           {
            "automargin": true,
            "type": "pie"
           }
          ],
          "scatter": [
           {
            "fillpattern": {
             "fillmode": "overlay",
             "size": 10,
             "solidity": 0.2
            },
            "type": "scatter"
           }
          ],
          "scatter3d": [
           {
            "line": {
             "colorbar": {
              "outlinewidth": 1,
              "tickcolor": "rgb(36,36,36)",
              "ticks": "outside"
             }
            },
            "marker": {
             "colorbar": {
              "outlinewidth": 1,
              "tickcolor": "rgb(36,36,36)",
              "ticks": "outside"
             }
            },
            "type": "scatter3d"
           }
          ],
          "scattercarpet": [
           {
            "marker": {
             "colorbar": {
              "outlinewidth": 1,
              "tickcolor": "rgb(36,36,36)",
              "ticks": "outside"
             }
            },
            "type": "scattercarpet"
           }
          ],
          "scattergeo": [
           {
            "marker": {
             "colorbar": {
              "outlinewidth": 1,
              "tickcolor": "rgb(36,36,36)",
              "ticks": "outside"
             }
            },
            "type": "scattergeo"
           }
          ],
          "scattergl": [
           {
            "marker": {
             "colorbar": {
              "outlinewidth": 1,
              "tickcolor": "rgb(36,36,36)",
              "ticks": "outside"
             }
            },
            "type": "scattergl"
           }
          ],
          "scattermapbox": [
           {
            "marker": {
             "colorbar": {
              "outlinewidth": 1,
              "tickcolor": "rgb(36,36,36)",
              "ticks": "outside"
             }
            },
            "type": "scattermapbox"
           }
          ],
          "scatterpolar": [
           {
            "marker": {
             "colorbar": {
              "outlinewidth": 1,
              "tickcolor": "rgb(36,36,36)",
              "ticks": "outside"
             }
            },
            "type": "scatterpolar"
           }
          ],
          "scatterpolargl": [
           {
            "marker": {
             "colorbar": {
              "outlinewidth": 1,
              "tickcolor": "rgb(36,36,36)",
              "ticks": "outside"
             }
            },
            "type": "scatterpolargl"
           }
          ],
          "scatterternary": [
           {
            "marker": {
             "colorbar": {
              "outlinewidth": 1,
              "tickcolor": "rgb(36,36,36)",
              "ticks": "outside"
             }
            },
            "type": "scatterternary"
           }
          ],
          "surface": [
           {
            "colorbar": {
             "outlinewidth": 1,
             "tickcolor": "rgb(36,36,36)",
             "ticks": "outside"
            },
            "colorscale": [
             [
              0,
              "#440154"
             ],
             [
              0.1111111111111111,
              "#482878"
             ],
             [
              0.2222222222222222,
              "#3e4989"
             ],
             [
              0.3333333333333333,
              "#31688e"
             ],
             [
              0.4444444444444444,
              "#26828e"
             ],
             [
              0.5555555555555556,
              "#1f9e89"
             ],
             [
              0.6666666666666666,
              "#35b779"
             ],
             [
              0.7777777777777778,
              "#6ece58"
             ],
             [
              0.8888888888888888,
              "#b5de2b"
             ],
             [
              1,
              "#fde725"
             ]
            ],
            "type": "surface"
           }
          ],
          "table": [
           {
            "cells": {
             "fill": {
              "color": "rgb(237,237,237)"
             },
             "line": {
              "color": "white"
             }
            },
            "header": {
             "fill": {
              "color": "rgb(217,217,217)"
             },
             "line": {
              "color": "white"
             }
            },
            "type": "table"
           }
          ]
         },
         "layout": {
          "annotationdefaults": {
           "arrowhead": 0,
           "arrowwidth": 1
          },
          "autotypenumbers": "strict",
          "coloraxis": {
           "colorbar": {
            "outlinewidth": 1,
            "tickcolor": "rgb(36,36,36)",
            "ticks": "outside"
           }
          },
          "colorscale": {
           "diverging": [
            [
             0,
             "rgb(103,0,31)"
            ],
            [
             0.1,
             "rgb(178,24,43)"
            ],
            [
             0.2,
             "rgb(214,96,77)"
            ],
            [
             0.3,
             "rgb(244,165,130)"
            ],
            [
             0.4,
             "rgb(253,219,199)"
            ],
            [
             0.5,
             "rgb(247,247,247)"
            ],
            [
             0.6,
             "rgb(209,229,240)"
            ],
            [
             0.7,
             "rgb(146,197,222)"
            ],
            [
             0.8,
             "rgb(67,147,195)"
            ],
            [
             0.9,
             "rgb(33,102,172)"
            ],
            [
             1,
             "rgb(5,48,97)"
            ]
           ],
           "sequential": [
            [
             0,
             "#440154"
            ],
            [
             0.1111111111111111,
             "#482878"
            ],
            [
             0.2222222222222222,
             "#3e4989"
            ],
            [
             0.3333333333333333,
             "#31688e"
            ],
            [
             0.4444444444444444,
             "#26828e"
            ],
            [
             0.5555555555555556,
             "#1f9e89"
            ],
            [
             0.6666666666666666,
             "#35b779"
            ],
            [
             0.7777777777777778,
             "#6ece58"
            ],
            [
             0.8888888888888888,
             "#b5de2b"
            ],
            [
             1,
             "#fde725"
            ]
           ],
           "sequentialminus": [
            [
             0,
             "#440154"
            ],
            [
             0.1111111111111111,
             "#482878"
            ],
            [
             0.2222222222222222,
             "#3e4989"
            ],
            [
             0.3333333333333333,
             "#31688e"
            ],
            [
             0.4444444444444444,
             "#26828e"
            ],
            [
             0.5555555555555556,
             "#1f9e89"
            ],
            [
             0.6666666666666666,
             "#35b779"
            ],
            [
             0.7777777777777778,
             "#6ece58"
            ],
            [
             0.8888888888888888,
             "#b5de2b"
            ],
            [
             1,
             "#fde725"
            ]
           ]
          },
          "colorway": [
           "#1F77B4",
           "#FF7F0E",
           "#2CA02C",
           "#D62728",
           "#9467BD",
           "#8C564B",
           "#E377C2",
           "#7F7F7F",
           "#BCBD22",
           "#17BECF"
          ],
          "font": {
           "color": "rgb(36,36,36)"
          },
          "geo": {
           "bgcolor": "white",
           "lakecolor": "white",
           "landcolor": "white",
           "showlakes": true,
           "showland": true,
           "subunitcolor": "white"
          },
          "hoverlabel": {
           "align": "left"
          },
          "hovermode": "closest",
          "mapbox": {
           "style": "light"
          },
          "paper_bgcolor": "white",
          "plot_bgcolor": "white",
          "polar": {
           "angularaxis": {
            "gridcolor": "rgb(232,232,232)",
            "linecolor": "rgb(36,36,36)",
            "showgrid": false,
            "showline": true,
            "ticks": "outside"
           },
           "bgcolor": "white",
           "radialaxis": {
            "gridcolor": "rgb(232,232,232)",
            "linecolor": "rgb(36,36,36)",
            "showgrid": false,
            "showline": true,
            "ticks": "outside"
           }
          },
          "scene": {
           "xaxis": {
            "backgroundcolor": "white",
            "gridcolor": "rgb(232,232,232)",
            "gridwidth": 2,
            "linecolor": "rgb(36,36,36)",
            "showbackground": true,
            "showgrid": false,
            "showline": true,
            "ticks": "outside",
            "zeroline": false,
            "zerolinecolor": "rgb(36,36,36)"
           },
           "yaxis": {
            "backgroundcolor": "white",
            "gridcolor": "rgb(232,232,232)",
            "gridwidth": 2,
            "linecolor": "rgb(36,36,36)",
            "showbackground": true,
            "showgrid": false,
            "showline": true,
            "ticks": "outside",
            "zeroline": false,
            "zerolinecolor": "rgb(36,36,36)"
           },
           "zaxis": {
            "backgroundcolor": "white",
            "gridcolor": "rgb(232,232,232)",
            "gridwidth": 2,
            "linecolor": "rgb(36,36,36)",
            "showbackground": true,
            "showgrid": false,
            "showline": true,
            "ticks": "outside",
            "zeroline": false,
            "zerolinecolor": "rgb(36,36,36)"
           }
          },
          "shapedefaults": {
           "fillcolor": "black",
           "line": {
            "width": 0
           },
           "opacity": 0.3
          },
          "ternary": {
           "aaxis": {
            "gridcolor": "rgb(232,232,232)",
            "linecolor": "rgb(36,36,36)",
            "showgrid": false,
            "showline": true,
            "ticks": "outside"
           },
           "baxis": {
            "gridcolor": "rgb(232,232,232)",
            "linecolor": "rgb(36,36,36)",
            "showgrid": false,
            "showline": true,
            "ticks": "outside"
           },
           "bgcolor": "white",
           "caxis": {
            "gridcolor": "rgb(232,232,232)",
            "linecolor": "rgb(36,36,36)",
            "showgrid": false,
            "showline": true,
            "ticks": "outside"
           }
          },
          "title": {
           "x": 0.05
          },
          "xaxis": {
           "automargin": true,
           "gridcolor": "rgb(232,232,232)",
           "linecolor": "rgb(36,36,36)",
           "showgrid": false,
           "showline": true,
           "ticks": "outside",
           "title": {
            "standoff": 15
           },
           "zeroline": false,
           "zerolinecolor": "rgb(36,36,36)"
          },
          "yaxis": {
           "automargin": true,
           "gridcolor": "rgb(232,232,232)",
           "linecolor": "rgb(36,36,36)",
           "showgrid": false,
           "showline": true,
           "ticks": "outside",
           "title": {
            "standoff": 15
           },
           "zeroline": false,
           "zerolinecolor": "rgb(36,36,36)"
          }
         }
        },
        "xaxis": {
         "anchor": "y",
         "domain": [
          0,
          0.05846153846153847
         ],
         "title": {
          "text": "DATE"
         }
        },
        "xaxis10": {
         "anchor": "y10",
         "domain": [
          0.7061538461538461,
          0.7646153846153846
         ],
         "matches": "x",
         "title": {
          "text": "DATE"
         }
        },
        "xaxis11": {
         "anchor": "y11",
         "domain": [
          0.7846153846153847,
          0.8430769230769232
         ],
         "matches": "x",
         "title": {
          "text": "DATE"
         }
        },
        "xaxis12": {
         "anchor": "y12",
         "domain": [
          0.8630769230769231,
          0.9215384615384615
         ],
         "matches": "x",
         "title": {
          "text": "DATE"
         }
        },
        "xaxis13": {
         "anchor": "y13",
         "domain": [
          0.9415384615384615,
          1
         ],
         "matches": "x",
         "title": {
          "text": "DATE"
         }
        },
        "xaxis2": {
         "anchor": "y2",
         "domain": [
          0.07846153846153847,
          0.13692307692307693
         ],
         "matches": "x",
         "title": {
          "text": "DATE"
         }
        },
        "xaxis3": {
         "anchor": "y3",
         "domain": [
          0.15692307692307694,
          0.2153846153846154
         ],
         "matches": "x",
         "title": {
          "text": "DATE"
         }
        },
        "xaxis4": {
         "anchor": "y4",
         "domain": [
          0.23538461538461541,
          0.29384615384615387
         ],
         "matches": "x",
         "title": {
          "text": "DATE"
         }
        },
        "xaxis5": {
         "anchor": "y5",
         "domain": [
          0.3138461538461539,
          0.37230769230769234
         ],
         "matches": "x",
         "title": {
          "text": "DATE"
         }
        },
        "xaxis6": {
         "anchor": "y6",
         "domain": [
          0.39230769230769236,
          0.4507692307692308
         ],
         "matches": "x",
         "title": {
          "text": "DATE"
         }
        },
        "xaxis7": {
         "anchor": "y7",
         "domain": [
          0.4707692307692308,
          0.5292307692307693
         ],
         "matches": "x",
         "title": {
          "text": "DATE"
         }
        },
        "xaxis8": {
         "anchor": "y8",
         "domain": [
          0.5492307692307692,
          0.6076923076923076
         ],
         "matches": "x",
         "title": {
          "text": "DATE"
         }
        },
        "xaxis9": {
         "anchor": "y9",
         "domain": [
          0.6276923076923077,
          0.6861538461538461
         ],
         "matches": "x",
         "title": {
          "text": "DATE"
         }
        },
        "yaxis": {
         "anchor": "x",
         "domain": [
          0,
          1
         ],
         "title": {
          "text": "TEMP"
         }
        },
        "yaxis10": {
         "anchor": "x10",
         "domain": [
          0,
          1
         ],
         "matches": "y",
         "showticklabels": false
        },
        "yaxis11": {
         "anchor": "x11",
         "domain": [
          0,
          1
         ],
         "matches": "y",
         "showticklabels": false
        },
        "yaxis12": {
         "anchor": "x12",
         "domain": [
          0,
          1
         ],
         "matches": "y",
         "showticklabels": false
        },
        "yaxis13": {
         "anchor": "x13",
         "domain": [
          0,
          1
         ],
         "matches": "y",
         "showticklabels": false
        },
        "yaxis2": {
         "anchor": "x2",
         "domain": [
          0,
          1
         ],
         "matches": "y",
         "showticklabels": false
        },
        "yaxis3": {
         "anchor": "x3",
         "domain": [
          0,
          1
         ],
         "matches": "y",
         "showticklabels": false
        },
        "yaxis4": {
         "anchor": "x4",
         "domain": [
          0,
          1
         ],
         "matches": "y",
         "showticklabels": false
        },
        "yaxis5": {
         "anchor": "x5",
         "domain": [
          0,
          1
         ],
         "matches": "y",
         "showticklabels": false
        },
        "yaxis6": {
         "anchor": "x6",
         "domain": [
          0,
          1
         ],
         "matches": "y",
         "showticklabels": false
        },
        "yaxis7": {
         "anchor": "x7",
         "domain": [
          0,
          1
         ],
         "matches": "y",
         "showticklabels": false
        },
        "yaxis8": {
         "anchor": "x8",
         "domain": [
          0,
          1
         ],
         "matches": "y",
         "showticklabels": false
        },
        "yaxis9": {
         "anchor": "x9",
         "domain": [
          0,
          1
         ],
         "matches": "y",
         "showticklabels": false
        }
       }
      }
     },
     "metadata": {},
     "output_type": "display_data"
    }
   ],
   "source": [
    "fig_temp_time = px.line(\n",
    "    df.sort_values(by='DATE').dropna(), # use ftmorgan_df or greeley_df to clean up graph by location\n",
    "    x=\"DATE\", \n",
    "    y=\"TEMP\",\n",
    "    color = 'OWNER',\n",
    "    facet_col=\"GROUP\",\n",
    "    template='simple_white'\n",
    ")\n",
    "fig_temp_time.update_traces(opacity=0.7)\n",
    "fig_temp_time.show()"
   ]
  },
  {
   "cell_type": "markdown",
   "id": "fadfe271-e1b4-4f4a-9e87-5869ccd508c6",
   "metadata": {},
   "source": [
    "## Table of Raw Data <a name=\"data\"></a>"
   ]
  },
  {
   "cell_type": "code",
   "execution_count": 41,
   "id": "b7344b93-0df0-4053-b66c-8731b5182d78",
   "metadata": {},
   "outputs": [
    {
     "data": {
      "text/html": [
       "<table id=\"764079bb-e3c8-4b00-b0bb-78254bbb56a8\" class=\"display\"style=\"max-width:100%\"><thead>\n",
       "    <tr style=\"text-align: right;\">\n",
       "      <th></th>\n",
       "      <th>DATE</th>\n",
       "      <th>SENSOR_CSU</th>\n",
       "      <th>GROUP</th>\n",
       "      <th>TEMP_CSU</th>\n",
       "      <th>PILE-TYPE</th>\n",
       "      <th>OWNER_CSU</th>\n",
       "      <th>LOCATION</th>\n",
       "      <th>NOTES_CSU</th>\n",
       "      <th>SENSOR_WS</th>\n",
       "      <th>TEMP_WS</th>\n",
       "      <th>OWNER_WS</th>\n",
       "      <th>NOTES_WS</th>\n",
       "    </tr>\n",
       "  </thead><tbody><tr><td>Loading... (need <a href=https://mwouts.github.io/itables/troubleshooting.html>help</a>?)</td></tr></tbody></table>\n",
       "<style>\n",
       "table td {\n",
       "    text-overflow: ellipsis;\n",
       "    overflow: hidden;\n",
       "}\n",
       "\n",
       "table th {\n",
       "    text-overflow: ellipsis;\n",
       "    overflow: hidden;\n",
       "}\n",
       "\n",
       "thead input {\n",
       "    width: 100%;\n",
       "    padding: 3px;\n",
       "    box-sizing: border-box;\n",
       "}\n",
       "\n",
       "tfoot input {\n",
       "    width: 100%;\n",
       "    padding: 3px;\n",
       "    box-sizing: border-box;\n",
       "}\n",
       "\n",
       "</style>\n",
       "<link rel=\"stylesheet\" type=\"text/css\" href=\"https://cdn.datatables.net/1.12.1/css/jquery.dataTables.min.css\">\n",
       "<script type=\"module\">\n",
       "    // Import jquery and DataTable\n",
       "    import 'https://code.jquery.com/jquery-3.6.0.min.js';\n",
       "    import dt from 'https://cdn.datatables.net/1.12.1/js/jquery.dataTables.mjs';\n",
       "    dt($);\n",
       "\n",
       "    // Define the table data\n",
       "    const data = [[0, \"2022-11-08\", 6.0, \"E\", 56.2, \"non-vented\", \"CSU\", \"Fort Morgan\", \"temp values provided by Steward Norrish\", 6.0, 56.0, \"Western Sugar\", \"temp values provided by Steward Norrish\"], [1, \"2022-11-08\", 7.0, \"F\", 47.5, \"non-vented\", \"CSU\", \"Fort Morgan\", \"temp values provided by Steward Norrish\", 7.0, 48.0, \"Western Sugar\", \"temp values provided by Steward Norrish\"], [2, \"2022-11-08\", 8.0, \"G\", 56.0, \"non-vented\", \"CSU\", \"Fort Morgan\", \"temp values provided by Steward Norrish\", 8.0, 54.0, \"Western Sugar\", \"temp values provided by Steward Norrish\"], [3, \"2022-11-11\", 2.0, \"A\", 35.3, \"vented\", \"CSU\", \"Fort Morgan\", \"temp values provided by Steward Norrish\", 6.0, 34.8, \"Western Sugar\", \"temp values provided by Steward Norrish\"], [4, \"2022-11-11\", 4.0, \"C\", 36.2, \"vented\", \"CSU\", \"Fort Morgan\", \"temp values provided by Steward Norrish\", 9.0, 36.0, \"Western Sugar\", \"temp values provided by Steward Norrish\"], [5, \"2022-11-11\", 6.0, \"E\", 52.5, \"non-vented\", \"CSU\", \"Fort Morgan\", \"temp values provided by Steward Norrish\", 6.0, 42.0, \"Western Sugar\", \"temp values provided by Steward Norrish\"], [6, \"2022-11-11\", 7.0, \"F\", 37.1, \"non-vented\", \"CSU\", \"Fort Morgan\", \"temp values provided by Steward Norrish\", 7.0, 36.0, \"Western Sugar\", \"temp values provided by Steward Norrish\"], [7, \"2022-11-11\", 3.0, \"B\", 33.8, \"vented\", \"CSU\", \"Fort Morgan\", \"temp values provided by Steward Norrish\", 2.0, 35.6, \"Western Sugar\", \"temp values provided by Steward Norrish\"], [8, \"2022-11-11\", 5.0, \"D\", 30.2, \"vented\", \"CSU\", \"Fort Morgan\", \"temp values provided by Steward Norrish\", 5.0, 35.8, \"Western Sugar\", \"temp values provided by Steward Norrish\"], [9, \"2022-11-11\", 8.0, \"G\", 53.0, \"non-vented\", \"CSU\", \"Fort Morgan\", \"temp values provided by Steward Norrish\", 8.0, 42.0, \"Western Sugar\", \"temp values provided by Steward Norrish\"], [10, \"2022-11-15\", 3.0, \"B\", 33.4, \"vented\", \"CSU\", \"Fort Morgan\", \"temp values provided by Steward Norrish\", 2.0, 33.6, \"Western Sugar\", \"temp values provided by Steward Norrish\"], [11, \"2022-11-15\", 5.0, \"D\", 30.2, \"vented\", \"CSU\", \"Fort Morgan\", \"temp values provided by Steward Norrish\", 5.0, 32.8, \"Western Sugar\", \"temp values provided by Steward Norrish\"], [12, \"2022-11-15\", 8.0, \"G\", 41.2, \"non-vented\", \"CSU\", \"Fort Morgan\", \"temp values provided by Steward Norrish\", 8.0, 43.0, \"Western Sugar\", \"temp values provided by Steward Norrish\"], [13, \"2022-11-15\", 6.0, \"E\", 48.3, \"non-vented\", \"CSU\", \"Fort Morgan\", \"temp values provided by Steward Norrish\", 6.0, 50.0, \"Western Sugar\", \"temp values provided by Steward Norrish\"], [14, \"2022-11-15\", 2.0, \"A\", 35.0, \"vented\", \"CSU\", \"Fort Morgan\", \"temp values provided by Steward Norrish\", 6.0, 34.8, \"Western Sugar\", \"temp values provided by Steward Norrish\"], [15, \"2022-11-15\", 4.0, \"C\", 35.1, \"vented\", \"CSU\", \"Fort Morgan\", \"temp values provided by Steward Norrish\", 9.0, 34.8, \"Western Sugar\", \"temp values provided by Steward Norrish\"], [16, \"2022-11-15\", 7.0, \"F\", 32.5, \"non-vented\", \"CSU\", \"Fort Morgan\", \"temp values provided by Steward Norrish\", 7.0, 29.0, \"Western Sugar\", \"temp values provided by Steward Norrish\"], [17, \"2022-11-20\", 8.0, \"G\", 42.6, \"non-vented\", \"CSU\", \"Fort Morgan\", \"temp values provided by Steward Norrish\", 8.0, 39.0, \"Western Sugar\", \"temp values provided by Steward Norrish\"], [18, \"2022-11-20\", 5.0, \"D\", 31.8, \"vented\", \"CSU\", \"Fort Morgan\", \"temp values provided by Steward Norrish\", 5.0, 33.4, \"Western Sugar\", \"temp values provided by Steward Norrish\"], [19, \"2022-11-20\", 7.0, \"F\", 29.1, \"non-vented\", \"CSU\", \"Fort Morgan\", \"temp values provided by Steward Norrish\", 7.0, 30.0, \"Western Sugar\", \"temp values provided by Steward Norrish\"], [20, \"2022-11-20\", 6.0, \"E\", 42.1, \"non-vented\", \"CSU\", \"Fort Morgan\", \"temp values provided by Steward Norrish\", 6.0, 41.0, \"Western Sugar\", \"temp values provided by Steward Norrish\"], [21, \"2022-11-20\", 2.0, \"A\", 34.6, \"vented\", \"CSU\", \"Fort Morgan\", \"temp values provided by Steward Norrish\", 6.0, 34.4, \"Western Sugar\", \"temp values provided by Steward Norrish\"], [22, \"2022-11-20\", 4.0, \"C\", 34.1, \"vented\", \"CSU\", \"Fort Morgan\", \"temp values provided by Steward Norrish\", 9.0, 34.6, \"Western Sugar\", \"temp values provided by Steward Norrish\"], [23, \"2022-11-20\", 3.0, \"B\", 31.5, \"vented\", \"CSU\", \"Fort Morgan\", \"temp values provided by Steward Norrish\", 2.0, 32.0, \"Western Sugar\", \"temp values provided by Steward Norrish\"], [24, \"2022-11-25\", 2.0, \"A\", 32.8, \"vented\", \"CSU\", \"Fort Morgan\", \"temp values provided by Steward Norrish\", 6.0, 34.2, \"Western Sugar\", \"temp values provided by Steward Norrish\"], [25, \"2022-11-25\", 6.0, \"E\", 40.5, \"non-vented\", \"CSU\", \"Fort Morgan\", \"temp values provided by Steward Norrish\", 6.0, 40.0, \"Western Sugar\", \"temp values provided by Steward Norrish\"], [26, \"2022-11-25\", 7.0, \"F\", 32.3, \"non-vented\", \"CSU\", \"Fort Morgan\", \"temp values provided by Steward Norrish\", 7.0, 36.0, \"Western Sugar\", \"temp values provided by Steward Norrish\"], [27, \"2022-11-25\", 8.0, \"G\", 42.8, \"non-vented\", \"CSU\", \"Fort Morgan\", \"temp values provided by Steward Norrish\", 8.0, 42.0, \"Western Sugar\", \"temp values provided by Steward Norrish\"], [28, \"2022-11-25\", 3.0, \"B\", 30.5, \"vented\", \"CSU\", \"Fort Morgan\", \"temp values provided by Steward Norrish\", 2.0, 31.6, \"Western Sugar\", \"temp values provided by Steward Norrish\"], [29, \"2022-11-25\", 5.0, \"D\", 29.9, \"vented\", \"CSU\", \"Fort Morgan\", \"temp values provided by Steward Norrish\", 5.0, 32.4, \"Western Sugar\", \"temp values provided by Steward Norrish\"], [30, \"2022-11-25\", 4.0, \"C\", 33.6, \"vented\", \"CSU\", \"Fort Morgan\", \"temp values provided by Steward Norrish\", 9.0, 34.6, \"Western Sugar\", \"temp values provided by Steward Norrish\"], [31, \"2022-11-28\", 5.0, \"D\", 31.2, \"vented\", \"CSU\", \"Fort Morgan\", \"temp values provided by Steward Norrish\", 5.0, 34.6, \"Western Sugar\", \"temp values provided by Steward Norrish\"], [32, \"2022-11-28\", 3.0, \"B\", 31.4, \"vented\", \"CSU\", \"Fort Morgan\", \"temp values provided by Steward Norrish\", 2.0, 32.2, \"Western Sugar\", \"temp values provided by Steward Norrish\"], [33, \"2022-11-28\", 2.0, \"A\", 33.6, \"vented\", \"CSU\", \"Fort Morgan\", \"temp values provided by Steward Norrish\", 6.0, 34.0, \"Western Sugar\", \"temp values provided by Steward Norrish\"], [34, \"2022-11-28\", 4.0, \"C\", 33.6, \"vented\", \"CSU\", \"Fort Morgan\", \"temp values provided by Steward Norrish\", 9.0, 35.4, \"Western Sugar\", \"temp values provided by Steward Norrish\"], [35, \"2022-11-28\", 6.0, \"E\", 40.7, \"non-vented\", \"CSU\", \"Fort Morgan\", \"temp values provided by Steward Norrish\", 6.0, 39.0, \"Western Sugar\", \"temp values provided by Steward Norrish\"], [36, \"2022-11-28\", 8.0, \"G\", 40.3, \"non-vented\", \"CSU\", \"Fort Morgan\", \"temp values provided by Steward Norrish\", 8.0, 42.0, \"Western Sugar\", \"temp values provided by Steward Norrish\"], [37, \"2022-11-28\", 7.0, \"F\", 35.8, \"non-vented\", \"CSU\", \"Fort Morgan\", \"temp values provided by Steward Norrish\", 7.0, 34.0, \"Western Sugar\", \"temp values provided by Steward Norrish\"], [38, \"2022-12-02\", 2.0, \"A\", 35.3, \"vented\", \"CSU\", \"Fort Morgan\", \"temp values provided by Steward Norrish\", 6.0, 35.0, \"Western Sugar\", \"temp values provided by Steward Norrish\"], [39, \"2022-12-02\", 3.0, \"B\", 33.8, \"vented\", \"CSU\", \"Fort Morgan\", \"temp values provided by Steward Norrish\", 2.0, 34.6, \"Western Sugar\", \"temp values provided by Steward Norrish\"], [40, \"2022-12-02\", 4.0, \"C\", 32.7, \"vented\", \"CSU\", \"Fort Morgan\", \"temp values provided by Steward Norrish\", 9.0, 35.0, \"Western Sugar\", \"temp values provided by Steward Norrish\"], [41, \"2022-12-02\", 5.0, \"D\", 30.3, \"vented\", \"CSU\", \"Fort Morgan\", \"temp values provided by Steward Norrish\", 5.0, 33.4, \"Western Sugar\", \"temp values provided by Steward Norrish\"], [42, \"2022-12-05\", 6.0, \"E\", 39.9, \"non-vented\", \"CSU\", \"Fort Morgan\", \"temp values provided by Steward Norrish\", 6.0, 38.0, \"Western Sugar\", \"temp values provided by Steward Norrish\"], [43, \"2022-12-05\", 8.0, \"G\", 31.4, \"non-vented\", \"CSU\", \"Fort Morgan\", \"temp values provided by Steward Norrish\", 8.0, 34.0, \"Western Sugar\", \"temp values provided by Steward Norrish\"], [44, \"2022-12-05\", 7.0, \"F\", 36.6, \"non-vented\", \"CSU\", \"Fort Morgan\", \"temp values provided by Steward Norrish\", 7.0, 36.0, \"Western Sugar\", \"temp values provided by Steward Norrish\"], [45, \"2022-12-08\", 10.0, \"I\", 40.7, \"non-vented\", \"CSU\", \"Greeley\", \"assuming 11am reading; and 6.5 ft. sensor reading; note that greeley sensor read 36, and the 1ft. Depth read 35.6\", 10.0, 36.0, \"Western Sugar\", \"assuming 11am reading; and 6.5 ft. sensor reading\"], [46, \"2022-12-08\", 13.0, \"L\", 35.3, \"non-vented\", \"CSU\", \"Greeley\", \"assuming 11am reading; and 6.5 ft. sensor reading\", 13.0, 34.0, \"Western Sugar\", \"assuming 11am reading; and 6.5 ft. sensor reading\"], [47, \"2022-12-08\", 11.0, \"J\", 31.6, \"non-vented\", \"CSU\", \"Greeley\", \"assuming 11am reading; and 6.5 ft. sensor reading\", 11.0, 30.0, \"Western Sugar\", \"assuming 11am reading; and 6.5 ft. sensor reading\"], [48, \"2022-12-08\", 14.0, \"M\", 32.5, \"non-vented\", \"CSU\", \"Greeley\", \"assuming 11am reading; and 6.5 ft. sensor reading\", 14.0, 28.0, \"Western Sugar\", \"assuming 11am reading; and 6.5 ft. sensor reading\"], [49, \"2022-12-10\", 7.0, \"F\", 36.0, \"non-vented\", \"CSU\", \"Fort Morgan\", \"temp values provided by Steward Norrish\", 7.0, 34.0, \"Western Sugar\", \"temp values provided by Steward Norrish\"], [50, \"2022-12-10\", 5.0, \"D\", 29.8, \"vented\", \"CSU\", \"Fort Morgan\", \"temp values provided by Steward Norrish\", 5.0, 32.0, \"Western Sugar\", \"temp values provided by Steward Norrish\"], [51, \"2022-12-10\", 4.0, \"C\", 30.9, \"vented\", \"CSU\", \"Fort Morgan\", \"temp values provided by Steward Norrish\", 9.0, 35.4, \"Western Sugar\", \"temp values provided by Steward Norrish\"], [52, \"2022-12-10\", 3.0, \"B\", 32.8, \"vented\", \"CSU\", \"Fort Morgan\", \"temp values provided by Steward Norrish\", 2.0, 34.8, \"Western Sugar\", \"temp values provided by Steward Norrish\"], [53, \"2022-12-10\", 8.0, \"G\", 39.5, \"non-vented\", \"CSU\", \"Fort Morgan\", \"temp values provided by Steward Norrish\", 8.0, 36.0, \"Western Sugar\", \"temp values provided by Steward Norrish\"], [54, \"2022-12-10\", 6.0, \"E\", 38.1, \"non-vented\", \"CSU\", \"Fort Morgan\", \"temp values provided by Steward Norrish\", 6.0, 40.0, \"Western Sugar\", \"temp values provided by Steward Norrish\"], [55, \"2022-12-10\", 2.0, \"A\", 35.3, \"vented\", \"CSU\", \"Fort Morgan\", \"temp values provided by Steward Norrish\", 6.0, 35.0, \"Western Sugar\", \"temp values provided by Steward Norrish\"], [56, \"2022-12-12\", 9.0, \"H\", 43.4, \"non-vented\", \"CSU\", \"Greeley\", \"assuming 11am reading; and 6.5 ft. sensor reading\", 9.0, 46.0, \"Western Sugar\", \"assuming 11am reading; and 6.5 ft. sensor reading\"], [57, \"2022-12-12\", 11.0, \"J\", 30.1, \"non-vented\", \"CSU\", \"Greeley\", \"assuming 11am reading; and 6.5 ft. sensor reading\", 11.0, 30.0, \"Western Sugar\", \"assuming 11am reading; and 6.5 ft. sensor reading\"], [58, \"2022-12-12\", 10.0, \"I\", 39.5, \"non-vented\", \"CSU\", \"Greeley\", \"assuming 5am reading (neareast to 11am); and 6.5 ft. sensor reading\", 10.0, 38.0, \"Western Sugar\", \"assuming 11am reading; and 6.5 ft. sensor reading\"], [59, \"2022-12-12\", 4.0, \"C\", 31.0, \"vented\", \"CSU\", \"Fort Morgan\", \"temp values provided by Steward Norrish\", 9.0, 32.4, \"Western Sugar\", \"temp values provided by Steward Norrish\"], [60, \"2022-12-12\", 2.0, \"A\", 37.1, \"vented\", \"CSU\", \"Fort Morgan\", \"temp values provided by Steward Norrish\", 6.0, 36.6, \"Western Sugar\", \"temp values provided by Steward Norrish\"], [61, \"2022-12-12\", 7.0, \"F\", 35.7, \"non-vented\", \"CSU\", \"Fort Morgan\", \"temp values provided by Steward Norrish\", 7.0, 34.0, \"Western Sugar\", \"temp values provided by Steward Norrish\"], [62, \"2022-12-12\", 6.0, \"E\", 39.8, \"non-vented\", \"CSU\", \"Fort Morgan\", \"temp values provided by Steward Norrish\", 6.0, 40.0, \"Western Sugar\", \"temp values provided by Steward Norrish\"], [63, \"2022-12-12\", 13.0, \"L\", 33.9, \"non-vented\", \"CSU\", \"Greeley\", \"assuming 11am reading; and 6.5 ft. sensor reading; note that WS sensor read 30, and the 4ft. Depth read 30.3\", 13.0, 30.0, \"Western Sugar\", \"assuming 11am reading; and 6.5 ft. sensor reading\"], [64, \"2022-12-12\", 3.0, \"B\", 31.3, \"vented\", \"CSU\", \"Fort Morgan\", \"temp values provided by Steward Norrish\", 2.0, 31.2, \"Western Sugar\", \"temp values provided by Steward Norrish\"], [65, \"2022-12-12\", 5.0, \"D\", 29.1, \"vented\", \"CSU\", \"Fort Morgan\", \"temp values provided by Steward Norrish\", 5.0, 30.8, \"Western Sugar\", \"temp values provided by Steward Norrish\"], [66, \"2022-12-12\", 8.0, \"G\", 29.5, \"non-vented\", \"CSU\", \"Fort Morgan\", \"temp values provided by Steward Norrish\", 8.0, 30.0, \"Western Sugar\", \"temp values provided by Steward Norrish\"], [67, \"2022-12-12\", 14.0, \"M\", 32.1, \"non-vented\", \"CSU\", \"Greeley\", \"assuming 11am reading; and 6.5 ft. sensor reading\", 14.0, 28.0, \"Western Sugar\", \"assuming 11am reading; and 6.5 ft. sensor reading\"]];\n",
       "\n",
       "    // Define the dt_args\n",
       "    let dt_args = {\"order\": [[0, \"asc\"]]};\n",
       "    dt_args[\"data\"] = data;\n",
       "\n",
       "    $(document).ready(function () {\n",
       "        \n",
       "        $('#764079bb-e3c8-4b00-b0bb-78254bbb56a8').DataTable(dt_args);\n",
       "    });\n",
       "</script>\n"
      ],
      "text/plain": [
       "<IPython.core.display.HTML object>"
      ]
     },
     "metadata": {},
     "output_type": "display_data"
    }
   ],
   "source": [
    "show(merged_df)"
   ]
  }
 ],
 "metadata": {
  "kernelspec": {
   "display_name": "playground2",
   "language": "python",
   "name": "python3"
  },
  "language_info": {
   "codemirror_mode": {
    "name": "ipython",
    "version": 3
   },
   "file_extension": ".py",
   "mimetype": "text/x-python",
   "name": "python",
   "nbconvert_exporter": "python",
   "pygments_lexer": "ipython3",
   "version": "3.10.4"
  },
  "vscode": {
   "interpreter": {
    "hash": "336ea7ca3ca55c5716c7b632d4a04f9f82ba04388313de87f6e2e5f4620663a5"
   }
  }
 },
 "nbformat": 4,
 "nbformat_minor": 5
}
